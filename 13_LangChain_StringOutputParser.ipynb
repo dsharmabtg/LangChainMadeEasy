{
 "cells": [
  {
   "cell_type": "code",
   "execution_count": 1,
   "id": "f43e4d36",
   "metadata": {},
   "outputs": [],
   "source": [
    "import os"
   ]
  },
  {
   "cell_type": "code",
   "execution_count": 2,
   "id": "ce5b80dd",
   "metadata": {},
   "outputs": [],
   "source": [
    "def get_file_contents(filename):\n",
    "    \"\"\" Given a filename,\n",
    "        return the contents of that file\n",
    "    \"\"\"\n",
    "    try:\n",
    "        with open(filename, 'r') as f:\n",
    "            # It's assumed our file contains a single line,\n",
    "            # with our API key\n",
    "            return f.read().strip()\n",
    "    except FileNotFoundError:\n",
    "        print(\"'%s' file not found\" % filename)"
   ]
  },
  {
   "cell_type": "code",
   "execution_count": null,
   "id": "48593206",
   "metadata": {},
   "outputs": [],
   "source": [
    "filename = \"..\\\\GoogleAPIKey.txt\""
   ]
  },
  {
   "cell_type": "code",
   "execution_count": 4,
   "id": "2ea5ce94",
   "metadata": {},
   "outputs": [],
   "source": [
    "os.environ['GOOGLE_API_KEY'] = get_file_contents(filename)"
   ]
  },
  {
   "cell_type": "code",
   "execution_count": null,
   "id": "c702c8e6",
   "metadata": {},
   "outputs": [],
   "source": [
    "filename_grokKey = \"..\\\\GroqAPIKey.txt\""
   ]
  },
  {
   "cell_type": "code",
   "execution_count": 6,
   "id": "e16dfe76",
   "metadata": {},
   "outputs": [],
   "source": [
    "os.environ['GROQ_API_KEY'] = get_file_contents(filename_grokKey)"
   ]
  },
  {
   "cell_type": "markdown",
   "id": "1cfd78d9",
   "metadata": {},
   "source": [
    "### Output Parsing"
   ]
  },
  {
   "cell_type": "code",
   "execution_count": 9,
   "id": "bcf0cf16",
   "metadata": {},
   "outputs": [],
   "source": [
    "from langchain import PromptTemplate\n",
    "from langchain_core.output_parsers import StrOutputParser\n",
    "from langchain_groq import ChatGroq"
   ]
  },
  {
   "cell_type": "code",
   "execution_count": 10,
   "id": "dc27c76f",
   "metadata": {},
   "outputs": [],
   "source": [
    "dictionary_template = PromptTemplate(\n",
    "    input_variables=[\"word\"],\n",
    "    template=\"\"\"Give me a one line definition of {word}. Response should not contain the word itself, only the meaning.\"\"\"\n",
    ")"
   ]
  },
  {
   "cell_type": "code",
   "execution_count": 11,
   "id": "9ff74efa",
   "metadata": {},
   "outputs": [],
   "source": [
    "#gemini_llm = ChatGoogleGenerativeAI(model='gemini-1.5-pro-001')\n",
    "lamma_llm = ChatGroq(model=\"llama-3.1-8b-instant\")"
   ]
  },
  {
   "cell_type": "code",
   "execution_count": 12,
   "id": "22da7568",
   "metadata": {},
   "outputs": [
    {
     "data": {
      "text/plain": [
       "AIMessage(content='Words that imitate the sounds they describe, creating a sensory experience for the reader or listener.', additional_kwargs={}, response_metadata={'token_usage': {'completion_tokens': 20, 'prompt_tokens': 60, 'total_tokens': 80, 'completion_time': 0.026666667, 'prompt_time': 0.004337585, 'queue_time': 0.26817081600000003, 'total_time': 0.031004252}, 'model_name': 'llama-3.1-8b-instant', 'system_fingerprint': 'fp_a4265e44d5', 'finish_reason': 'stop', 'logprobs': None}, id='run-cc874e4f-6612-44a9-a933-bebc592ca1ad-0', usage_metadata={'input_tokens': 60, 'output_tokens': 20, 'total_tokens': 80})"
      ]
     },
     "execution_count": 12,
     "metadata": {},
     "output_type": "execute_result"
    }
   ],
   "source": [
    "chain = dictionary_template | lamma_llm\n",
    "chain.invoke(\"Onomatopoeia\")"
   ]
  },
  {
   "cell_type": "markdown",
   "id": "2b5e9599",
   "metadata": {},
   "source": [
    "### Use String output parser"
   ]
  },
  {
   "cell_type": "code",
   "execution_count": 13,
   "id": "ffbaf810",
   "metadata": {},
   "outputs": [],
   "source": [
    "dictionary_template_2 = PromptTemplate(\n",
    "    input_variables=[\"word\"],\n",
    "    template=\"\"\"Give me a one line definition of {word}. Response should not contain the word itself, only the meaning.\"\"\"\n",
    ")"
   ]
  },
  {
   "cell_type": "code",
   "execution_count": 14,
   "id": "865f5c70",
   "metadata": {},
   "outputs": [
    {
     "data": {
      "text/plain": [
       "'A word that phonetically imitates, resembles or suggests the sound that it describes.'"
      ]
     },
     "execution_count": 14,
     "metadata": {},
     "output_type": "execute_result"
    }
   ],
   "source": [
    "chain_2 = dictionary_template_2 | lamma_llm | StrOutputParser()\n",
    "chain_2.invoke(\"Onomatopoeia\")"
   ]
  }
 ],
 "metadata": {
  "kernelspec": {
   "display_name": "Python 3",
   "language": "python",
   "name": "python3"
  },
  "language_info": {
   "codemirror_mode": {
    "name": "ipython",
    "version": 3
   },
   "file_extension": ".py",
   "mimetype": "text/x-python",
   "name": "python",
   "nbconvert_exporter": "python",
   "pygments_lexer": "ipython3",
   "version": "3.10.0"
  }
 },
 "nbformat": 4,
 "nbformat_minor": 5
}
