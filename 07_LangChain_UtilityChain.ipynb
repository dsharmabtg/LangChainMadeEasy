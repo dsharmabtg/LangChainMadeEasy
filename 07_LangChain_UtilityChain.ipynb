{
 "cells": [
  {
   "cell_type": "code",
   "execution_count": 1,
   "id": "f43e4d36",
   "metadata": {},
   "outputs": [],
   "source": [
    "import os"
   ]
  },
  {
   "cell_type": "code",
   "execution_count": 2,
   "id": "ce5b80dd",
   "metadata": {},
   "outputs": [],
   "source": [
    "def get_file_contents(filename):\n",
    "    \"\"\" Given a filename,\n",
    "        return the contents of that file\n",
    "    \"\"\"\n",
    "    try:\n",
    "        with open(filename, 'r') as f:\n",
    "            # It's assumed our file contains a single line,\n",
    "            # with our API key\n",
    "            return f.read().strip()\n",
    "    except FileNotFoundError:\n",
    "        print(\"'%s' file not found\" % filename)"
   ]
  },
  {
   "cell_type": "code",
   "execution_count": null,
   "id": "48593206",
   "metadata": {},
   "outputs": [],
   "source": [
    "filename = \"..\\\\GoogleAPIKey.txt\""
   ]
  },
  {
   "cell_type": "code",
   "execution_count": 4,
   "id": "2ea5ce94",
   "metadata": {},
   "outputs": [],
   "source": [
    "os.environ['GOOGLE_API_KEY'] = get_file_contents(filename)"
   ]
  },
  {
   "cell_type": "markdown",
   "id": "1cfd78d9",
   "metadata": {},
   "source": [
    "### Utility chain -- LLMChain"
   ]
  },
  {
   "cell_type": "code",
   "execution_count": 5,
   "id": "bcf0cf16",
   "metadata": {},
   "outputs": [],
   "source": [
    "from langchain import PromptTemplate\n",
    "from langchain.chains import LLMMathChain\n",
    "from langchain_google_genai import GoogleGenerativeAI"
   ]
  },
  {
   "cell_type": "code",
   "execution_count": 6,
   "id": "f37076aa",
   "metadata": {},
   "outputs": [],
   "source": [
    "llm = GoogleGenerativeAI(model='gemini-1.5-pro-001')"
   ]
  },
  {
   "cell_type": "code",
   "execution_count": 8,
   "id": "608b11a8",
   "metadata": {},
   "outputs": [],
   "source": [
    "calculator = LLMMathChain.from_llm(llm, verbose=True)"
   ]
  },
  {
   "cell_type": "code",
   "execution_count": 10,
   "id": "9c3a6f6e",
   "metadata": {},
   "outputs": [
    {
     "name": "stdout",
     "output_type": "stream",
     "text": [
      "\n",
      "\n",
      "\u001b[1m> Entering new LLMMathChain chain...\u001b[0m\n",
      "Calculate (625 raised to power (0.225))-(log_10(100))\u001b[32;1m\u001b[1;3m```text\n",
      "625**(0.225) - log10(100)\n",
      "```\n",
      "...numexpr.evaluate(\"625**(0.225) - log10(100)\")...\u001b[0m\n",
      "Answer: \u001b[33;1m\u001b[1;3m2.2566996126039234\u001b[0m\n",
      "\u001b[1m> Finished chain.\u001b[0m\n"
     ]
    },
    {
     "data": {
      "text/plain": [
       "{'question': 'Calculate (625 raised to power (0.225))-(log_10(100))',\n",
       " 'answer': 'Answer: 2.2566996126039234'}"
      ]
     },
     "execution_count": 10,
     "metadata": {},
     "output_type": "execute_result"
    }
   ],
   "source": [
    "calculator.invoke(\"Calculate (625 raised to power (0.225))-(log_10(100))\")"
   ]
  },
  {
   "cell_type": "code",
   "execution_count": 11,
   "id": "26911be4",
   "metadata": {},
   "outputs": [
    {
     "name": "stdout",
     "output_type": "stream",
     "text": [
      "Translate a math problem into a expression that can be executed using Python's numexpr library. Use the output of running this code to answer the question.\n",
      "\n",
      "Question: ${{Question with math problem.}}\n",
      "```text\n",
      "${{single line mathematical expression that solves the problem}}\n",
      "```\n",
      "...numexpr.evaluate(text)...\n",
      "```output\n",
      "${{Output of running the code}}\n",
      "```\n",
      "Answer: ${{Answer}}\n",
      "\n",
      "Begin.\n",
      "\n",
      "Question: What is 37593 * 67?\n",
      "```text\n",
      "37593 * 67\n",
      "```\n",
      "...numexpr.evaluate(\"37593 * 67\")...\n",
      "```output\n",
      "2518731\n",
      "```\n",
      "Answer: 2518731\n",
      "\n",
      "Question: 37593^(1/5)\n",
      "```text\n",
      "37593**(1/5)\n",
      "```\n",
      "...numexpr.evaluate(\"37593**(1/5)\")...\n",
      "```output\n",
      "8.222831614237718\n",
      "```\n",
      "Answer: 8.222831614237718\n",
      "\n",
      "Question: {question}\n",
      "\n"
     ]
    }
   ],
   "source": [
    "print(calculator.prompt.template)"
   ]
  },
  {
   "cell_type": "code",
   "execution_count": 12,
   "id": "05660cb9",
   "metadata": {},
   "outputs": [],
   "source": [
    "calc_llm = GoogleGenerativeAI(model='gemini-1.5-pro-001')"
   ]
  },
  {
   "cell_type": "code",
   "execution_count": 13,
   "id": "8cfc713b",
   "metadata": {},
   "outputs": [],
   "source": [
    "messages = [\n",
    "    (\"human\",\"Calculate (625 raised to power (0.225))-(log_10(100))\")\n",
    "]"
   ]
  },
  {
   "cell_type": "code",
   "execution_count": 14,
   "id": "c5a0e8be",
   "metadata": {},
   "outputs": [],
   "source": [
    "\n",
    "calculation = calc_llm.invoke(messages)"
   ]
  },
  {
   "cell_type": "code",
   "execution_count": 16,
   "id": "0ae003ad",
   "metadata": {},
   "outputs": [
    {
     "name": "stdout",
     "output_type": "stream",
     "text": [
      "Here's how to solve this problem:\n",
      "\n",
      "**Understanding the Components**\n",
      "\n",
      "* **625 raised to the power (0.225):** This means finding the number that results from multiplying 625 by itself 0.225 times (it's a fractional exponent). \n",
      "* **log₁₀(100):** This asks \"to what power must we raise 10 to get 100?\" The answer is 2, since 10² = 100.\n",
      "\n",
      "**Calculation**\n",
      "\n",
      "1. **625 raised to the power (0.225):**  You'll need a calculator for this part.  \n",
      "   * Calculate 625^0.225 ≈ 5 \n",
      "2. **log₁₀(100) = 2**\n",
      "\n",
      "3. **Subtract the results:** 5 - 2 = 3\n",
      "\n",
      "**Answer:** (625 raised to power (0.225)) - (log₁₀(100)) ≈ 3 \n"
     ]
    }
   ],
   "source": [
    "print(calculation)"
   ]
  },
  {
   "cell_type": "markdown",
   "id": "0aa287ef",
   "metadata": {},
   "source": [
    "#### List of all chains: https://python.langchain.com/v0.1/docs/modules/chains/ "
   ]
  },
  {
   "cell_type": "code",
   "execution_count": null,
   "id": "4ffec2c7",
   "metadata": {},
   "outputs": [],
   "source": []
  }
 ],
 "metadata": {
  "kernelspec": {
   "display_name": "Python 3",
   "language": "python",
   "name": "python3"
  },
  "language_info": {
   "codemirror_mode": {
    "name": "ipython",
    "version": 3
   },
   "file_extension": ".py",
   "mimetype": "text/x-python",
   "name": "python",
   "nbconvert_exporter": "python",
   "pygments_lexer": "ipython3",
   "version": "3.10.0"
  }
 },
 "nbformat": 4,
 "nbformat_minor": 5
}
