{
 "cells": [
  {
   "cell_type": "code",
   "execution_count": 1,
   "id": "f43e4d36",
   "metadata": {},
   "outputs": [],
   "source": [
    "import os"
   ]
  },
  {
   "cell_type": "code",
   "execution_count": 2,
   "id": "ce5b80dd",
   "metadata": {},
   "outputs": [],
   "source": [
    "def get_file_contents(filename):\n",
    "    \"\"\" Given a filename,\n",
    "        return the contents of that file\n",
    "    \"\"\"\n",
    "    try:\n",
    "        with open(filename, 'r') as f:\n",
    "            # It's assumed our file contains a single line,\n",
    "            # with our API key\n",
    "            return f.read().strip()\n",
    "    except FileNotFoundError:\n",
    "        print(\"'%s' file not found\" % filename)"
   ]
  },
  {
   "cell_type": "code",
   "execution_count": null,
   "id": "48593206",
   "metadata": {},
   "outputs": [],
   "source": [
    "filename = \"..\\\\GoogleAPIKey.txt\""
   ]
  },
  {
   "cell_type": "code",
   "execution_count": 4,
   "id": "2ea5ce94",
   "metadata": {},
   "outputs": [],
   "source": [
    "os.environ['GOOGLE_API_KEY'] = get_file_contents(filename)"
   ]
  },
  {
   "cell_type": "markdown",
   "id": "1cfd78d9",
   "metadata": {},
   "source": [
    "### Generic chain -- LLMChain"
   ]
  },
  {
   "cell_type": "code",
   "execution_count": 7,
   "id": "bcf0cf16",
   "metadata": {},
   "outputs": [],
   "source": [
    "from langchain import PromptTemplate\n",
    "from langchain.chains import LLMChain\n",
    "from langchain_google_genai import GoogleGenerativeAI"
   ]
  },
  {
   "cell_type": "code",
   "execution_count": 6,
   "id": "b34231a2",
   "metadata": {},
   "outputs": [],
   "source": [
    "dictionary_template = PromptTemplate(\n",
    "    input_variables=[\"word\"],\n",
    "    template=\"Give me a one line definition of {word}. Then, give one example of how it is used.\"\n",
    ")"
   ]
  },
  {
   "cell_type": "code",
   "execution_count": 8,
   "id": "f37076aa",
   "metadata": {},
   "outputs": [],
   "source": [
    "llm = GoogleGenerativeAI(model='gemini-1.5-pro-002')"
   ]
  },
  {
   "cell_type": "code",
   "execution_count": 10,
   "id": "1e8a7c8a",
   "metadata": {},
   "outputs": [
    {
     "name": "stdout",
     "output_type": "stream",
     "text": [
      "Sesquipedalian: Characterized by long words; given to or using long words.\n",
      "\n",
      "Example:  The professor's sesquipedalian lecture, filled with polysyllabic terminology, left the students bewildered. \n"
     ]
    }
   ],
   "source": [
    "p = dictionary_template.format(word=\"Sesquipedalian\")\n",
    "print(llm.invoke(p))"
   ]
  },
  {
   "cell_type": "code",
   "execution_count": 12,
   "id": "879a3ada",
   "metadata": {},
   "outputs": [
    {
     "name": "stdout",
     "output_type": "stream",
     "text": [
      "An anachronism is something placed outside its proper time period.\n",
      "\n",
      "**Example:** A character in a movie set in ancient Rome wearing a digital wristwatch.\n"
     ]
    }
   ],
   "source": [
    "chain = LLMChain(llm=llm,prompt=dictionary_template)\n",
    "print(chain.run(\"Anachronism\"))"
   ]
  },
  {
   "cell_type": "code",
   "execution_count": 14,
   "id": "236bf4b8",
   "metadata": {},
   "outputs": [
    {
     "data": {
      "text/plain": [
       "{'word': 'Anachronism',\n",
       " 'text': 'An anachronism is something placed outside its proper time period.\\n\\n**Example:** A character in a movie set in ancient Rome wearing a digital wristwatch. '}"
      ]
     },
     "execution_count": 14,
     "metadata": {},
     "output_type": "execute_result"
    }
   ],
   "source": [
    "chain.invoke(\"Anachronism\")"
   ]
  },
  {
   "cell_type": "code",
   "execution_count": 15,
   "id": "a573a426",
   "metadata": {},
   "outputs": [],
   "source": [
    "input_list = [\n",
    "    {\"word\":\"Sesquipedalian\"},\n",
    "    {\"word\":\"Anachronism\"},\n",
    "    {\"word\":\"Onomatopoeia\"}\n",
    "]"
   ]
  },
  {
   "cell_type": "code",
   "execution_count": 16,
   "id": "5c3e14f0",
   "metadata": {},
   "outputs": [
    {
     "data": {
      "text/plain": [
       "[{'text': \"Sesquipedalian: Characterized by long words; given to using long words.\\n\\nExample:  The professor's sesquipedalian lectures, filled with polysyllabic terminology, often left the students bewildered. \"},\n",
       " {'text': 'An anachronism is something placed outside its proper time period.\\n\\n**Example:** A character in a movie set in ancient Rome wearing a digital watch.'},\n",
       " {'text': 'Onomatopoeia is a word that phonetically imitates or suggests the source of the sound it describes.\\n\\nExample: The bees *buzzed* angrily around the hive.'}]"
      ]
     },
     "execution_count": 16,
     "metadata": {},
     "output_type": "execute_result"
    }
   ],
   "source": [
    "chain.apply(input_list)"
   ]
  },
  {
   "cell_type": "code",
   "execution_count": 17,
   "id": "99a5654f",
   "metadata": {},
   "outputs": [
    {
     "data": {
      "text/plain": [
       "LLMResult(generations=[[Generation(text=\"Sesquipedalian means characterized by long words; long-winded.\\n\\nExample:  The professor's sesquipedalian lectures often left students more confused than enlightened.\", generation_info={'finish_reason': 'STOP', 'model_name': 'gemini-1.5-pro-002', 'safety_ratings': [], 'usage_metadata': {'input_tokens': 23, 'output_tokens': 37, 'total_tokens': 60, 'input_token_details': {'cache_read': 0}}})], [Generation(text='An anachronism is something placed outside its proper time period.  A character in a movie set in ancient Rome wearing a digital watch is an anachronism.', generation_info={'finish_reason': 'STOP', 'model_name': 'gemini-1.5-pro-002', 'safety_ratings': [], 'usage_metadata': {'input_tokens': 22, 'output_tokens': 32, 'total_tokens': 54, 'input_token_details': {'cache_read': 0}}})], [Generation(text='Onomatopoeia is a word that phonetically imitates, resembles, or suggests the sound that it describes.\\n\\n**Example:** The bees *buzzed* angrily around the hive.', generation_info={'finish_reason': 'STOP', 'model_name': 'gemini-1.5-pro-002', 'safety_ratings': [], 'usage_metadata': {'input_tokens': 23, 'output_tokens': 39, 'total_tokens': 62, 'input_token_details': {'cache_read': 0}}})]], llm_output=None, run=[RunInfo(run_id=UUID('5236b45c-a9e9-45ca-b6af-dedec8588104')), RunInfo(run_id=UUID('ecb72e4e-34f6-4a51-b2ae-83fcdfd3e165')), RunInfo(run_id=UUID('ef96f447-8546-468d-8c68-abc53abafe5e'))], type='LLMResult')"
      ]
     },
     "execution_count": 17,
     "metadata": {},
     "output_type": "execute_result"
    }
   ],
   "source": [
    "chain.generate(input_list)"
   ]
  },
  {
   "cell_type": "code",
   "execution_count": null,
   "id": "9c3a6f6e",
   "metadata": {},
   "outputs": [],
   "source": []
  }
 ],
 "metadata": {
  "kernelspec": {
   "display_name": "Python 3",
   "language": "python",
   "name": "python3"
  },
  "language_info": {
   "codemirror_mode": {
    "name": "ipython",
    "version": 3
   },
   "file_extension": ".py",
   "mimetype": "text/x-python",
   "name": "python",
   "nbconvert_exporter": "python",
   "pygments_lexer": "ipython3",
   "version": "3.10.0"
  }
 },
 "nbformat": 4,
 "nbformat_minor": 5
}
