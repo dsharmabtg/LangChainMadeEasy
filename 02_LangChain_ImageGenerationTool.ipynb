{
 "cells": [
  {
   "cell_type": "code",
   "execution_count": 2,
   "id": "f4cb167e",
   "metadata": {},
   "outputs": [],
   "source": [
    "import os"
   ]
  },
  {
   "cell_type": "code",
   "execution_count": 3,
   "id": "a5dd3cea",
   "metadata": {},
   "outputs": [],
   "source": [
    "def get_file_contents(filename):\n",
    "    \"\"\" Given a filename,\n",
    "        return the contents of that file\n",
    "    \"\"\"\n",
    "    try:\n",
    "        with open(filename, 'r') as f:\n",
    "            # It's assumed our file contains a single line,\n",
    "            # with our API key\n",
    "            return f.read().strip()\n",
    "    except FileNotFoundError:\n",
    "        print(\"'%s' file not found\" % filename)"
   ]
  },
  {
   "cell_type": "code",
   "execution_count": null,
   "id": "1db91cd3",
   "metadata": {},
   "outputs": [],
   "source": [
    "filename = \"..\\\\GoogleAPIKey.txt\""
   ]
  },
  {
   "cell_type": "code",
   "execution_count": 5,
   "id": "215495c6",
   "metadata": {},
   "outputs": [],
   "source": [
    "os.environ['GOOGLE_API_KEY'] = get_file_contents(filename)"
   ]
  },
  {
   "cell_type": "code",
   "execution_count": 6,
   "id": "13fd490b",
   "metadata": {},
   "outputs": [],
   "source": [
    "from langchain_core.messages import AIMessage, HumanMessage\n",
    "from langchain_google_vertexai.vision_models import VertexAIImageGeneratorChat"
   ]
  },
  {
   "cell_type": "code",
   "execution_count": 7,
   "id": "9ee80b3c",
   "metadata": {},
   "outputs": [],
   "source": [
    "# Create Image Gentation model Object\n",
    "generator = VertexAIImageGeneratorChat()"
   ]
  },
  {
   "cell_type": "code",
   "execution_count": null,
   "id": "19cc7121",
   "metadata": {},
   "outputs": [],
   "source": [
    "messages = [HumanMessage(content=[\"a cat at the beach\"])]\n",
    "response = generator.invoke(messages)"
   ]
  },
  {
   "cell_type": "code",
   "execution_count": null,
   "id": "a16d01c0",
   "metadata": {},
   "outputs": [],
   "source": [
    "# To view the generated Image\n",
    "generated_image = response.content[0]"
   ]
  },
  {
   "cell_type": "code",
   "execution_count": null,
   "id": "aaedafa7",
   "metadata": {},
   "outputs": [],
   "source": [
    "import base64\n",
    "import io\n",
    "\n",
    "from PIL import Image\n",
    "\n",
    "# Parse response object to get base64 string for image\n",
    "img_base64 = generated_image[\"image_url\"][\"url\"].split(\",\")[-1]\n",
    "\n",
    "# Convert base64 string to Image\n",
    "img = Image.open(io.BytesIO(base64.decodebytes(bytes(img_base64, \"utf-8\"))))\n",
    "\n",
    "# view Image\n",
    "img"
   ]
  }
 ],
 "metadata": {
  "kernelspec": {
   "display_name": "Python 3",
   "language": "python",
   "name": "python3"
  },
  "language_info": {
   "codemirror_mode": {
    "name": "ipython",
    "version": 3
   },
   "file_extension": ".py",
   "mimetype": "text/x-python",
   "name": "python",
   "nbconvert_exporter": "python",
   "pygments_lexer": "ipython3",
   "version": "3.10.0"
  }
 },
 "nbformat": 4,
 "nbformat_minor": 5
}
