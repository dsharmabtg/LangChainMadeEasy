{
 "cells": [
  {
   "cell_type": "code",
   "execution_count": 1,
   "id": "996186a7",
   "metadata": {},
   "outputs": [],
   "source": [
    "import os"
   ]
  },
  {
   "cell_type": "code",
   "execution_count": 2,
   "id": "bfdb81c6",
   "metadata": {},
   "outputs": [],
   "source": [
    "def get_file_contents(filename):\n",
    "    \"\"\" Given a filename,\n",
    "        return the contents of that file\n",
    "    \"\"\"\n",
    "    try:\n",
    "        with open(filename, 'r') as f:\n",
    "            # It's assumed our file contains a single line,\n",
    "            # with our API key\n",
    "            return f.read().strip()\n",
    "    except FileNotFoundError:\n",
    "        print(\"'%s' file not found\" % filename)"
   ]
  },
  {
   "cell_type": "code",
   "execution_count": null,
   "id": "6dc53eed",
   "metadata": {},
   "outputs": [],
   "source": [
    "filename = \"..\\\\GoogleAPIKey.txt\""
   ]
  },
  {
   "cell_type": "code",
   "execution_count": 4,
   "id": "7b187cf0",
   "metadata": {},
   "outputs": [],
   "source": [
    "os.environ['GOOGLE_API_KEY'] = get_file_contents(filename)"
   ]
  },
  {
   "cell_type": "code",
   "execution_count": 7,
   "id": "08b6ac1a",
   "metadata": {},
   "outputs": [],
   "source": [
    "from langchain import PromptTemplate\n",
    "from langchain import FewShotPromptTemplate"
   ]
  },
  {
   "cell_type": "code",
   "execution_count": 10,
   "id": "09397bca",
   "metadata": {},
   "outputs": [],
   "source": [
    "#create examples\n",
    "examples = [\n",
    "    {\n",
    "        \"rev\":\"I love this product\",\n",
    "        \"answer\":\"Positive\"\n",
    "    },\n",
    "    {\n",
    "        \"rev\":\"It was an average experience\",\n",
    "        \"answer\":\"neutral\"\n",
    "    },\n",
    "    {\n",
    "        \"rev\":\"I wonder why this is so highly rated.\",\n",
    "        \"answer\":\"negative\"\n",
    "    },\n",
    "]\n",
    "\n",
    "#create a temolate from the above examples\n",
    "example_prompt = PromptTemplate(\n",
    "                    input_variables=[\"rev\",\"answer\"],\n",
    "                    template=\"\"\" \n",
    "                                User:{rev}\n",
    "                                AI:{answer}\n",
    "                                \"\"\"\n",
    ")"
   ]
  },
  {
   "cell_type": "code",
   "execution_count": 8,
   "id": "d386ba62",
   "metadata": {},
   "outputs": [],
   "source": [
    "#Now break our previous prompt into a prefix and suffix\n",
    "#the prefix is our instructions\n",
    "prefix=\"Identify the sentiment of the user review. Here are some exaamples:\"\n",
    "#and the suffix our user input and output indicator\n",
    "suffix=\"\"\"\n",
    "        User:{review}\n",
    "        AI:\n",
    "        \"\"\" "
   ]
  },
  {
   "cell_type": "code",
   "execution_count": 11,
   "id": "a12ef886",
   "metadata": {},
   "outputs": [],
   "source": [
    "#now create the few shot prompt template\n",
    "few_shot_prompt_template = FewShotPromptTemplate(\n",
    "    examples=examples,\n",
    "    example_prompt=example_prompt,\n",
    "    prefix=prefix,\n",
    "    suffix=suffix,\n",
    "    input_variables=[\"review\"],\n",
    "    example_separator=\"\\n\"\n",
    ")"
   ]
  },
  {
   "cell_type": "code",
   "execution_count": 12,
   "id": "92157f7b",
   "metadata": {},
   "outputs": [],
   "source": [
    "user_review = \"What is the meaning of life?\""
   ]
  },
  {
   "cell_type": "code",
   "execution_count": 14,
   "id": "8b140eec",
   "metadata": {},
   "outputs": [],
   "source": [
    "message= few_shot_prompt_template.format(review=user_review)"
   ]
  },
  {
   "cell_type": "code",
   "execution_count": 16,
   "id": "216df9b7",
   "metadata": {},
   "outputs": [
    {
     "name": "stdout",
     "output_type": "stream",
     "text": [
      "Identify the sentiment of the user review. Here are some exaamples:\n",
      " \n",
      "                                User:I love this product\n",
      "                                AI:Positive\n",
      "                                \n",
      " \n",
      "                                User:It was an average experience\n",
      "                                AI:neutral\n",
      "                                \n",
      " \n",
      "                                User:I wonder why this is so highly rated.\n",
      "                                AI:negative\n",
      "                                \n",
      "\n",
      "        User:What is the meaning of life?\n",
      "        AI:\n",
      "        \n"
     ]
    }
   ],
   "source": [
    "print(message)"
   ]
  },
  {
   "cell_type": "code",
   "execution_count": 17,
   "id": "c1d2ea0d",
   "metadata": {},
   "outputs": [],
   "source": [
    "user_review_2 = \"Well structured. Five stars.\""
   ]
  },
  {
   "cell_type": "code",
   "execution_count": 18,
   "id": "9a5d9d08",
   "metadata": {},
   "outputs": [],
   "source": [
    "message_2 = few_shot_prompt_template.format(review=user_review_2)"
   ]
  },
  {
   "cell_type": "code",
   "execution_count": 19,
   "id": "452a4d8d",
   "metadata": {},
   "outputs": [
    {
     "name": "stdout",
     "output_type": "stream",
     "text": [
      "Identify the sentiment of the user review. Here are some exaamples:\n",
      " \n",
      "                                User:I love this product\n",
      "                                AI:Positive\n",
      "                                \n",
      " \n",
      "                                User:It was an average experience\n",
      "                                AI:neutral\n",
      "                                \n",
      " \n",
      "                                User:I wonder why this is so highly rated.\n",
      "                                AI:negative\n",
      "                                \n",
      "\n",
      "        User:Well structured. Five stars.\n",
      "        AI:\n",
      "        \n"
     ]
    }
   ],
   "source": [
    "print(message_2)"
   ]
  },
  {
   "cell_type": "code",
   "execution_count": 20,
   "id": "341c9028",
   "metadata": {},
   "outputs": [],
   "source": [
    "from langchain_google_genai import ChatGoogleGenerativeAI"
   ]
  },
  {
   "cell_type": "code",
   "execution_count": 21,
   "id": "899ca841",
   "metadata": {},
   "outputs": [],
   "source": [
    "chat = ChatGoogleGenerativeAI(model='gemini-1.5-pro-002')"
   ]
  },
  {
   "cell_type": "code",
   "execution_count": 24,
   "id": "7f7a819a",
   "metadata": {},
   "outputs": [],
   "source": [
    "chat_message_2 = chat.invoke(message_2)"
   ]
  },
  {
   "cell_type": "code",
   "execution_count": 25,
   "id": "8d03176b",
   "metadata": {},
   "outputs": [
    {
     "data": {
      "text/plain": [
       "AIMessage(content='Positive', additional_kwargs={}, response_metadata={'prompt_feedback': {'block_reason': 0, 'safety_ratings': []}, 'finish_reason': 'STOP', 'model_name': 'gemini-1.5-pro-002', 'safety_ratings': []}, id='run-21c32354-5684-4c5e-8633-1b836f9a0d0a-0', usage_metadata={'input_tokens': 91, 'output_tokens': 2, 'total_tokens': 93, 'input_token_details': {'cache_read': 0}})"
      ]
     },
     "execution_count": 25,
     "metadata": {},
     "output_type": "execute_result"
    }
   ],
   "source": [
    "chat_message_2"
   ]
  },
  {
   "cell_type": "code",
   "execution_count": 26,
   "id": "14f99210",
   "metadata": {},
   "outputs": [],
   "source": [
    "chat_message_1 = chat.invoke(message)"
   ]
  },
  {
   "cell_type": "code",
   "execution_count": 27,
   "id": "d20117ca",
   "metadata": {},
   "outputs": [
    {
     "data": {
      "text/plain": [
       "AIMessage(content=\"Neutral.  The user isn't expressing an opinion on anything; they're asking a philosophical question.\", additional_kwargs={}, response_metadata={'prompt_feedback': {'block_reason': 0, 'safety_ratings': []}, 'finish_reason': 'STOP', 'model_name': 'gemini-1.5-pro-002', 'safety_ratings': []}, id='run-b0709c0d-e22a-4ffc-93e2-2c10af25a31f-0', usage_metadata={'input_tokens': 92, 'output_tokens': 23, 'total_tokens': 115, 'input_token_details': {'cache_read': 0}})"
      ]
     },
     "execution_count": 27,
     "metadata": {},
     "output_type": "execute_result"
    }
   ],
   "source": [
    "chat_message_1"
   ]
  },
  {
   "cell_type": "code",
   "execution_count": null,
   "id": "25251207",
   "metadata": {},
   "outputs": [],
   "source": []
  }
 ],
 "metadata": {
  "kernelspec": {
   "display_name": "Python 3",
   "language": "python",
   "name": "python3"
  },
  "language_info": {
   "codemirror_mode": {
    "name": "ipython",
    "version": 3
   },
   "file_extension": ".py",
   "mimetype": "text/x-python",
   "name": "python",
   "nbconvert_exporter": "python",
   "pygments_lexer": "ipython3",
   "version": "3.10.0"
  }
 },
 "nbformat": 4,
 "nbformat_minor": 5
}
