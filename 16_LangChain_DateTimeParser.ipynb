{
 "cells": [
  {
   "cell_type": "code",
   "execution_count": 1,
   "id": "f43e4d36",
   "metadata": {},
   "outputs": [],
   "source": [
    "import os"
   ]
  },
  {
   "cell_type": "code",
   "execution_count": 2,
   "id": "ce5b80dd",
   "metadata": {},
   "outputs": [],
   "source": [
    "def get_file_contents(filename):\n",
    "    \"\"\" Given a filename,\n",
    "        return the contents of that file\n",
    "    \"\"\"\n",
    "    try:\n",
    "        with open(filename, 'r') as f:\n",
    "            # It's assumed our file contains a single line,\n",
    "            # with our API key\n",
    "            return f.read().strip()\n",
    "    except FileNotFoundError:\n",
    "        print(\"'%s' file not found\" % filename)"
   ]
  },
  {
   "cell_type": "code",
   "execution_count": null,
   "id": "48593206",
   "metadata": {},
   "outputs": [],
   "source": [
    "filename = \"..\\\\GoogleAPIKey.txt\""
   ]
  },
  {
   "cell_type": "code",
   "execution_count": 4,
   "id": "2ea5ce94",
   "metadata": {},
   "outputs": [],
   "source": [
    "os.environ['GOOGLE_API_KEY'] = get_file_contents(filename)"
   ]
  },
  {
   "cell_type": "code",
   "execution_count": null,
   "id": "c702c8e6",
   "metadata": {},
   "outputs": [],
   "source": [
    "filename_grokKey = \"..\\\\GroqAPIKey.txt\""
   ]
  },
  {
   "cell_type": "code",
   "execution_count": 6,
   "id": "e16dfe76",
   "metadata": {},
   "outputs": [],
   "source": [
    "os.environ['GROQ_API_KEY'] = get_file_contents(filename_grokKey)"
   ]
  },
  {
   "cell_type": "markdown",
   "id": "1cfd78d9",
   "metadata": {},
   "source": [
    "### Date Time Output Parser"
   ]
  },
  {
   "cell_type": "code",
   "execution_count": null,
   "id": "bcf0cf16",
   "metadata": {},
   "outputs": [],
   "source": [
    "from langchain import PromptTemplate\n",
    "from langchain_core.output_parsers import StrOutputParser\n",
    "from langchain.output_parsers import DatetimeOutputParser\n",
    "from langchain_groq import ChatGroq"
   ]
  },
  {
   "cell_type": "code",
   "execution_count": 8,
   "id": "99a67a41",
   "metadata": {},
   "outputs": [],
   "source": [
    "#gemini_llm = ChatGoogleGenerativeAI(model='gemini-1.5-pro-001')\n",
    "lamma_llm = ChatGroq(model=\"llama-3.1-8b-instant\")"
   ]
  },
  {
   "cell_type": "code",
   "execution_count": 9,
   "id": "b3791b92",
   "metadata": {},
   "outputs": [],
   "source": [
    "output_parser = DatetimeOutputParser()"
   ]
  },
  {
   "cell_type": "code",
   "execution_count": 10,
   "id": "a81fd17f",
   "metadata": {},
   "outputs": [],
   "source": [
    "format_instructions = output_parser.get_format_instructions()"
   ]
  },
  {
   "cell_type": "code",
   "execution_count": 11,
   "id": "e05f05fe",
   "metadata": {},
   "outputs": [
    {
     "name": "stdout",
     "output_type": "stream",
     "text": [
      "Write a datetime string that matches the following pattern: '%Y-%m-%dT%H:%M:%S.%fZ'.\n",
      "\n",
      "Examples: 1557-01-03T07:58:33.672333Z, 1047-05-25T15:53:23.983067Z, 1862-07-29T08:32:13.514778Z\n",
      "\n",
      "Return ONLY this string, no other words!\n"
     ]
    }
   ],
   "source": [
    "print(format_instructions)"
   ]
  },
  {
   "cell_type": "code",
   "execution_count": 12,
   "id": "14336504",
   "metadata": {},
   "outputs": [],
   "source": [
    "prompt = PromptTemplate(\n",
    "    input_variables = [\"question\"],\n",
    "    partial_variables = {\"format_instructions\":format_instructions},\n",
    "    template = \"\"\" Answer the users question: {question}\n",
    "    {format_instructions}\"\"\"\n",
    ")"
   ]
  },
  {
   "cell_type": "code",
   "execution_count": 13,
   "id": "fdccfd5c",
   "metadata": {},
   "outputs": [
    {
     "data": {
      "text/plain": [
       "PromptTemplate(input_variables=['question'], input_types={}, partial_variables={'format_instructions': \"Write a datetime string that matches the following pattern: '%Y-%m-%dT%H:%M:%S.%fZ'.\\n\\nExamples: 1557-01-03T07:58:33.672333Z, 1047-05-25T15:53:23.983067Z, 1862-07-29T08:32:13.514778Z\\n\\nReturn ONLY this string, no other words!\"}, template=' Answer the users question: {question}\\n    {format_instructions}')"
      ]
     },
     "execution_count": 13,
     "metadata": {},
     "output_type": "execute_result"
    }
   ],
   "source": [
    "prompt"
   ]
  },
  {
   "cell_type": "code",
   "execution_count": 15,
   "id": "85156143",
   "metadata": {},
   "outputs": [
    {
     "name": "stdout",
     "output_type": "stream",
     "text": [
      "1947-08-15 00:00:00\n"
     ]
    }
   ],
   "source": [
    "chain = prompt | lamma_llm | output_parser\n",
    "output = chain.invoke({\"question\":\"When did India got independence?\"})\n",
    "print(output)"
   ]
  }
 ],
 "metadata": {
  "kernelspec": {
   "display_name": "Python 3",
   "language": "python",
   "name": "python3"
  },
  "language_info": {
   "codemirror_mode": {
    "name": "ipython",
    "version": 3
   },
   "file_extension": ".py",
   "mimetype": "text/x-python",
   "name": "python",
   "nbconvert_exporter": "python",
   "pygments_lexer": "ipython3",
   "version": "3.10.0"
  }
 },
 "nbformat": 4,
 "nbformat_minor": 5
}
