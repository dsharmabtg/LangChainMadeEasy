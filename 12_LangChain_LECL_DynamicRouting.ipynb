{
 "cells": [
  {
   "cell_type": "code",
   "execution_count": 1,
   "id": "f43e4d36",
   "metadata": {},
   "outputs": [],
   "source": [
    "import os"
   ]
  },
  {
   "cell_type": "code",
   "execution_count": 2,
   "id": "ce5b80dd",
   "metadata": {},
   "outputs": [],
   "source": [
    "def get_file_contents(filename):\n",
    "    \"\"\" Given a filename,\n",
    "        return the contents of that file\n",
    "    \"\"\"\n",
    "    try:\n",
    "        with open(filename, 'r') as f:\n",
    "            # It's assumed our file contains a single line,\n",
    "            # with our API key\n",
    "            return f.read().strip()\n",
    "    except FileNotFoundError:\n",
    "        print(\"'%s' file not found\" % filename)"
   ]
  },
  {
   "cell_type": "code",
   "execution_count": null,
   "id": "48593206",
   "metadata": {},
   "outputs": [],
   "source": [
    "filename = \"..\\\\GoogleAPIKey.txt\""
   ]
  },
  {
   "cell_type": "code",
   "execution_count": 4,
   "id": "2ea5ce94",
   "metadata": {},
   "outputs": [],
   "source": [
    "os.environ['GOOGLE_API_KEY'] = get_file_contents(filename)"
   ]
  },
  {
   "cell_type": "code",
   "execution_count": null,
   "id": "c702c8e6",
   "metadata": {},
   "outputs": [],
   "source": [
    "filename_grokKey = \"..\\\\GroqAPIKey.txt\""
   ]
  },
  {
   "cell_type": "code",
   "execution_count": 6,
   "id": "e16dfe76",
   "metadata": {},
   "outputs": [],
   "source": [
    "os.environ['GROQ_API_KEY'] = get_file_contents(filename_grokKey)"
   ]
  },
  {
   "cell_type": "markdown",
   "id": "1cfd78d9",
   "metadata": {},
   "source": [
    "### RunnablePassthrough, RunnableLambda and RunnableParallel"
   ]
  },
  {
   "cell_type": "code",
   "execution_count": 7,
   "id": "bcf0cf16",
   "metadata": {},
   "outputs": [],
   "source": [
    "from langchain import PromptTemplate\n",
    "from langchain.chains import LLMChain\n",
    "from langchain.chains import SequentialChain\n",
    "from langchain_google_genai import GoogleGenerativeAI\n",
    "from langchain_google_genai import ChatGoogleGenerativeAI\n",
    "from langchain_core.output_parsers import StrOutputParser\n",
    "from langchain_core.runnables import RunnablePassthrough,RunnableLambda,RunnableParallel\n",
    "from langchain_groq import ChatGroq"
   ]
  },
  {
   "cell_type": "code",
   "execution_count": 13,
   "id": "dc27c76f",
   "metadata": {},
   "outputs": [],
   "source": [
    "classifier_template = PromptTemplate(\n",
    "    input_variables=[\"question\",\"answer\"],\n",
    "    template=\"\"\"You are given a question and the user's response to that question. Classifiy the response as either `Correct` , or  `Incorrect`.\n",
    "    Do not respond with more than one word. \n",
    "    Question - {question}\n",
    "    User's Answer - {answer}\n",
    "    Classification:\"\"\"\n",
    ")"
   ]
  },
  {
   "cell_type": "code",
   "execution_count": 18,
   "id": "9ff74efa",
   "metadata": {},
   "outputs": [],
   "source": [
    "#gemini_llm = ChatGoogleGenerativeAI(model='gemini-1.5-pro-001')\n",
    "lamma_llm = ChatGroq(model=\"llama-3.1-8b-instant\")"
   ]
  },
  {
   "cell_type": "code",
   "execution_count": 19,
   "id": "2b657557",
   "metadata": {},
   "outputs": [],
   "source": [
    "output_parser = StrOutputParser()"
   ]
  },
  {
   "cell_type": "code",
   "execution_count": 20,
   "id": "757398ff",
   "metadata": {},
   "outputs": [],
   "source": [
    "classifier_chain = classifier_template | lamma_llm | output_parser"
   ]
  },
  {
   "cell_type": "code",
   "execution_count": 21,
   "id": "6053139a",
   "metadata": {},
   "outputs": [
    {
     "data": {
      "text/plain": [
       "'Incorrect'"
      ]
     },
     "execution_count": 21,
     "metadata": {},
     "output_type": "execute_result"
    }
   ],
   "source": [
    "classifier_chain.invoke({\"question\":\"what are penguins\",\"answer\":\"Penguins are sea animals\"})"
   ]
  },
  {
   "cell_type": "code",
   "execution_count": 22,
   "id": "8eed4162",
   "metadata": {},
   "outputs": [
    {
     "data": {
      "text/plain": [
       "'Correct'"
      ]
     },
     "execution_count": 22,
     "metadata": {},
     "output_type": "execute_result"
    }
   ],
   "source": [
    "classifier_chain.invoke({\"question\":\"what are penguins\",\"answer\":\"Penguins are birds\"})   "
   ]
  },
  {
   "cell_type": "code",
   "execution_count": 23,
   "id": "fcca9b37",
   "metadata": {},
   "outputs": [],
   "source": [
    "correct_template = PromptTemplate(\n",
    "    input_variables=[\"question\"],\n",
    "    template=\"\"\" The user was asked the following question and user answered it correctly. \n",
    "    Now ask a more difficult question on the same topic to the user.\n",
    "    Question: {question}\n",
    "    New Question:\"\"\"\n",
    ")\n",
    "\n",
    "correct_chain = correct_template | lamma_llm | output_parser\n",
    "\n",
    "incorrect_template = PromptTemplate(\n",
    "    input_variables=[\"question\"],\n",
    "    template=\"\"\" The user was asked the following question and user answered it incorrectly. \n",
    "    Give the correct answer  and explain it to the user.\n",
    "    Question: {question}\n",
    "    Correct Answer:\n",
    "    Explanation:\"\"\"\n",
    ")\n",
    "\n",
    "incorrect_chain = incorrect_template | lamma_llm | output_parser\n"
   ]
  },
  {
   "cell_type": "code",
   "execution_count": 24,
   "id": "0aa7dc27",
   "metadata": {},
   "outputs": [],
   "source": [
    "def route(info):\n",
    "    if info[\"result\"].lower() == \"correct\":\n",
    "        return correct_chain\n",
    "    elif info[\"result\"].lower() == \"incorrect\":\n",
    "        return incorrect_chain\n",
    "    else:\n",
    "        return \"Format is not correct\""
   ]
  },
  {
   "cell_type": "code",
   "execution_count": 25,
   "id": "c3417abb",
   "metadata": {},
   "outputs": [],
   "source": [
    "final_chain = RunnableParallel({\"result\":classifier_chain,\"question\":lambda x: x[\"question\"],\"answer\": lambda x: x[\"answer\"]}) | \\\n",
    "              RunnableParallel({\"response\":RunnableLambda(route),\"input\":RunnablePassthrough()})"
   ]
  },
  {
   "cell_type": "code",
   "execution_count": 26,
   "id": "bcbd0583",
   "metadata": {},
   "outputs": [
    {
     "data": {
      "text/plain": [
       "{'response': \"You answered correctly that penguins are a type of flightless bird. \\n\\nHere's a more challenging question on the same topic:\\n\\nWhat is the main difference between the Emperor Penguin and the King Penguin in terms of their breeding habits, and how do these differences affect their chick-rearing strategies?\",\n",
       " 'input': {'result': 'Correct',\n",
       "  'question': 'what are penguins',\n",
       "  'answer': 'Penguins are birds'}}"
      ]
     },
     "execution_count": 26,
     "metadata": {},
     "output_type": "execute_result"
    }
   ],
   "source": [
    "final_chain.invoke({\"question\":\"what are penguins\",\"answer\":\"Penguins are birds\"})"
   ]
  },
  {
   "cell_type": "code",
   "execution_count": 27,
   "id": "f1038251",
   "metadata": {},
   "outputs": [
    {
     "data": {
      "text/plain": [
       "{'response': \"Correct Answer: Penguins are flightless birds that belong to the family Spheniscidae.\\n\\nExplanation: Penguins are a group of aquatic birds that are found primarily in the Southern Hemisphere. They are characterized by their distinctive black and white feathers, which help them blend in with the sea and sky, making it easier for them to hunt and avoid predators. Penguins are flightless birds, meaning they are not able to fly like other birds. This is due to their unique body shape, which includes a streamlined body, short wings, and powerful flippers.\\n\\nPenguins are excellent swimmers, using their flippers to propel themselves through the water in search of food. They are carnivorous, feeding on a variety of prey such as fish, krill, and squid. Penguins are highly social animals, often living in large colonies and engaging in complex behaviors such as mating rituals and parental care.\\n\\nThere are 18 different species of penguins, ranging in size from the little blue penguin, which is the smallest, to the emperor penguin, which is the largest. Penguins are found in various habitats, including the Antarctic and sub-Antarctic regions, as well as in temperate and subtropical regions around the world.\\n\\nIt's worth noting that penguins have a unique way of breeding and reproducing. They lay a single egg per breeding season, which is incubated by the male penguin for several weeks while the female goes out to sea to feed. This unique breeding behavior is one of the reasons why penguins have been able to adapt to their environments and thrive in diverse habitats.\",\n",
       " 'input': {'result': 'Incorrect',\n",
       "  'question': 'what are penguins',\n",
       "  'answer': 'Penguins are sea animals'}}"
      ]
     },
     "execution_count": 27,
     "metadata": {},
     "output_type": "execute_result"
    }
   ],
   "source": [
    "final_chain.invoke({\"question\":\"what are penguins\",\"answer\":\"Penguins are sea animals\"})"
   ]
  },
  {
   "cell_type": "code",
   "execution_count": 30,
   "id": "ca6aa177",
   "metadata": {},
   "outputs": [
    {
     "data": {
      "text/plain": [
       "{'response': \"**Correct Answer:** SQL joins are used to combine rows from two or more tables based on a related column between them.\\n\\n**Explanation:**\\n\\nImagine you have two tables, `orders` and `customers`, and you want to see a list of customers along with their corresponding order information. However, the `orders` table contains a foreign key, `customer_id`, that references the `id` column in the `customers` table. This is where SQL joins come in.\\n\\nThere are three main types of SQL joins:\\n\\n1. **INNER JOIN**: Returns only the rows that have a match in both tables. If a row in the `orders` table doesn't have a matching `customer_id` in the `customers` table, it won't be included in the result.\\n2. **LEFT JOIN** (or **LEFT OUTER JOIN**): Returns all the rows from the left table (`orders`) and the matching rows from the right table (`customers`). If there's no match, the result will contain NULL values for the columns from the right table.\\n3. **RIGHT JOIN** (or **RIGHT OUTER JOIN**): Similar to the LEFT JOIN, but returns all the rows from the right table (`customers`) and the matching rows from the left table (`orders`).\\n4. **FULL OUTER JOIN**: Returns all the rows from both tables, with NULL values in the columns where there's no match.\\n\\nHere's an example of how you might use an INNER JOIN:\\n```sql\\nSELECT *\\nFROM orders\\nINNER JOIN customers\\nON orders.customer_id = customers.id;\\n```\\nThis would return a result set with columns from both tables, where the `customer_id` in the `orders` table matches the `id` in the `customers` table.\\n\\nSQL joins are an essential tool for combining data from multiple tables in a database, and are used extensively in data analysis, reporting, and application development.\",\n",
       " 'input': {'result': 'Incorrect',\n",
       "  'question': 'what are SQL joins',\n",
       "  'answer': 'Joins are used to join two queries'}}"
      ]
     },
     "execution_count": 30,
     "metadata": {},
     "output_type": "execute_result"
    }
   ],
   "source": [
    "final_chain.invoke({\"question\":\"what are SQL joins\",\"answer\":\"Joins are used to join two queries\"})"
   ]
  },
  {
   "cell_type": "code",
   "execution_count": 31,
   "id": "5e134cd5",
   "metadata": {},
   "outputs": [
    {
     "data": {
      "text/plain": [
       "{'response': \"Now that you know what SQL joins are, let's try a more challenging question:\\n\\nWhat are the different types of SQL joins, and how do they differ in terms of the data they return? Please list at least 3 types of SQL joins and describe a scenario where you would use each one.\",\n",
       " 'input': {'result': 'Correct',\n",
       "  'question': 'what are SQL joins',\n",
       "  'answer': 'SQL joins are used to combine rows from two or more tables based on a related column between them.'}}"
      ]
     },
     "execution_count": 31,
     "metadata": {},
     "output_type": "execute_result"
    }
   ],
   "source": [
    "final_chain.invoke({\"question\":\"what are SQL joins\",\"answer\":\"SQL joins are used to combine rows from two or more tables based on a related column between them.\"})"
   ]
  },
  {
   "cell_type": "code",
   "execution_count": null,
   "id": "8a9ce02e",
   "metadata": {},
   "outputs": [],
   "source": []
  }
 ],
 "metadata": {
  "kernelspec": {
   "display_name": "Python 3",
   "language": "python",
   "name": "python3"
  },
  "language_info": {
   "codemirror_mode": {
    "name": "ipython",
    "version": 3
   },
   "file_extension": ".py",
   "mimetype": "text/x-python",
   "name": "python",
   "nbconvert_exporter": "python",
   "pygments_lexer": "ipython3",
   "version": "3.10.0"
  }
 },
 "nbformat": 4,
 "nbformat_minor": 5
}
