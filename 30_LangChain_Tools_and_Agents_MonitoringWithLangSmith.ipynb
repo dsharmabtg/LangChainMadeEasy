{
 "cells": [
  {
   "cell_type": "code",
   "execution_count": 1,
   "id": "fbe67fe1",
   "metadata": {},
   "outputs": [],
   "source": [
    "import os"
   ]
  },
  {
   "cell_type": "code",
   "execution_count": 2,
   "id": "632c8dea",
   "metadata": {},
   "outputs": [],
   "source": [
    "def get_file_contents(filename):\n",
    "    \"\"\" Given a filename,\n",
    "        return the contents of that file\n",
    "    \"\"\"\n",
    "    try:\n",
    "        with open(filename, 'r') as f:\n",
    "            # It's assumed our file contains a single line,\n",
    "            # with our API key\n",
    "            return f.read().strip()\n",
    "    except FileNotFoundError:\n",
    "        print(\"'%s' file not found\" % filename)"
   ]
  },
  {
   "cell_type": "code",
   "execution_count": null,
   "id": "72e02e58",
   "metadata": {},
   "outputs": [],
   "source": [
    "filename = \"..\\\\GoogleAPIKey.txt\"\n",
    "os.environ['GOOGLE_API_KEY'] = get_file_contents(filename)\n",
    "filename_grokKey = \"..\\\\GroqAPIKey.txt\"\n",
    "os.environ['GROQ_API_KEY'] = get_file_contents(filename_grokKey)\n",
    "filename_langsmithKey = \"..\\\\LangSmithAPIKey.txt\"\n",
    "os.environ['LANGCHAIN_TRACING_V2'] = \"true\"\n",
    "os.environ['LANGCHAIN_API_KEY'] = get_file_contents(filename_langsmithKey)\n",
    "os.environ['LANGCHAIN_PROJECT'] = \"first_project\"\n"
   ]
  },
  {
   "cell_type": "markdown",
   "id": "e69d8583",
   "metadata": {},
   "source": [
    "### LangSmith for monitoring the LLM applications"
   ]
  },
  {
   "cell_type": "code",
   "execution_count": 4,
   "id": "23d5e214",
   "metadata": {},
   "outputs": [],
   "source": [
    "from langchain_groq import ChatGroq\n"
   ]
  },
  {
   "cell_type": "code",
   "execution_count": 5,
   "id": "26269cfb",
   "metadata": {},
   "outputs": [],
   "source": [
    "#llm= ChatGoogleGenerativeAI(model='gemini-1.5-pro-001')\n",
    "llm = ChatGroq(model=\"llama-3.1-8b-instant\")"
   ]
  },
  {
   "cell_type": "code",
   "execution_count": 6,
   "id": "2e9f5347",
   "metadata": {},
   "outputs": [
    {
     "data": {
      "text/plain": [
       "AIMessage(content='Langchain is an open-source platform for building and deploying AI models, particularly those that utilize natural language processing (NLP) and large language models (LLMs). It was founded by David Tian, a well-known Canadian entrepreneur, and AI researcher.\\n\\nThe main goal of Langchain is to create a more accessible and user-friendly interface for developers, researchers, and users to build and interact with AI models. It aims to simplify the process of integrating and deploying LLMs in various applications, such as chatbots, virtual assistants, and content generation tools.\\n\\nSome key features of Langchain include:\\n\\n1. **LLM Integration**: Langchain provides a simple and efficient way to integrate LLMs from popular frameworks like Hugging Face, Transformers, and others.\\n2. **Context-Aware**: Langchain allows developers to build context-aware AI models that can understand and respond to complex, multi-turn conversations.\\n3. **Conversation Management**: It offers tools for managing conversations, including conversation history, state management, and dialogue flow control.\\n4. **Natural Language Understanding**: Langchain includes a range of NLU tools for text analysis, entity recognition, sentiment analysis, and more.\\n5. **Model Training and Deployment**: It provides a platform for training and deploying custom LLMs, making it easier to build and integrate new models.\\n\\nBy using Langchain, developers can build more sophisticated and engaging AI-powered applications, such as:\\n\\n* Conversational AI assistants\\n* Chatbots for customer support\\n* Content generation tools (e.g., article writers, chatbot dialogue generators)\\n* Virtual event platforms\\n* And more\\n\\nLangchain is an innovative platform that aims to bridge the gap between AI research and practical application, making it easier for developers to build and deploy AI models that interact with humans in a more natural and intuitive way.', additional_kwargs={}, response_metadata={'token_usage': {'completion_tokens': 366, 'prompt_tokens': 40, 'total_tokens': 406, 'completion_time': 0.488, 'prompt_time': 0.002222958, 'queue_time': 0.24916937300000003, 'total_time': 0.490222958}, 'model_name': 'llama-3.1-8b-instant', 'system_fingerprint': 'fp_a4265e44d5', 'finish_reason': 'stop', 'logprobs': None}, id='run-e8e2a1d4-b5aa-45c8-887c-a5b71d61837d-0', usage_metadata={'input_tokens': 40, 'output_tokens': 366, 'total_tokens': 406})"
      ]
     },
     "execution_count": 6,
     "metadata": {},
     "output_type": "execute_result"
    }
   ],
   "source": [
    "llm.invoke(\"What is langchain?\")"
   ]
  },
  {
   "cell_type": "code",
   "execution_count": 7,
   "id": "93972747",
   "metadata": {},
   "outputs": [],
   "source": [
    "from langchain.agents import AgentExecutor, create_tool_calling_agent\n",
    "from langchain_core.prompts import ChatPromptTemplate\n",
    "from langchain_community.tools import DuckDuckGoSearchResults\n",
    "from langchain.tools import WikipediaQueryRun\n",
    "from langchain_community.utilities import WikipediaAPIWrapper\n",
    "from langchain_google_genai import ChatGoogleGenerativeAI\n",
    "from langchain_community.chat_message_histories import ChatMessageHistory\n",
    "from langchain_core.chat_history import BaseChatMessageHistory\n",
    "from langchain_core.runnables.history import RunnableWithMessageHistory\n",
    "from langchain_groq import ChatGroq\n"
   ]
  },
  {
   "cell_type": "code",
   "execution_count": 8,
   "id": "4bf02269",
   "metadata": {},
   "outputs": [],
   "source": [
    "#llm= ChatGoogleGenerativeAI(model='gemini-1.5-pro-001')\n",
    "llm = ChatGroq(model=\"llama-3.1-8b-instant\")"
   ]
  },
  {
   "cell_type": "code",
   "execution_count": 9,
   "id": "7ba499a4",
   "metadata": {},
   "outputs": [],
   "source": [
    "search = DuckDuckGoSearchResults()\n",
    "wikipedia = WikipediaQueryRun(api_wrapper=WikipediaAPIWrapper())"
   ]
  },
  {
   "cell_type": "code",
   "execution_count": 10,
   "id": "823bc041",
   "metadata": {},
   "outputs": [],
   "source": [
    "prompt = ChatPromptTemplate(\n",
    "    [\n",
    "        (\n",
    "            \"system\",\"You are a helpful assistant. For answering the user query, look for information using DuckDuckGo Search and Wikipedia and then give the final answer.\"\n",
    "        ),\n",
    "        (\"placeholder\",\"{history}\"),\n",
    "        (\"human\",\"{input}\"),\n",
    "        (\"placeholder\",\"{agent_scratchpad}\"), # must add when using tool calling agent\n",
    "    ]\n",
    ")"
   ]
  },
  {
   "cell_type": "code",
   "execution_count": 11,
   "id": "97709a12",
   "metadata": {},
   "outputs": [],
   "source": [
    "tools = [search,wikipedia]\n"
   ]
  },
  {
   "cell_type": "code",
   "execution_count": 12,
   "id": "8be55ee9",
   "metadata": {},
   "outputs": [],
   "source": [
    "agent = create_tool_calling_agent(llm,tools,prompt)"
   ]
  },
  {
   "cell_type": "code",
   "execution_count": 13,
   "id": "ef63f803",
   "metadata": {},
   "outputs": [],
   "source": [
    "agent_executor = AgentExecutor(agent=agent,tools=tools,verbose=True, input_keys=[\"input\"])"
   ]
  },
  {
   "cell_type": "code",
   "execution_count": 14,
   "id": "1b4bcde8",
   "metadata": {},
   "outputs": [],
   "source": [
    "store = {}\n",
    "def get_session_history(session_id:str)->BaseChatMessageHistory:\n",
    "    if session_id not in store:\n",
    "        store[session_id] =  ChatMessageHistory()\n",
    "    return store[session_id]"
   ]
  },
  {
   "cell_type": "code",
   "execution_count": 15,
   "id": "8871d3ae",
   "metadata": {},
   "outputs": [],
   "source": [
    "agent_with_history = RunnableWithMessageHistory(\n",
    "    agent_executor, \n",
    "    get_session_history,\n",
    "    input_messages_key=\"input\",\n",
    "    history_messages_key=\"history\",\n",
    ")"
   ]
  },
  {
   "cell_type": "code",
   "execution_count": 16,
   "id": "8c0854d1",
   "metadata": {},
   "outputs": [
    {
     "name": "stdout",
     "output_type": "stream",
     "text": [
      "input\n"
     ]
    }
   ],
   "source": [
    "print(agent_with_history.input_messages_key)"
   ]
  },
  {
   "cell_type": "code",
   "execution_count": 17,
   "id": "4955f476",
   "metadata": {},
   "outputs": [
    {
     "name": "stdout",
     "output_type": "stream",
     "text": [
      "history\n"
     ]
    }
   ],
   "source": [
    "print(agent_with_history.history_messages_key)"
   ]
  },
  {
   "cell_type": "code",
   "execution_count": 18,
   "id": "493d8560",
   "metadata": {},
   "outputs": [
    {
     "name": "stdout",
     "output_type": "stream",
     "text": [
      "\n",
      "\n",
      "\u001b[1m> Entering new AgentExecutor chain...\u001b[0m\n",
      "\u001b[32;1m\u001b[1;3m\n",
      "Invoking: `wikipedia` with `{'query': 'Nelson Mandela birthdate'}`\n",
      "\n",
      "\n",
      "\u001b[0m\u001b[33;1m\u001b[1;3mPage: Pablo Sarino\n",
      "Summary: Pablo Gomez Sarino (June 29, 1911 - December 23, 1987) was a Filipino politician who served as the municipal mayor of Bacoor, Cavite. He previously served as a municipal councilor and later became elected as the mayor in 1959. His terms of office in total made him the longest serving mayor of Bacoor to date.\n",
      "\n",
      "Page: Dominic Waghorn\n",
      "Summary: Dominic David Waghorn (born 1968, Lambeth), is a British journalist who is the Diplomatic Editor of Sky News and presenter of the channel's weekly international affairs analysis programme World View.  He was before that US Correspondent of Sky News, the 24-hour television news service operated by Sky Television, part of British Sky Broadcasting. He is based at Sky News' Washington Bureau. He was formerly Sky News' Asia Correspondent, based in Beijing and Middle East Correspondent, based in Jerusalem. He became Sky News' US Correspondent in 2011.\n",
      "\n",
      "Page: Djalu Gurruwiwi\n",
      "Summary: Djalu Gurruwiwi, written Djalu (c. 1935 – 12 May 2022), was a Yolngu musician, artist, and leader from Arnhem Land in the Northern Territory of Australia. He was globally recognised for his acquired skill as a player, maker, and spiritual keeper of the yiḏaki (also known as didgeridoo). As a respected artist with many of his works in several galleries, he aimed to spread his culture and traditions past his own community and onto the global stage.\u001b[0m\u001b[32;1m\u001b[1;3m\n",
      "Invoking: `wikipedia` with `{'query': 'Nelson Mandela birthday'}`\n",
      "\n",
      "\n",
      "\u001b[0m\u001b[33;1m\u001b[1;3mPage: Mandela Day\n",
      "Summary: Nelson Mandela International Day (or Mandela Day) is an annual international day in honour of Nelson Mandela, celebrated each year on 18 July, Mandela's birthday. The day was officially declared by the United Nations in November 2009, with the first UN Mandela Day held on 18 July 2010. However, other groups began celebrating Mandela Day on 18 July 2009.\n",
      "On 27 April 2009, the 46664 concerts and the Nelson Mandela Foundation invited the global community to join them in support of an official Mandela Day. Mandela Day is not meant as a public holiday, but as a day to honour the legacy of Nelson Mandela, South Africa's former President, and his values, through volunteering and community service.\n",
      "Mandela Day is a global call to action that celebrates the idea that each individual has the power to transform the world, the ability to make an impact.\n",
      "The Mandela Day campaign message is:\n",
      "\n",
      "\"Nelson Mandela has fought for social justice for 67 years. We're asking you to start with 67 minutes.\"\n",
      "\"We would be honoured if such a day can serve to bring people together around the world to fight poverty and promote peace, reconciliation and cultural diversity,\" according to a statement issued on Mandela's behalf.\n",
      "To mark the first global celebration of Mandela Day on 18 July 2009, Mandela's 91st birthday, a series of educational, art exhibit, fund-raising and volunteer events leading up to a concert at Radio City Music Hall on 18 July were organised by the 46664 concerts and the Nelson Mandela Foundation. In November 2009, the United Nations General Assembly formally declared 18 July to be \"Nelson Mandela International Day\". \n",
      "In 2014, the UN General Assembly established the Nelson Mandela Prize, an award given every 5 years recognising the achievements of those who dedicated their lives to the service of humanity.\n",
      "\n",
      "Page: Nelson Mandela 70th Birthday Tribute\n",
      "Summary: The Nelson Mandela 70th Birthday Tribute was a popular-music concert staged on 11 June 1988 at Wembley Stadium, London, and broadcast to 67 countries and an audience of 600 million. Marking the forthcoming 70th birthday (18 July 1988) of the imprisoned anti-apartheid revolutionary Nelson Mandela, the concert was also referred to as Freedomfest, Free Nelson Mandela Concert and Mandela Day. In the United States, the Fox television network heavily censored the political aspects of the concert. The concert is considered a notable example of anti-apartheid music.\n",
      "\n",
      "Page: Free Nelson Mandela\n",
      "Summary: \"Nelson Mandela\" (known in some versions as \"Free Nelson Mandela\") is a song written by British musician Jerry Dammers, and performed by the band the Special A.K.A. with a lead vocal by Stan Campbell. It was first released on the single \"Nelson Mandela\"/\"Break Down the Door\" in 1984.\n",
      "It was a protest against the imprisonment of Nelson Mandela by the apartheid South African government, and is considered a notable anti-apartheid song.\n",
      "The backing vocals were performed by Molly and Polly Jackson, two girls the band's drummer John Bradbury had \"met in a bar in Camden\", while the chorus was performed by session singers including Claudia Fontaine and Caron Wheeler, who later went on to appear with Soul II Soul.\n",
      "Unlike most protest songs, the track is upbeat and celebratory, drawing on musical influences from South Africa. The song peaked at number nine on the UK Singles Chart and was immensely popular in Africa. In December 2013, following the news of Nelson Mandela's death, the single re-entered at number 96 on the UK Singles Chart.\u001b[0m\u001b[32;1m\u001b[1;3mNelson Mandela was born on July 18, 1918.\u001b[0m\n",
      "\n",
      "\u001b[1m> Finished chain.\u001b[0m\n"
     ]
    },
    {
     "data": {
      "text/plain": [
       "{'input': 'When was Nelson Mandela born?',\n",
       " 'history': [],\n",
       " 'output': 'Nelson Mandela was born on July 18, 1918.'}"
      ]
     },
     "execution_count": 18,
     "metadata": {},
     "output_type": "execute_result"
    }
   ],
   "source": [
    "agent_with_history.invoke(\n",
    "    {\"input\":\"When was Nelson Mandela born?\"},\n",
    "    config={\"configurable\":{\"session_id\":\"sess1\"}},\n",
    "    )"
   ]
  },
  {
   "cell_type": "code",
   "execution_count": 19,
   "id": "9bc18147",
   "metadata": {},
   "outputs": [
    {
     "name": "stdout",
     "output_type": "stream",
     "text": [
      "\n",
      "\n",
      "\u001b[1m> Entering new AgentExecutor chain...\u001b[0m\n",
      "\u001b[32;1m\u001b[1;3m\n",
      "Invoking: `wikipedia` with `{'query': 'Nelson Mandela birthdate'}`\n",
      "\n",
      "\n",
      "\u001b[0m\u001b[33;1m\u001b[1;3mPage: Pablo Sarino\n",
      "Summary: Pablo Gomez Sarino (June 29, 1911 - December 23, 1987) was a Filipino politician who served as the municipal mayor of Bacoor, Cavite. He previously served as a municipal councilor and later became elected as the mayor in 1959. His terms of office in total made him the longest serving mayor of Bacoor to date.\n",
      "\n",
      "Page: Dominic Waghorn\n",
      "Summary: Dominic David Waghorn (born 1968, Lambeth), is a British journalist who is the Diplomatic Editor of Sky News and presenter of the channel's weekly international affairs analysis programme World View.  He was before that US Correspondent of Sky News, the 24-hour television news service operated by Sky Television, part of British Sky Broadcasting. He is based at Sky News' Washington Bureau. He was formerly Sky News' Asia Correspondent, based in Beijing and Middle East Correspondent, based in Jerusalem. He became Sky News' US Correspondent in 2011.\n",
      "\n",
      "Page: Djalu Gurruwiwi\n",
      "Summary: Djalu Gurruwiwi, written Djalu (c. 1935 – 12 May 2022), was a Yolngu musician, artist, and leader from Arnhem Land in the Northern Territory of Australia. He was globally recognised for his acquired skill as a player, maker, and spiritual keeper of the yiḏaki (also known as didgeridoo). As a respected artist with many of his works in several galleries, he aimed to spread his culture and traditions past his own community and onto the global stage.\u001b[0m\u001b[32;1m\u001b[1;3m\n",
      "Invoking: `wikipedia` with `{'query': 'Nelson Mandela birthdate'}`\n",
      "\n",
      "\n",
      "\u001b[0m\u001b[33;1m\u001b[1;3mPage: Pablo Sarino\n",
      "Summary: Pablo Gomez Sarino (June 29, 1911 - December 23, 1987) was a Filipino politician who served as the municipal mayor of Bacoor, Cavite. He previously served as a municipal councilor and later became elected as the mayor in 1959. His terms of office in total made him the longest serving mayor of Bacoor to date.\n",
      "\n",
      "Page: Dominic Waghorn\n",
      "Summary: Dominic David Waghorn (born 1968, Lambeth), is a British journalist who is the Diplomatic Editor of Sky News and presenter of the channel's weekly international affairs analysis programme World View.  He was before that US Correspondent of Sky News, the 24-hour television news service operated by Sky Television, part of British Sky Broadcasting. He is based at Sky News' Washington Bureau. He was formerly Sky News' Asia Correspondent, based in Beijing and Middle East Correspondent, based in Jerusalem. He became Sky News' US Correspondent in 2011.\n",
      "\n",
      "Page: Djalu Gurruwiwi\n",
      "Summary: Djalu Gurruwiwi, written Djalu (c. 1935 – 12 May 2022), was a Yolngu musician, artist, and leader from Arnhem Land in the Northern Territory of Australia. He was globally recognised for his acquired skill as a player, maker, and spiritual keeper of the yiḏaki (also known as didgeridoo). As a respected artist with many of his works in several galleries, he aimed to spread his culture and traditions past his own community and onto the global stage.\u001b[0m\u001b[32;1m\u001b[1;3m\n",
      "Invoking: `duckduckgo_results_json` with `{'query': 'Nelson Mandela birthdate'}`\n",
      "\n",
      "\n",
      "\u001b[0m\u001b[36;1m\u001b[1;3msnippet: Nelson Rolihlahla Mandela (/ m æ n ˈ d ɛ l ə / man-DEL-ə, [1] Xhosa: [xolíɬaɬa mandɛ̂ːla]; born Rolihlahla Mandela; 18 July 1918 - 5 December 2013) was a South African anti-apartheid activist and politician who served as the first president of South Africa from 1994 to 1999. He was the country's first black head of state and the first elected in a fully representative democratic ..., title: Nelson Mandela - Wikipedia, link: https://en.wikipedia.org/wiki/Nelson_Mandela, snippet: Nelson Mandela is known for several things, but perhaps he is best known for successfully leading the resistance to South Africa's policy of apartheid in the 20th century, during which he was infamously incarcerated at Robben Island Prison (1964-82). He won the Nobel Prize for Peace in 1993, along with South Africa's president at the time, F.W. de Klerk, for having led the transition ..., title: Nelson Mandela | Death, Facts, Biography, & Apartheid | Britannica, link: https://www.britannica.com/biography/Nelson-Mandela, snippet: 1988 - The Nelson Mandela 70th Birthday Tribute concert is held at London's Wembley Stadium. It was a focal point of the external anti-apartheid movement, with prominent musicians - including Simple Minds, Santana, Tracy Chapman, Salif Keita, Annie Lennox and Whitney Houston - voicing their support for Mandela., title: Nelson Mandela 1918-2013: the timeline of a lifetime, link: https://southafrica-info.com/history/nelson-mandela-timeline/, snippet: Nelson Rolihlahla Mandela was born on July 18, 1918, in Mvezo, a small village on the banks of the Mbashe River in the Eastern Cape Province. He was born into the Madiba clan, son of Nonqaphi Nosekeni and Gladla Henry Mphakanyiswa, the chief of Mvezo and an advisor to the kings. Mandela was the first in his family to receive a formal education., title: Nelson Mandela Biography - Nelson Mandela Resource Guide - Research ..., link: https://libguides.nypl.org/NYPLMandelaDay/biography\u001b[0m\u001b[32;1m\u001b[1;3mNelson Mandela was born on July 18, 1918.\u001b[0m\n",
      "\n",
      "\u001b[1m> Finished chain.\u001b[0m\n"
     ]
    },
    {
     "data": {
      "text/plain": [
       "{'input': 'When was Nelson Mandela born?',\n",
       " 'history': [HumanMessage(content='When was Nelson Mandela born?', additional_kwargs={}, response_metadata={}),\n",
       "  AIMessage(content='Nelson Mandela was born on July 18, 1918.', additional_kwargs={}, response_metadata={})],\n",
       " 'output': 'Nelson Mandela was born on July 18, 1918.'}"
      ]
     },
     "execution_count": 19,
     "metadata": {},
     "output_type": "execute_result"
    }
   ],
   "source": [
    "agent_with_history.invoke(\n",
    "    {\"input\":\"When was Nelson Mandela born?\"},\n",
    "    config={\"configurable\":{\"session_id\":\"sess1\"}},\n",
    "    )"
   ]
  },
  {
   "cell_type": "code",
   "execution_count": 20,
   "id": "fabfc8f9",
   "metadata": {},
   "outputs": [
    {
     "name": "stdout",
     "output_type": "stream",
     "text": [
      "\n",
      "\n",
      "\u001b[1m> Entering new AgentExecutor chain...\u001b[0m\n",
      "\u001b[32;1m\u001b[1;3m\n",
      "Invoking: `wikipedia` with `{'query': 'Nelson Mandela famous quotes'}`\n",
      "\n",
      "\n",
      "\u001b[0m\u001b[33;1m\u001b[1;3mPage: Ndaba Mandela\n",
      "Summary: Ndaba Thembekile Zweliyajika Mandela (born 23 December 1982) is an author, mentor, spokesperson, entrepreneur, political consultant, and the grandson of Nelson Mandela. He was born in Soweto, South Africa.\n",
      "Mandela is currently the co-founder and chairman of the Mandela Institute for Humanity.\n",
      "He is active in keeping the legacy of his grandfather alive, and introducing Nelson Mandela to a younger generation. He is the co-founder and chairman of Africa Rising Foundation.  He is also the founder of the Mandela Project. He was part of the team for the Mandela Centenary in 2018.\n",
      "From 2014 - 2021 Ndaba was Vice President of the Pan-African Youth Council which is now called the Pan African Youth Parliament which works closely with the African Union.\n",
      "He is the longest serving global ambassador for UNAIDS, a specialized agency of the United Nations that campaigns to end the HIV/AIDS epidemic. Both of his parents died from the disease.\n",
      "\n",
      "Page: Long Walk to Freedom\n",
      "Summary: Long Walk to Freedom is an autobiography by South Africa's first democratically elected President Nelson Mandela, and it was first published in 1994 by Little Brown & Co. The book profiles his early life, coming of age, education and 27 years spent in prison. Under the apartheid government, Mandela was regarded as a terrorist and jailed on Robben Island for his role as a leader of the then-outlawed African National Congress (ANC) and its armed wing the Umkhonto We Sizwe. He later achieved international recognition for his leadership as president in rebuilding the country's once segregationist society. The last chapters of the book describe his political ascension and his belief that the struggle still continued against apartheid in South Africa.\n",
      "\n",
      "Page: Nelson Mandela\n",
      "Summary: Nelson Rolihlahla Mandela ( man-DEL-ə, Xhosa: [xolíɬaɬa mandɛ̂ːla]; born Rolihlahla Mandela; 18 July 1918 – 5 December 2013) was a South African anti-apartheid activist and politician who served as the first president of South Africa from 1994 to 1999. He was the country's first black head of state and the first elected in a fully representative democratic election. His government focused on dismantling the legacy of apartheid by fostering racial reconciliation. Ideologically an African nationalist and socialist, he served as the president of the African National Congress (ANC) party from 1991 to 1997.\n",
      "A Xhosa, Mandela was born into the Thembu royal family in Mvezo, South Africa. He studied law at the University of Fort Hare and the University of Witwatersrand before working as a lawyer in Johannesburg. There he became involved in anti-colonial and African nationalist politics, joining the ANC in 1943 and co-founding its Youth League in 1944. After the National Party's white-only government established apartheid, a system of racial segregation that privileged whites, Mandela and the ANC committed themselves to its overthrow. He was appointed president of the ANC's Transvaal branch, rising to prominence for his involvement in the 1952 Defiance Campaign and the 1955 Congress of the People. He was repeatedly arrested for seditious activities and was unsuccessfully prosecuted in the 1956 Treason Trial. Influenced by Marxism, he secretly joined the banned South African Communist Party (SACP). Although initially committed to non-violent protest, in association with the SACP he co-founded the militant uMkhonto we Sizwe in 1961 that led a sabotage campaign against the apartheid government. He was arrested and imprisoned in 1962, and, following the Rivonia Trial, was sentenced to life imprisonment for conspiring to overthrow the state.\n",
      "Mandela served 27 years in prison, split between Robben Island, Pollsmoor Prison, and Victor Verster Prison. Amid growing domestic and international pressure and fears of racial civil war, President F. W. de Klerk released him in 1990. Mandela and de Klerk led efforts to negotiate an end to apartheid, which resulted in the 1994 multiracial genera\u001b[0m\u001b[32;1m\u001b[1;3m\n",
      "Invoking: `duckduckgo_results_json` with `{'query': 'Nelson Mandela quotes'}`\n",
      "\n",
      "\n",
      "\u001b[0m\u001b[36;1m\u001b[1;3msnippet: Learn from the wisdom, resilience, and leadership of Nelson Mandela, the global icon who fought for freedom and justice. Explore his quotes on courage, forgiveness, education, and more., title: 95 Nelson Mandela Powerful Quotes to Inspire and Guide You, link: https://lifeispositive.com/mandela-quotes/, snippet: Nelson Mandela was a brave leader and a symbol of hope for many people around the world. He fought against unfair treatment and worked hard for the freedom of his country, South Africa. Mandela's words continue to inspire millions, reminding us to believe in ourselves and to fight for justice. His quotes often reflect themes, title: Top 150 Nelson Mandela Quotes (With Meanings) - Scripture Savvy, link: https://scripturesavvy.com/nelson-mandela-quotes/, snippet: Learn about the life and legacy of Nelson Mandela, the first black president of South Africa and a Nobel Peace Prize laureate. Read 97 of his inspiring quotes on education, courage, freedom, and more., title: 97 of the Greatest Nelson Mandela Quotes on Love, Peace, and Race, link: https://inspirationfeed.com/nelson-mandela-quotes/, snippet: Explore the wisdom of Nelson Mandela, a symbol of resilience and hope in the pursuit of justice and equality. Find quotes on freedom, fear, leadership, perseverance, and more from the former president of South Africa., title: 60 Nelson Mandela Quotes (On Freedom, Fear, Leadership), link: https://wisdomquotes.com/nelson-mandela-quotes/\u001b[0m\u001b[32;1m\u001b[1;3mHere are some of Nelson Mandela's famous quotes:\n",
      "\n",
      "1. \"The greatest glory in living lies not in never falling, but in rising every time we fall.\"\n",
      "2. \"For to be free is not merely to cast off one's chains, but to live in a way that respects and enhances the freedom of others.\"\n",
      "3. \"I have walked that long road to freedom. I have tried not to falter; I have made missteps along the way. But I have discovered the secret that after climbing a great hill, one only finds that there are many more hills to climb.\"\n",
      "4. \"Education is the most powerful weapon which you can use to change the world.\"\n",
      "5. \"The true character of a person is not seen in triumph, but in adversity.\"\n",
      "6. \"A nation should not be judged by how it treats its superior, but by how it treats its inferior.\"\n",
      "7. \"If you want to make peace with your enemy, you have to work with your enemy. Then he becomes your partner.\"\n",
      "8. \"The greatest glory in living lies not in never falling, but in rising every time we fall.\"\n",
      "9. \"I am not a saint, unless you think of a saint as a sinner who keeps on trying.\"\n",
      "10. \"No one is born hating another person because of the color of his skin, or his background, or his religion. People must learn to hate, and if they can learn to hate, they can be taught to love, for love comes more naturally to the human heart than its opposite.\"\u001b[0m\n",
      "\n",
      "\u001b[1m> Finished chain.\u001b[0m\n"
     ]
    }
   ],
   "source": [
    "result = agent_with_history.invoke(\n",
    "    {\"input\":\"What are some of his famous quotes?\"},\n",
    "    config={\"configurable\":{\"session_id\":\"sess1\"}},\n",
    "    )"
   ]
  },
  {
   "cell_type": "code",
   "execution_count": 21,
   "id": "68b9656b",
   "metadata": {},
   "outputs": [
    {
     "name": "stdout",
     "output_type": "stream",
     "text": [
      "Here are some of Nelson Mandela's famous quotes:\n",
      "\n",
      "1. \"The greatest glory in living lies not in never falling, but in rising every time we fall.\"\n",
      "2. \"For to be free is not merely to cast off one's chains, but to live in a way that respects and enhances the freedom of others.\"\n",
      "3. \"I have walked that long road to freedom. I have tried not to falter; I have made missteps along the way. But I have discovered the secret that after climbing a great hill, one only finds that there are many more hills to climb.\"\n",
      "4. \"Education is the most powerful weapon which you can use to change the world.\"\n",
      "5. \"The true character of a person is not seen in triumph, but in adversity.\"\n",
      "6. \"A nation should not be judged by how it treats its superior, but by how it treats its inferior.\"\n",
      "7. \"If you want to make peace with your enemy, you have to work with your enemy. Then he becomes your partner.\"\n",
      "8. \"The greatest glory in living lies not in never falling, but in rising every time we fall.\"\n",
      "9. \"I am not a saint, unless you think of a saint as a sinner who keeps on trying.\"\n",
      "10. \"No one is born hating another person because of the color of his skin, or his background, or his religion. People must learn to hate, and if they can learn to hate, they can be taught to love, for love comes more naturally to the human heart than its opposite.\"\n"
     ]
    }
   ],
   "source": [
    "print(result['output'])"
   ]
  }
 ],
 "metadata": {
  "kernelspec": {
   "display_name": "Python 3",
   "language": "python",
   "name": "python3"
  },
  "language_info": {
   "codemirror_mode": {
    "name": "ipython",
    "version": 3
   },
   "file_extension": ".py",
   "mimetype": "text/x-python",
   "name": "python",
   "nbconvert_exporter": "python",
   "pygments_lexer": "ipython3",
   "version": "3.10.0"
  }
 },
 "nbformat": 4,
 "nbformat_minor": 5
}
