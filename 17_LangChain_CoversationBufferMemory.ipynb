{
 "cells": [
  {
   "cell_type": "code",
   "execution_count": 1,
   "id": "f43e4d36",
   "metadata": {},
   "outputs": [],
   "source": [
    "import os"
   ]
  },
  {
   "cell_type": "code",
   "execution_count": 2,
   "id": "ce5b80dd",
   "metadata": {},
   "outputs": [],
   "source": [
    "def get_file_contents(filename):\n",
    "    \"\"\" Given a filename,\n",
    "        return the contents of that file\n",
    "    \"\"\"\n",
    "    try:\n",
    "        with open(filename, 'r') as f:\n",
    "            # It's assumed our file contains a single line,\n",
    "            # with our API key\n",
    "            return f.read().strip()\n",
    "    except FileNotFoundError:\n",
    "        print(\"'%s' file not found\" % filename)"
   ]
  },
  {
   "cell_type": "code",
   "execution_count": null,
   "id": "48593206",
   "metadata": {},
   "outputs": [],
   "source": [
    "filename = \"..\\\\GoogleAPIKey.txt\""
   ]
  },
  {
   "cell_type": "code",
   "execution_count": 4,
   "id": "2ea5ce94",
   "metadata": {},
   "outputs": [],
   "source": [
    "os.environ['GOOGLE_API_KEY'] = get_file_contents(filename)"
   ]
  },
  {
   "cell_type": "code",
   "execution_count": null,
   "id": "c702c8e6",
   "metadata": {},
   "outputs": [],
   "source": [
    "filename_grokKey = \"..\\\\GroqAPIKey.txt\""
   ]
  },
  {
   "cell_type": "code",
   "execution_count": 6,
   "id": "e16dfe76",
   "metadata": {},
   "outputs": [],
   "source": [
    "os.environ['GROQ_API_KEY'] = get_file_contents(filename_grokKey)"
   ]
  },
  {
   "cell_type": "markdown",
   "id": "1cfd78d9",
   "metadata": {},
   "source": [
    "### Coversation Buffer Memory"
   ]
  },
  {
   "cell_type": "code",
   "execution_count": 7,
   "id": "bcf0cf16",
   "metadata": {},
   "outputs": [],
   "source": [
    "from langchain import PromptTemplate\n",
    "from langchain.chains import LLMChain\n",
    "from langchain_groq import ChatGroq\n",
    "from langchain_google_genai import GoogleGenerativeAI\n",
    "from langchain.memory import ConversationBufferMemory\n"
   ]
  },
  {
   "cell_type": "code",
   "execution_count": 8,
   "id": "99a67a41",
   "metadata": {},
   "outputs": [],
   "source": [
    "#gemini_llm = ChatGoogleGenerativeAI(model='gemini-1.5-pro-001')\n",
    "lamma_llm = ChatGroq(model=\"llama-3.1-8b-instant\")\n",
    "#google_llm = GoogleGenerativeAI(model='gemini-1.5-pro-001')"
   ]
  },
  {
   "cell_type": "code",
   "execution_count": 9,
   "id": "02df1a43",
   "metadata": {},
   "outputs": [],
   "source": [
    "google_llm = GoogleGenerativeAI(model='gemini-1.5-pro-001')"
   ]
  },
  {
   "cell_type": "code",
   "execution_count": 10,
   "id": "1fad75f7",
   "metadata": {},
   "outputs": [],
   "source": [
    "prompt_template = PromptTemplate(\n",
    "    input_variables = [\"history\",\"new_input\"],\n",
    "    template=\"\"\"You are having a chat with human.\n",
    "        previous chat:{history}\n",
    "        Human: {new_input}\n",
    "        Assistant:\"\"\"\n",
    ")"
   ]
  },
  {
   "cell_type": "code",
   "execution_count": 12,
   "id": "e70cc446",
   "metadata": {},
   "outputs": [],
   "source": [
    "memory_1=ConversationBufferMemory()\n",
    "memory_2=ConversationBufferMemory()"
   ]
  },
  {
   "cell_type": "code",
   "execution_count": 14,
   "id": "02841192",
   "metadata": {},
   "outputs": [],
   "source": [
    "\n",
    "chain_1 = LLMChain(llm=lamma_llm, prompt=prompt_template, memory=memory_1, verbose=True)"
   ]
  },
  {
   "cell_type": "code",
   "execution_count": 15,
   "id": "604fd908",
   "metadata": {},
   "outputs": [
    {
     "name": "stdout",
     "output_type": "stream",
     "text": [
      "\n",
      "\n",
      "\u001b[1m> Entering new LLMChain chain...\u001b[0m\n",
      "Prompt after formatting:\n",
      "\u001b[32;1m\u001b[1;3mYou are having a chat with human.\n",
      "        previous chat:\n",
      "        Human: Which country is the biggest exporter of cotton?\n",
      "        Assistant:\u001b[0m\n",
      "\n",
      "\u001b[1m> Finished chain.\u001b[0m\n"
     ]
    },
    {
     "data": {
      "text/plain": [
       "{'new_input': 'Which country is the biggest exporter of cotton?',\n",
       " 'history': '',\n",
       " 'text': 'China is currently the largest exporter of cotton, accounting for a significant share of global cotton exports.'}"
      ]
     },
     "execution_count": 15,
     "metadata": {},
     "output_type": "execute_result"
    }
   ],
   "source": [
    "chain_1.invoke({\"new_input\":\"Which country is the biggest exporter of cotton?\"})"
   ]
  },
  {
   "cell_type": "code",
   "execution_count": 16,
   "id": "eab11e34",
   "metadata": {},
   "outputs": [
    {
     "name": "stdout",
     "output_type": "stream",
     "text": [
      "\n",
      "\n",
      "\u001b[1m> Entering new LLMChain chain...\u001b[0m\n",
      "Prompt after formatting:\n",
      "\u001b[32;1m\u001b[1;3mYou are having a chat with human.\n",
      "        previous chat:Human: Which country is the biggest exporter of cotton?\n",
      "AI: China is currently the largest exporter of cotton, accounting for a significant share of global cotton exports.\n",
      "        Human: What is the total value of cotton exports of this country\n",
      "        Assistant:\u001b[0m\n",
      "\n",
      "\u001b[1m> Finished chain.\u001b[0m\n"
     ]
    },
    {
     "data": {
      "text/plain": [
       "{'new_input': 'What is the total value of cotton exports of this country',\n",
       " 'history': 'Human: Which country is the biggest exporter of cotton?\\nAI: China is currently the largest exporter of cotton, accounting for a significant share of global cotton exports.',\n",
       " 'text': \"Unfortunately, I don't have the most up-to-date information on the exact total value of China's cotton exports. However, I can provide you with some general information on China's cotton exports. \\n\\nChina's cotton exports have fluctuated in recent years, and the total value can vary depending on factors such as global demand, prices, and trade policies. According to the Observatory for Economic Complexity (OEC), China's cotton exports have been steadily increasing over the years, with the total value reaching around $6.5 billion in 2020. However, this information may not reflect the current market situation.\\n\\nIf you're looking for the most recent data, I would recommend checking the official statistics from the Chinese General Administration of Customs or other reliable sources such as the United Nations Conference on Trade and Development (UNCTAD) or the International Trade Centre (ITC).\"}"
      ]
     },
     "execution_count": 16,
     "metadata": {},
     "output_type": "execute_result"
    }
   ],
   "source": [
    "chain_1.invoke({\"new_input\":\"What is the total value of cotton exports of this country\"})"
   ]
  },
  {
   "cell_type": "code",
   "execution_count": 17,
   "id": "445d1366",
   "metadata": {},
   "outputs": [],
   "source": [
    "chain_2 = LLMChain(llm=google_llm, prompt=prompt_template, memory=memory_2, verbose=True)"
   ]
  },
  {
   "cell_type": "code",
   "execution_count": 18,
   "id": "552c73eb",
   "metadata": {},
   "outputs": [
    {
     "name": "stdout",
     "output_type": "stream",
     "text": [
      "\n",
      "\n",
      "\u001b[1m> Entering new LLMChain chain...\u001b[0m\n",
      "Prompt after formatting:\n",
      "\u001b[32;1m\u001b[1;3mYou are having a chat with human.\n",
      "        previous chat:\n",
      "        Human: Which country is the biggest exporter of cotton?\n",
      "        Assistant:\u001b[0m\n",
      "\n",
      "\u001b[1m> Finished chain.\u001b[0m\n"
     ]
    },
    {
     "data": {
      "text/plain": [
       "{'new_input': 'Which country is the biggest exporter of cotton?',\n",
       " 'history': '',\n",
       " 'text': 'India is the biggest exporter of cotton as of 2021. '}"
      ]
     },
     "execution_count": 18,
     "metadata": {},
     "output_type": "execute_result"
    }
   ],
   "source": [
    "chain_2.invoke({\"new_input\":\"Which country is the biggest exporter of cotton?\"})"
   ]
  },
  {
   "cell_type": "code",
   "execution_count": 19,
   "id": "2ffbe879",
   "metadata": {},
   "outputs": [
    {
     "name": "stdout",
     "output_type": "stream",
     "text": [
      "\n",
      "\n",
      "\u001b[1m> Entering new LLMChain chain...\u001b[0m\n",
      "Prompt after formatting:\n",
      "\u001b[32;1m\u001b[1;3mYou are having a chat with human.\n",
      "        previous chat:Human: Which country is the biggest exporter of cotton?\n",
      "AI: India is the biggest exporter of cotton as of 2021. \n",
      "        Human: What is the total value of cotton exports of this country\n",
      "        Assistant:\u001b[0m\n",
      "\n",
      "\u001b[1m> Finished chain.\u001b[0m\n"
     ]
    },
    {
     "data": {
      "text/plain": [
       "{'new_input': 'What is the total value of cotton exports of this country',\n",
       " 'history': 'Human: Which country is the biggest exporter of cotton?\\nAI: India is the biggest exporter of cotton as of 2021. ',\n",
       " 'text': 'I need more information to answer your question.  You asked about \"this country,\" but in your previous message, you didn\\'t specify a country, you just asked about the biggest cotton exporter. \\n\\nTo give you the total value of cotton exports, I need to know:\\n\\n*  **Which country are you interested in?**  Do you mean India (the biggest exporter) or another country? \\n\\nPlease tell me the specific country you\\'re asking about! '}"
      ]
     },
     "execution_count": 19,
     "metadata": {},
     "output_type": "execute_result"
    }
   ],
   "source": [
    "chain_2.invoke({\"new_input\":\"What is the total value of cotton exports of this country\"})"
   ]
  },
  {
   "cell_type": "code",
   "execution_count": 20,
   "id": "16cec521",
   "metadata": {},
   "outputs": [],
   "source": [
    "from langchain_core.messages import SystemMessage\n",
    "from langchain_core.prompts import (\n",
    "    ChatPromptTemplate,\n",
    "    HumanMessagePromptTemplate,\n",
    "    MessagesPlaceholder\n",
    ")"
   ]
  },
  {
   "cell_type": "code",
   "execution_count": 21,
   "id": "1920cbe6",
   "metadata": {},
   "outputs": [],
   "source": [
    "chatPrompt = ChatPromptTemplate.from_messages(\n",
    "    [\n",
    "        SystemMessage(\n",
    "            content=\"You are having a chat with the human.\"\n",
    "        ),\n",
    "        MessagesPlaceholder(\n",
    "            variable_name=\"history\"\n",
    "        ),\n",
    "        HumanMessagePromptTemplate.from_template(\n",
    "            \"{new_input}\"\n",
    "        ),\n",
    "    ]\n",
    ")"
   ]
  },
  {
   "cell_type": "code",
   "execution_count": 22,
   "id": "61f9bf73",
   "metadata": {},
   "outputs": [],
   "source": [
    "chat_memory = ConversationBufferMemory(return_messages=True)"
   ]
  },
  {
   "cell_type": "code",
   "execution_count": 23,
   "id": "8cba6f75",
   "metadata": {},
   "outputs": [],
   "source": [
    "chat_lamma_llm = ChatGroq(model=\"llama-3.1-8b-instant\")"
   ]
  },
  {
   "cell_type": "code",
   "execution_count": 24,
   "id": "ee49abfb",
   "metadata": {},
   "outputs": [],
   "source": [
    "chat_chain = LLMChain(llm=chat_lamma_llm,prompt=chatPrompt,memory=chat_memory,verbose=True) "
   ]
  },
  {
   "cell_type": "code",
   "execution_count": 25,
   "id": "0c9c4370",
   "metadata": {},
   "outputs": [
    {
     "name": "stdout",
     "output_type": "stream",
     "text": [
      "\n",
      "\n",
      "\u001b[1m> Entering new LLMChain chain...\u001b[0m\n",
      "Prompt after formatting:\n",
      "\u001b[32;1m\u001b[1;3mSystem: You are having a chat with the human.\n",
      "Human: Which country is the biggest exporter of cotton?\u001b[0m\n",
      "\n",
      "\u001b[1m> Finished chain.\u001b[0m\n"
     ]
    },
    {
     "data": {
      "text/plain": [
       "{'new_input': 'Which country is the biggest exporter of cotton?',\n",
       " 'history': [HumanMessage(content='Which country is the biggest exporter of cotton?', additional_kwargs={}, response_metadata={}),\n",
       "  AIMessage(content=\"China is the largest exporter of cotton, accounting for approximately 30-40% of the world's total cotton exports.\", additional_kwargs={}, response_metadata={})],\n",
       " 'text': \"China is the largest exporter of cotton, accounting for approximately 30-40% of the world's total cotton exports.\"}"
      ]
     },
     "execution_count": 25,
     "metadata": {},
     "output_type": "execute_result"
    }
   ],
   "source": [
    "chat_chain.invoke({\"new_input\":\"Which country is the biggest exporter of cotton?\"})"
   ]
  },
  {
   "cell_type": "code",
   "execution_count": null,
   "id": "bce0206e",
   "metadata": {},
   "outputs": [
    {
     "name": "stdout",
     "output_type": "stream",
     "text": [
      "\n",
      "\n",
      "\u001b[1m> Entering new LLMChain chain...\u001b[0m\n",
      "Prompt after formatting:\n",
      "\u001b[32;1m\u001b[1;3mSystem: You are having a chat with the human.\n",
      "Human: Which country is the biggest exporter of cotton?\n",
      "AI: China is the largest exporter of cotton, accounting for approximately 30-40% of the world's total cotton exports.\n",
      "Human: What is the total value of cotton exports of this country?\u001b[0m\n",
      "\n",
      "\u001b[1m> Finished chain.\u001b[0m\n"
     ]
    },
    {
     "data": {
      "text/plain": [
       "{'new_input': 'What is the total value of cotton exports of this country?',\n",
       " 'history': [HumanMessage(content='Which country is the biggest exporter of cotton?', additional_kwargs={}, response_metadata={}),\n",
       "  AIMessage(content=\"China is the largest exporter of cotton, accounting for approximately 30-40% of the world's total cotton exports.\", additional_kwargs={}, response_metadata={}),\n",
       "  HumanMessage(content='What is the total value of cotton exports of this country?', additional_kwargs={}, response_metadata={}),\n",
       "  AIMessage(content=\"The total value of cotton exports for China is difficult to estimate exactly, as it can vary greatly from year to year due to market fluctuations and other factors. However, based on recent data, in 2020-2021, China's cotton exports were valued at approximately $3.4 billion USD. \\n\\nHowever, please note that the value can be affected by factors like the global market, international trade policies, and other economic factors.\", additional_kwargs={}, response_metadata={})],\n",
       " 'text': \"The total value of cotton exports for China is difficult to estimate exactly, as it can vary greatly from year to year due to market fluctuations and other factors. However, based on recent data, in 2020-2021, China's cotton exports were valued at approximately $3.4 billion USD. \\n\\nHowever, please note that the value can be affected by factors like the global market, international trade policies, and other economic factors.\"}"
      ]
     },
     "execution_count": 26,
     "metadata": {},
     "output_type": "execute_result"
    }
   ],
   "source": [
    "chat_chain.invoke({\"new_input\":\"What is the total value of cotton exports of this country?\"})"
   ]
  },
  {
   "cell_type": "markdown",
   "id": "8d72d02c",
   "metadata": {},
   "source": [
    "### Changing the memory variable name"
   ]
  },
  {
   "cell_type": "code",
   "execution_count": 27,
   "id": "6822be92",
   "metadata": {},
   "outputs": [],
   "source": [
    "chatPrompt_2 = ChatPromptTemplate.from_messages(\n",
    "    [\n",
    "        SystemMessage(\n",
    "            content=\"You are having a chat with the human.\"\n",
    "        ),\n",
    "        MessagesPlaceholder(\n",
    "            variable_name=\"prev_conv\"\n",
    "        ),\n",
    "        HumanMessagePromptTemplate.from_template(\n",
    "            \"{new_input}\"\n",
    "        ),\n",
    "    ]\n",
    ")"
   ]
  },
  {
   "cell_type": "code",
   "execution_count": 28,
   "id": "3563681c",
   "metadata": {},
   "outputs": [],
   "source": [
    "chat_memory_2 = ConversationBufferMemory(memory_key=\"prev_conv\",return_messages=True)"
   ]
  },
  {
   "cell_type": "code",
   "execution_count": 29,
   "id": "9670f70b",
   "metadata": {},
   "outputs": [],
   "source": [
    "chat_chain_2 = LLMChain(llm=chat_lamma_llm,prompt=chatPrompt_2,memory=chat_memory_2,verbose=True) "
   ]
  },
  {
   "cell_type": "code",
   "execution_count": 30,
   "id": "a144173b",
   "metadata": {},
   "outputs": [
    {
     "name": "stdout",
     "output_type": "stream",
     "text": [
      "\n",
      "\n",
      "\u001b[1m> Entering new LLMChain chain...\u001b[0m\n",
      "Prompt after formatting:\n",
      "\u001b[32;1m\u001b[1;3mSystem: You are having a chat with the human.\n",
      "Human: Which country is the biggest exporter of cotton?\u001b[0m\n",
      "\n",
      "\u001b[1m> Finished chain.\u001b[0m\n"
     ]
    },
    {
     "data": {
      "text/plain": [
       "{'new_input': 'Which country is the biggest exporter of cotton?',\n",
       " 'prev_conv': [HumanMessage(content='Which country is the biggest exporter of cotton?', additional_kwargs={}, response_metadata={}),\n",
       "  AIMessage(content=\"The biggest exporter of cotton is China, accounting for a significant portion of the world's cotton exports.\", additional_kwargs={}, response_metadata={})],\n",
       " 'text': \"The biggest exporter of cotton is China, accounting for a significant portion of the world's cotton exports.\"}"
      ]
     },
     "execution_count": 30,
     "metadata": {},
     "output_type": "execute_result"
    }
   ],
   "source": [
    "chat_chain_2.invoke({\"new_input\":\"Which country is the biggest exporter of cotton?\"})"
   ]
  },
  {
   "cell_type": "markdown",
   "id": "359141ab",
   "metadata": {},
   "source": [
    "### Add messages to memory"
   ]
  },
  {
   "cell_type": "code",
   "execution_count": 31,
   "id": "293bf33c",
   "metadata": {},
   "outputs": [],
   "source": [
    "sample_memory = ConversationBufferMemory(memory_key=\"history\")"
   ]
  },
  {
   "cell_type": "code",
   "execution_count": 34,
   "id": "cb0a2d4c",
   "metadata": {},
   "outputs": [
    {
     "data": {
      "text/plain": [
       "{'history': ''}"
      ]
     },
     "execution_count": 34,
     "metadata": {},
     "output_type": "execute_result"
    }
   ],
   "source": [
    "sample_memory.load_memory_variables({})"
   ]
  },
  {
   "cell_type": "code",
   "execution_count": 35,
   "id": "9667c163",
   "metadata": {},
   "outputs": [],
   "source": [
    "sample_memory.chat_memory.add_user_message(\"Which country is the biggest exporter of cotton?\")\n",
    "sample_memory.chat_memory.add_ai_message(\"China\")"
   ]
  },
  {
   "cell_type": "code",
   "execution_count": 36,
   "id": "9d50bb57",
   "metadata": {},
   "outputs": [
    {
     "data": {
      "text/plain": [
       "{'history': 'Human: Which country is the biggest exporter of cotton?\\nAI: China'}"
      ]
     },
     "execution_count": 36,
     "metadata": {},
     "output_type": "execute_result"
    }
   ],
   "source": [
    "sample_memory.load_memory_variables({})"
   ]
  },
  {
   "cell_type": "code",
   "execution_count": 37,
   "id": "e9179648",
   "metadata": {},
   "outputs": [],
   "source": [
    "prompt_template_2 = PromptTemplate(\n",
    "    input_variables = [\"history\",\"new_input\"],\n",
    "    template=\"\"\"You are having a chat with human.\n",
    "        previous chat:{history}\n",
    "        Human: {new_input}\n",
    "        Assistant:\"\"\"\n",
    ")"
   ]
  },
  {
   "cell_type": "code",
   "execution_count": 38,
   "id": "3914e319",
   "metadata": {},
   "outputs": [],
   "source": [
    "chain_3 = LLMChain(llm=lamma_llm,prompt=prompt_template,memory=sample_memory,verbose=True)"
   ]
  },
  {
   "cell_type": "code",
   "execution_count": 39,
   "id": "610e19f7",
   "metadata": {},
   "outputs": [
    {
     "name": "stdout",
     "output_type": "stream",
     "text": [
      "\n",
      "\n",
      "\u001b[1m> Entering new LLMChain chain...\u001b[0m\n",
      "Prompt after formatting:\n",
      "\u001b[32;1m\u001b[1;3mYou are having a chat with human.\n",
      "        previous chat:Human: Which country is the biggest exporter of cotton?\n",
      "AI: China\n",
      "        Human: What is the total value of cotton exports of this country?\n",
      "        Assistant:\u001b[0m\n",
      "\n",
      "\u001b[1m> Finished chain.\u001b[0m\n"
     ]
    },
    {
     "data": {
      "text/plain": [
       "{'new_input': 'What is the total value of cotton exports of this country?',\n",
       " 'history': 'Human: Which country is the biggest exporter of cotton?\\nAI: China',\n",
       " 'text': \"However, I need a bit more information to provide an accurate answer. The total value of cotton exports from China can vary from year to year, influenced by factors such as global demand, production costs, and market trends.\\n\\nThat being said, according to the United Nations Comtrade database, in 2020, China's total value of cotton exports was approximately $12.4 billion USD. However, I would like to clarify that this information might not reflect the current or more recent data.\\n\\nIf you need the most up-to-date information or a specific year's data, please let me know, and I'll do my best to provide you with the accurate information.\"}"
      ]
     },
     "execution_count": 39,
     "metadata": {},
     "output_type": "execute_result"
    }
   ],
   "source": [
    "chain_3.invoke({\"new_input\":\"What is the total value of cotton exports of this country?\"})"
   ]
  },
  {
   "cell_type": "markdown",
   "id": "3bfe93b0",
   "metadata": {},
   "source": [
    "### Conversation Chain instead of LLMChain"
   ]
  },
  {
   "cell_type": "code",
   "execution_count": 41,
   "id": "aa1a730a",
   "metadata": {},
   "outputs": [],
   "source": [
    "from langchain.chains import ConversationChain"
   ]
  },
  {
   "cell_type": "code",
   "execution_count": 42,
   "id": "722ba448",
   "metadata": {},
   "outputs": [],
   "source": [
    "memory_3 = ConversationBufferMemory(memory_key=\"history\")"
   ]
  },
  {
   "cell_type": "code",
   "execution_count": 45,
   "id": "aec89ca0",
   "metadata": {},
   "outputs": [],
   "source": [
    "chain_4 = ConversationChain(llm=lamma_llm,memory=memory_3,verbose=True)"
   ]
  },
  {
   "cell_type": "code",
   "execution_count": 46,
   "id": "3b41958d",
   "metadata": {},
   "outputs": [
    {
     "name": "stdout",
     "output_type": "stream",
     "text": [
      "\n",
      "\n",
      "\u001b[1m> Entering new ConversationChain chain...\u001b[0m\n",
      "Prompt after formatting:\n",
      "\u001b[32;1m\u001b[1;3mThe following is a friendly conversation between a human and an AI. The AI is talkative and provides lots of specific details from its context. If the AI does not know the answer to a question, it truthfully says it does not know.\n",
      "\n",
      "Current conversation:\n",
      "\n",
      "Human: Which country is the biggest exporter of cotton?\n",
      "AI:\u001b[0m\n",
      "\n",
      "\u001b[1m> Finished chain.\u001b[0m\n"
     ]
    },
    {
     "data": {
      "text/plain": [
       "{'input': 'Which country is the biggest exporter of cotton?',\n",
       " 'history': '',\n",
       " 'response': \"China is the world's largest producer of cotton, accounting for approximately 33% of global production. However, when it comes to cotton exports, the country that tops the list is actually the United States. According to the International Trade Centre, in 2020, the United States was the largest exporter of cotton, with a total export value of around $5.6 billion.\\n\\nChina does export cotton, but its domestic market and production volumes are so large that it often uses its cotton for internal consumption rather than for export. India, Pakistan, and Brazil are also significant cotton-exporting countries, but the US takes the lead in terms of global cotton exports.\"}"
      ]
     },
     "execution_count": 46,
     "metadata": {},
     "output_type": "execute_result"
    }
   ],
   "source": [
    "chain_4.invoke({\"input\":\"Which country is the biggest exporter of cotton?\"})"
   ]
  },
  {
   "cell_type": "code",
   "execution_count": 47,
   "id": "09441f3a",
   "metadata": {},
   "outputs": [
    {
     "name": "stdout",
     "output_type": "stream",
     "text": [
      "The following is a friendly conversation between a human and an AI. The AI is talkative and provides lots of specific details from its context. If the AI does not know the answer to a question, it truthfully says it does not know.\n",
      "\n",
      "Current conversation:\n",
      "{history}\n",
      "Human: {input}\n",
      "AI:\n"
     ]
    }
   ],
   "source": [
    "print(chain_4.prompt.template)"
   ]
  },
  {
   "cell_type": "code",
   "execution_count": 48,
   "id": "b3e3ee6b",
   "metadata": {},
   "outputs": [
    {
     "name": "stdout",
     "output_type": "stream",
     "text": [
      "\n",
      "\n",
      "\u001b[1m> Entering new ConversationChain chain...\u001b[0m\n",
      "Prompt after formatting:\n",
      "\u001b[32;1m\u001b[1;3mThe following is a friendly conversation between a human and an AI. The AI is talkative and provides lots of specific details from its context. If the AI does not know the answer to a question, it truthfully says it does not know.\n",
      "\n",
      "Current conversation:\n",
      "Human: Which country is the biggest exporter of cotton?\n",
      "AI: China is the world's largest producer of cotton, accounting for approximately 33% of global production. However, when it comes to cotton exports, the country that tops the list is actually the United States. According to the International Trade Centre, in 2020, the United States was the largest exporter of cotton, with a total export value of around $5.6 billion.\n",
      "\n",
      "China does export cotton, but its domestic market and production volumes are so large that it often uses its cotton for internal consumption rather than for export. India, Pakistan, and Brazil are also significant cotton-exporting countries, but the US takes the lead in terms of global cotton exports.\n",
      "Human: What is the total value of cotton exports of this country?\n",
      "AI:\u001b[0m\n",
      "\n",
      "\u001b[1m> Finished chain.\u001b[0m\n"
     ]
    },
    {
     "data": {
      "text/plain": [
       "{'input': 'What is the total value of cotton exports of this country?',\n",
       " 'history': \"Human: Which country is the biggest exporter of cotton?\\nAI: China is the world's largest producer of cotton, accounting for approximately 33% of global production. However, when it comes to cotton exports, the country that tops the list is actually the United States. According to the International Trade Centre, in 2020, the United States was the largest exporter of cotton, with a total export value of around $5.6 billion.\\n\\nChina does export cotton, but its domestic market and production volumes are so large that it often uses its cotton for internal consumption rather than for export. India, Pakistan, and Brazil are also significant cotton-exporting countries, but the US takes the lead in terms of global cotton exports.\",\n",
       " 'response': \"According to the International Trade Centre, the total value of cotton exports of the United States in 2020 was around $5.6 billion. However, I can also provide you with more detailed information on cotton exports from the US in recent years. In 2019, the total value of US cotton exports was approximately $5.3 billion, and in 2021, it was around $6.3 billion.\\n\\nIt's worth noting that the value of cotton exports can fluctuate from year to year based on factors such as global demand, prices, and production levels. If you're looking for more up-to-date information or the total value of US cotton exports for a specific year, I'd be happy to try and assist you further.\\n\\nAdditionally, you can also check the data from the United States Department of Agriculture (USDA) Foreign Agricultural Service, which provides detailed information on US cotton exports, including the total value, quantity, and destination countries.\"}"
      ]
     },
     "execution_count": 48,
     "metadata": {},
     "output_type": "execute_result"
    }
   ],
   "source": [
    "chain_4.invoke({\"input\":\"What is the total value of cotton exports of this country?\"})"
   ]
  },
  {
   "cell_type": "code",
   "execution_count": 49,
   "id": "eb89c5d7",
   "metadata": {},
   "outputs": [
    {
     "name": "stdout",
     "output_type": "stream",
     "text": [
      "Human: Which country is the biggest exporter of cotton?\n",
      "AI: China is the world's largest producer of cotton, accounting for approximately 33% of global production. However, when it comes to cotton exports, the country that tops the list is actually the United States. According to the International Trade Centre, in 2020, the United States was the largest exporter of cotton, with a total export value of around $5.6 billion.\n",
      "\n",
      "China does export cotton, but its domestic market and production volumes are so large that it often uses its cotton for internal consumption rather than for export. India, Pakistan, and Brazil are also significant cotton-exporting countries, but the US takes the lead in terms of global cotton exports.\n",
      "Human: What is the total value of cotton exports of this country?\n",
      "AI: According to the International Trade Centre, the total value of cotton exports of the United States in 2020 was around $5.6 billion. However, I can also provide you with more detailed information on cotton exports from the US in recent years. In 2019, the total value of US cotton exports was approximately $5.3 billion, and in 2021, it was around $6.3 billion.\n",
      "\n",
      "It's worth noting that the value of cotton exports can fluctuate from year to year based on factors such as global demand, prices, and production levels. If you're looking for more up-to-date information or the total value of US cotton exports for a specific year, I'd be happy to try and assist you further.\n",
      "\n",
      "Additionally, you can also check the data from the United States Department of Agriculture (USDA) Foreign Agricultural Service, which provides detailed information on US cotton exports, including the total value, quantity, and destination countries.\n"
     ]
    }
   ],
   "source": [
    "print(chain_4.memory.buffer)"
   ]
  },
  {
   "cell_type": "code",
   "execution_count": null,
   "id": "222fe6a0",
   "metadata": {},
   "outputs": [],
   "source": []
  }
 ],
 "metadata": {
  "kernelspec": {
   "display_name": "Python 3",
   "language": "python",
   "name": "python3"
  },
  "language_info": {
   "codemirror_mode": {
    "name": "ipython",
    "version": 3
   },
   "file_extension": ".py",
   "mimetype": "text/x-python",
   "name": "python",
   "nbconvert_exporter": "python",
   "pygments_lexer": "ipython3",
   "version": "3.10.0"
  }
 },
 "nbformat": 4,
 "nbformat_minor": 5
}
