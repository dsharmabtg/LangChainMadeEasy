{
 "cells": [
  {
   "cell_type": "code",
   "execution_count": 1,
   "id": "f43e4d36",
   "metadata": {},
   "outputs": [],
   "source": [
    "import os"
   ]
  },
  {
   "cell_type": "code",
   "execution_count": 2,
   "id": "ce5b80dd",
   "metadata": {},
   "outputs": [],
   "source": [
    "def get_file_contents(filename):\n",
    "    \"\"\" Given a filename,\n",
    "        return the contents of that file\n",
    "    \"\"\"\n",
    "    try:\n",
    "        with open(filename, 'r') as f:\n",
    "            # It's assumed our file contains a single line,\n",
    "            # with our API key\n",
    "            return f.read().strip()\n",
    "    except FileNotFoundError:\n",
    "        print(\"'%s' file not found\" % filename)"
   ]
  },
  {
   "cell_type": "code",
   "execution_count": null,
   "id": "48593206",
   "metadata": {},
   "outputs": [],
   "source": [
    "filename = \"..\\\\GoogleAPIKey.txt\""
   ]
  },
  {
   "cell_type": "code",
   "execution_count": 4,
   "id": "2ea5ce94",
   "metadata": {},
   "outputs": [],
   "source": [
    "os.environ['GOOGLE_API_KEY'] = get_file_contents(filename)"
   ]
  },
  {
   "cell_type": "code",
   "execution_count": null,
   "id": "c702c8e6",
   "metadata": {},
   "outputs": [],
   "source": [
    "filename_grokKey = \"..\\\\GroqAPIKey.txt\""
   ]
  },
  {
   "cell_type": "code",
   "execution_count": 6,
   "id": "e16dfe76",
   "metadata": {},
   "outputs": [],
   "source": [
    "os.environ['GROQ_API_KEY'] = get_file_contents(filename_grokKey)"
   ]
  },
  {
   "cell_type": "markdown",
   "id": "1cfd78d9",
   "metadata": {},
   "source": [
    "### RunnablePassthrough, RunnableLambda and RunnableParallel"
   ]
  },
  {
   "cell_type": "code",
   "execution_count": 7,
   "id": "bcf0cf16",
   "metadata": {},
   "outputs": [],
   "source": [
    "from langchain import PromptTemplate\n",
    "from langchain.chains import LLMChain\n",
    "from langchain.chains import SequentialChain\n",
    "from langchain_google_genai import GoogleGenerativeAI\n",
    "from langchain_google_genai import ChatGoogleGenerativeAI\n",
    "from langchain_core.output_parsers import StrOutputParser\n",
    "from langchain_core.runnables import RunnablePassthrough,RunnableLambda,RunnableParallel\n",
    "from langchain_groq import ChatGroq"
   ]
  },
  {
   "cell_type": "code",
   "execution_count": 8,
   "id": "dc27c76f",
   "metadata": {},
   "outputs": [],
   "source": [
    "explainer_template = PromptTemplate(\n",
    "    input_variables=[\"topic\"],\n",
    "    template=\"Explain this topic in a single paragraph as if you were explaining it to a 10 year old - {topic}\"\n",
    ")"
   ]
  },
  {
   "cell_type": "code",
   "execution_count": 9,
   "id": "9ff74efa",
   "metadata": {},
   "outputs": [],
   "source": [
    "gemini_llm = ChatGoogleGenerativeAI(model='gemini-1.5-pro-001')"
   ]
  },
  {
   "cell_type": "code",
   "execution_count": 10,
   "id": "74dc7960",
   "metadata": {},
   "outputs": [
    {
     "name": "stdout",
     "output_type": "stream",
     "text": [
      "Imagine you have a ball in your hand. When you let go, it falls to the ground, right? That's because of something called gravity! It's an invisible force that pulls everything towards each other. The Earth is really big and heavy, so it has strong gravity that pulls everything towards it, like us, the ball, and even the air we breathe. That's why we stay on the ground and don't float away! \n"
     ]
    }
   ],
   "source": [
    "gemini_chain = explainer_template | gemini_llm | StrOutputParser()\n",
    "print(gemini_chain.invoke({\"topic\":\"Gravity\"}))"
   ]
  },
  {
   "cell_type": "code",
   "execution_count": 11,
   "id": "d18ca2d0",
   "metadata": {},
   "outputs": [],
   "source": [
    "lamma_llm = ChatGroq(model=\"llama-3.1-8b-instant\")"
   ]
  },
  {
   "cell_type": "code",
   "execution_count": 12,
   "id": "36a3c195",
   "metadata": {},
   "outputs": [
    {
     "name": "stdout",
     "output_type": "stream",
     "text": [
      "Gravity is a really cool force that pulls everything towards each other. Imagine you have a ball, and you throw it up in the air. What happens? It comes back down to the ground, right? That's because the Earth is pulling on the ball with its gravity. The Earth is like a big magnet that attracts everything towards it, but instead of using a magnetic field, it uses gravity. The more massive the object, the stronger its gravity is. That's why you don't float off into space when you're standing on the Earth's surface - the Earth's gravity is pulling you down. It's also what keeps you on the ground when you're standing or sitting. So, gravity is like a big hug from the Earth that keeps everything connected to it.\n"
     ]
    }
   ],
   "source": [
    "lamma_chain = explainer_template | lamma_llm | StrOutputParser()\n",
    "print(lamma_chain.invoke({\"topic\":\"Gravity\"}))"
   ]
  },
  {
   "cell_type": "code",
   "execution_count": 13,
   "id": "645107ce",
   "metadata": {},
   "outputs": [],
   "source": [
    "analyzer_template = PromptTemplate(\n",
    "    input_variables=[\"topic\",\"explanation1\",\"explanation2\"],\n",
    "    template=\"\"\"\n",
    "            Which of the two explanations given below are better for explaining {topic} to 10 year old students.\n",
    "            ###\n",
    "            Explanation 1 - {explanation1}\n",
    "            ###\n",
    "            ***\n",
    "            Explanation 2 - {explanation2}\n",
    "            \"\"\"\n",
    ")"
   ]
  },
  {
   "cell_type": "code",
   "execution_count": 16,
   "id": "5e84c407",
   "metadata": {},
   "outputs": [],
   "source": [
    "combined_chain = (\n",
    "    RunnableParallel({\"explanation1\":gemini_chain, \"explanation2\":lamma_chain, \"topic\":RunnablePassthrough()}) \n",
    "    | analyzer_template | gemini_llm | StrOutputParser() \n",
    ")"
   ]
  },
  {
   "cell_type": "code",
   "execution_count": 18,
   "id": "8a4003ae",
   "metadata": {},
   "outputs": [
    {
     "name": "stdout",
     "output_type": "stream",
     "text": [
      "Both explanations are good and age-appropriate, but **Explanation 1 is slightly better for a 10-year-old** for these reasons:\n",
      "\n",
      "* **Clearer Structure:** Explanation 1 follows a more logical flow, starting with a relatable example (dropping a ball) and then introducing the concept of gravity.  It then expands to explain Earth's gravity and its effects. \n",
      "* **Emphasis on Size:**  Explanation 1 clearly connects the strength of gravity to the size of the object, which is a fundamental concept.\n",
      "* **Concise and Focused:** Explanation 1 stays focused on the core concept of gravity and its effects.  \n",
      "\n",
      "While Explanation 2 is engaging and uses good analogies, it's slightly less focused and might be a little harder for a 10-year-old to follow all the points at once.\n",
      "\n",
      "**Here's how you could make Explanation 1 even better:**\n",
      "\n",
      "* **Visual Aid:**  Pair the explanation with a visual, like a picture of the Earth and moon or a ball falling to the ground.\n",
      "* **Interactive Element:**  Have the child drop different objects to experience gravity firsthand. \n",
      "* **Simple Question:**  End with a question like, \"What else do you think gravity pulls down?\" to encourage further thinking. \n"
     ]
    }
   ],
   "source": [
    "print(combined_chain.invoke({\"topic\":\"Gravity\"}))"
   ]
  },
  {
   "cell_type": "code",
   "execution_count": 21,
   "id": "3325cb5d",
   "metadata": {},
   "outputs": [],
   "source": [
    "analyzer_chain = analyzer_template | gemini_llm | StrOutputParser()\n",
    "\n",
    "updated_chain = (\n",
    "    RunnableParallel({\"explanation1\":gemini_chain, \"explanation2\":lamma_chain, \"topic\":RunnablePassthrough()})\n",
    "    | RunnableParallel({\"input\": RunnablePassthrough(), \"analysis\":analyzer_chain})\n",
    ")\n"
   ]
  },
  {
   "cell_type": "code",
   "execution_count": 22,
   "id": "ca1212a2",
   "metadata": {},
   "outputs": [
    {
     "data": {
      "text/plain": [
       "{'input': {'explanation1': \"Imagine you throw a ball up in the air.  What happens? It comes back down, right? That's because of something called gravity! It's an invisible force that pulls everything towards each other. The Earth is really big, so it has strong gravity that pulls everything towards the ground, like you, me, that ball, and even the air we breathe! The sun has even stronger gravity, which is why the Earth stays close and goes around it. \",\n",
       "  'explanation2': \"Gravity is a really cool thing that happens in our universe. It's like a magic string that pulls everything towards each other. Imagine you have a ball and you throw it up in the air. What happens? It comes back down to the ground, right? That's because the Earth is pulling on the ball with its gravity. The Earth is like a giant magnet, but instead of making things stick to it, it pulls everything towards itself. That's why you don't float off into space when you're standing on the ground. It's also why things fall down instead of up. Everything in the world has gravity, even you, but the Earth's gravity is so strong that it's what keeps us on the ground.\",\n",
       "  'topic': {'topic': 'Gravity'}},\n",
       " 'analysis': 'Both explanations are good and use age-appropriate language, but **Explanation 1 is slightly better** for a few reasons:\\n\\n* **More accurate analogy:** While both use analogies (magnet, invisible string), the \"invisible force\" in Explanation 1 is a more accurate representation of gravity than a \"magic string\".  Ten-year-olds are starting to grasp more complex concepts.\\n* **Introduces the concept of varying gravity:** Explanation 1 briefly touches upon the Sun\\'s gravity and its effect on Earth. This helps broaden their understanding of gravity beyond just Earth\\'s pull.\\n* **Slightly clearer structure:** Explanation 1 feels a touch more organized in its flow, starting with the familiar example of the ball and then explaining the concept. \\n\\n**How to improve Explanation 2:**\\n\\n* **Replace \"magic string\"** with a less fantastical analogy.\\n* **Emphasize it\\'s a force, not an object:** Saying \"The Earth is pulling\" is good, but mentioning \"gravity is a force\" adds clarity.\\n* **Briefly mention the Sun (like Explanation 1) to broaden the concept.**\\n\\nOverall, both explanations are good starting points, and with a few tweaks, Explanation 2 could be equally effective. '}"
      ]
     },
     "execution_count": 22,
     "metadata": {},
     "output_type": "execute_result"
    }
   ],
   "source": [
    "updated_chain.invoke({\"topic\":\"Gravity\"})"
   ]
  },
  {
   "cell_type": "code",
   "execution_count": null,
   "id": "ca6aa177",
   "metadata": {},
   "outputs": [],
   "source": []
  }
 ],
 "metadata": {
  "kernelspec": {
   "display_name": "Python 3",
   "language": "python",
   "name": "python3"
  },
  "language_info": {
   "codemirror_mode": {
    "name": "ipython",
    "version": 3
   },
   "file_extension": ".py",
   "mimetype": "text/x-python",
   "name": "python",
   "nbconvert_exporter": "python",
   "pygments_lexer": "ipython3",
   "version": "3.10.0"
  }
 },
 "nbformat": 4,
 "nbformat_minor": 5
}
