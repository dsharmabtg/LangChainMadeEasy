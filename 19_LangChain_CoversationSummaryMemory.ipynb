{
 "cells": [
  {
   "cell_type": "code",
   "execution_count": 1,
   "id": "f43e4d36",
   "metadata": {},
   "outputs": [],
   "source": [
    "import os"
   ]
  },
  {
   "cell_type": "code",
   "execution_count": 2,
   "id": "ce5b80dd",
   "metadata": {},
   "outputs": [],
   "source": [
    "def get_file_contents(filename):\n",
    "    \"\"\" Given a filename,\n",
    "        return the contents of that file\n",
    "    \"\"\"\n",
    "    try:\n",
    "        with open(filename, 'r') as f:\n",
    "            # It's assumed our file contains a single line,\n",
    "            # with our API key\n",
    "            return f.read().strip()\n",
    "    except FileNotFoundError:\n",
    "        print(\"'%s' file not found\" % filename)"
   ]
  },
  {
   "cell_type": "code",
   "execution_count": null,
   "id": "48593206",
   "metadata": {},
   "outputs": [],
   "source": [
    "filename = \"..\\\\GoogleAPIKey.txt\""
   ]
  },
  {
   "cell_type": "code",
   "execution_count": 4,
   "id": "2ea5ce94",
   "metadata": {},
   "outputs": [],
   "source": [
    "os.environ['GOOGLE_API_KEY'] = get_file_contents(filename)"
   ]
  },
  {
   "cell_type": "code",
   "execution_count": null,
   "id": "c702c8e6",
   "metadata": {},
   "outputs": [],
   "source": [
    "filename_grokKey = \"..\\\\GroqAPIKey.txt\""
   ]
  },
  {
   "cell_type": "code",
   "execution_count": 6,
   "id": "e16dfe76",
   "metadata": {},
   "outputs": [],
   "source": [
    "os.environ['GROQ_API_KEY'] = get_file_contents(filename_grokKey)"
   ]
  },
  {
   "cell_type": "markdown",
   "id": "1cfd78d9",
   "metadata": {},
   "source": [
    "### Conversation Summary Memory"
   ]
  },
  {
   "cell_type": "code",
   "execution_count": 7,
   "id": "bcf0cf16",
   "metadata": {},
   "outputs": [],
   "source": [
    "from langchain import PromptTemplate\n",
    "from langchain.chains import LLMChain\n",
    "from langchain_groq import ChatGroq\n",
    "from langchain_google_genai import GoogleGenerativeAI\n",
    "from langchain.chains import ConversationChain\n",
    "from langchain.memory import ConversationSummaryMemory,ChatMessageHistory\n"
   ]
  },
  {
   "cell_type": "code",
   "execution_count": null,
   "id": "99a67a41",
   "metadata": {},
   "outputs": [],
   "source": [
    "#gemini_llm = ChatGoogleGenerativeAI(model='gemini-1.5-pro-001')\n",
    "lamma_llm = ChatGroq(model=\"llama-3.1-8b-instant\",temperature=0)\n",
    "#google_llm = GoogleGenerativeAI(model='gemini-1.5-pro-001')"
   ]
  },
  {
   "cell_type": "code",
   "execution_count": 13,
   "id": "02df1a43",
   "metadata": {},
   "outputs": [],
   "source": [
    "google_llm = GoogleGenerativeAI(model='gemini-1.5-pro-001',temperature=0)"
   ]
  },
  {
   "cell_type": "code",
   "execution_count": 15,
   "id": "e70cc446",
   "metadata": {},
   "outputs": [],
   "source": [
    "memory_1=ConversationSummaryMemory(llm=lamma_llm)\n",
    "memory_2=ConversationSummaryMemory(llm=google_llm)"
   ]
  },
  {
   "cell_type": "code",
   "execution_count": 17,
   "id": "511ee92c",
   "metadata": {},
   "outputs": [],
   "source": [
    "memory_1.save_context({\"input\":\"Which country is the biggest exporter of cotton?\"},{\"output\":\"China\"})\n",
    "memory_2.save_context({\"input\":\"Which country is the biggest exporter of cotton?\"},{\"output\":\"China\"})"
   ]
  },
  {
   "cell_type": "code",
   "execution_count": 19,
   "id": "c7e55f00",
   "metadata": {},
   "outputs": [
    {
     "data": {
      "text/plain": [
       "{'history': 'Current summary:\\nThere is no previous conversation to summarize.\\n\\nNew lines of conversation:\\nHuman: Which country is the biggest exporter of cotton?\\nAI: China\\n\\nNew summary:\\nThe human asks which country is the biggest exporter of cotton, and the AI responds that it is China.'}"
      ]
     },
     "execution_count": 19,
     "metadata": {},
     "output_type": "execute_result"
    }
   ],
   "source": [
    "memory_1.load_memory_variables({})"
   ]
  },
  {
   "cell_type": "code",
   "execution_count": 20,
   "id": "fd83a1e0",
   "metadata": {},
   "outputs": [
    {
     "data": {
      "text/plain": [
       "{'history': 'New summary:\\nThe human asked for the biggest exporter of cotton, and the AI responded with China. '}"
      ]
     },
     "execution_count": 20,
     "metadata": {},
     "output_type": "execute_result"
    }
   ],
   "source": [
    "memory_2.load_memory_variables({})"
   ]
  },
  {
   "cell_type": "code",
   "execution_count": 24,
   "id": "a719c46c",
   "metadata": {},
   "outputs": [],
   "source": [
    "conversation_with_summary_1 = ConversationChain(\n",
    "    llm=lamma_llm,\n",
    "    memory=ConversationSummaryMemory(llm=lamma_llm),\n",
    "    verbose=True\n",
    ")"
   ]
  },
  {
   "cell_type": "code",
   "execution_count": 25,
   "id": "7d108550",
   "metadata": {},
   "outputs": [
    {
     "name": "stdout",
     "output_type": "stream",
     "text": [
      "\n",
      "\n",
      "\u001b[1m> Entering new ConversationChain chain...\u001b[0m\n",
      "Prompt after formatting:\n",
      "\u001b[32;1m\u001b[1;3mThe following is a friendly conversation between a human and an AI. The AI is talkative and provides lots of specific details from its context. If the AI does not know the answer to a question, it truthfully says it does not know.\n",
      "\n",
      "Current conversation:\n",
      "\n",
      "Human: Which country is the biggest exporter of cotton?\n",
      "AI:\u001b[0m\n",
      "\n",
      "\u001b[1m> Finished chain.\u001b[0m\n"
     ]
    },
    {
     "data": {
      "text/plain": [
       "{'input': 'Which country is the biggest exporter of cotton?',\n",
       " 'history': '',\n",
       " 'response': \"China is actually the world's largest producer of cotton, accounting for over 30% of global production. However, when it comes to cotton exports, the picture is a bit different. According to the International Trade Centre, in 2020, the top cotton-exporting countries were:\\n\\n1. India: With a total export value of around $6.4 billion, India was the largest exporter of cotton in 2020.\\n2. United States: The United States was the second-largest exporter of cotton in 2020, with a total export value of around $5.6 billion.\\n3. Brazil: Brazil was the third-largest exporter of cotton in 2020, with a total export value of around $2.3 billion.\\n\\nSo, to answer your question, India is the biggest exporter of cotton.\"}"
      ]
     },
     "execution_count": 25,
     "metadata": {},
     "output_type": "execute_result"
    }
   ],
   "source": [
    "conversation_with_summary_1.invoke(input=\"Which country is the biggest exporter of cotton?\")"
   ]
  },
  {
   "cell_type": "code",
   "execution_count": 29,
   "id": "0f772644",
   "metadata": {},
   "outputs": [
    {
     "name": "stdout",
     "output_type": "stream",
     "text": [
      "\n",
      "\n",
      "\u001b[1m> Entering new ConversationChain chain...\u001b[0m\n",
      "Prompt after formatting:\n",
      "\u001b[32;1m\u001b[1;3mThe following is a friendly conversation between a human and an AI. The AI is talkative and provides lots of specific details from its context. If the AI does not know the answer to a question, it truthfully says it does not know.\n",
      "\n",
      "Current conversation:\n",
      "Current summary:\n",
      "The human asks which country is the biggest exporter of cotton. The AI states that China is the world's largest producer of cotton, but when it comes to exports, India is the largest exporter, followed by the United States and Brazil.\n",
      "\n",
      "New lines of conversation:\n",
      "Human: What is the cotton value of cotton exports of this country?\n",
      "AI: According to the International Trade Centre, India's cotton exports have been steadily increasing over the years. In 2020, India's cotton exports were valued at approximately $6.4 billion. However, I must note that the cotton value of exports can fluctuate greatly depending on factors such as global demand, production costs, and market trends.\n",
      "\n",
      "To give you a better idea, in 2020, India's cotton exports accounted for around 25% of the country's total textile exports. The majority of India's cotton exports go to countries such as Bangladesh, Vietnam, and Cambodia, which are major textile producers in their own right.\n",
      "\n",
      "It's worth noting that the cotton value of exports can also be influenced by the type of cotton being exported. India is known for its high-quality long-staple cotton, which is in high demand globally. The export value of this type of cotton is typically higher than that of other types of cotton.\n",
      "\n",
      "If you'd like more specific information on India's cotton exports, I can try to provide you with data from the Indian Ministry of Textiles or the International Cotton Advisory Committee.\n",
      "\n",
      "New summary:\n",
      "The human asks which country is the biggest exporter of cotton. The AI states that China is the world's largest producer of cotton, but when it comes to exports, India is the largest exporter, followed by the United States and Brazil. India's cotton exports have been steadily increasing, with a value of approximately $6.4 billion in 2020, accounting for around 25% of the country's total textile exports. The majority of India's cotton exports go to countries such as Bangladesh, Vietnam, and Cambodia, and the value of exports can be influenced by factors such as global demand, production costs, and market trends, as well as the type of cotton being exported.\n",
      "Human: What is the total value of cotton exports of this country?\n",
      "AI:\u001b[0m\n",
      "\n",
      "\u001b[1m> Finished chain.\u001b[0m\n"
     ]
    },
    {
     "data": {
      "text/plain": [
       "{'input': 'What is the total value of cotton exports of this country?',\n",
       " 'history': \"Current summary:\\nThe human asks which country is the biggest exporter of cotton. The AI states that China is the world's largest producer of cotton, but when it comes to exports, India is the largest exporter, followed by the United States and Brazil.\\n\\nNew lines of conversation:\\nHuman: What is the cotton value of cotton exports of this country?\\nAI: According to the International Trade Centre, India's cotton exports have been steadily increasing over the years. In 2020, India's cotton exports were valued at approximately $6.4 billion. However, I must note that the cotton value of exports can fluctuate greatly depending on factors such as global demand, production costs, and market trends.\\n\\nTo give you a better idea, in 2020, India's cotton exports accounted for around 25% of the country's total textile exports. The majority of India's cotton exports go to countries such as Bangladesh, Vietnam, and Cambodia, which are major textile producers in their own right.\\n\\nIt's worth noting that the cotton value of exports can also be influenced by the type of cotton being exported. India is known for its high-quality long-staple cotton, which is in high demand globally. The export value of this type of cotton is typically higher than that of other types of cotton.\\n\\nIf you'd like more specific information on India's cotton exports, I can try to provide you with data from the Indian Ministry of Textiles or the International Cotton Advisory Committee.\\n\\nNew summary:\\nThe human asks which country is the biggest exporter of cotton. The AI states that China is the world's largest producer of cotton, but when it comes to exports, India is the largest exporter, followed by the United States and Brazil. India's cotton exports have been steadily increasing, with a value of approximately $6.4 billion in 2020, accounting for around 25% of the country's total textile exports. The majority of India's cotton exports go to countries such as Bangladesh, Vietnam, and Cambodia, and the value of exports can be influenced by factors such as global demand, production costs, and market trends, as well as the type of cotton being exported.\",\n",
       " 'response': \"I'm glad you're interested in learning more about India's cotton exports. According to the International Trade Centre, India's total cotton exports in 2020 were valued at approximately $6.4 billion. However, I can try to provide you with more up-to-date information or data from previous years if you'd like.\\n\\nTo give you a better idea, here are the total cotton exports values for India for the past few years:\\n\\n- 2018: $5.6 billion\\n- 2019: $6.1 billion\\n- 2020: $6.4 billion\\n- 2021: $7.1 billion\\n\\nPlease note that these values are subject to change and may not reflect the current market situation. If you'd like more specific information or data from a particular year, I can try to provide it for you.\"}"
      ]
     },
     "execution_count": 29,
     "metadata": {},
     "output_type": "execute_result"
    }
   ],
   "source": [
    "conversation_with_summary_1.invoke(input=\"What is the total value of cotton exports of this country?\")"
   ]
  },
  {
   "cell_type": "code",
   "execution_count": 27,
   "id": "e357c6a5",
   "metadata": {},
   "outputs": [],
   "source": [
    "conversation_with_summary_2 = ConversationChain(\n",
    "    llm=google_llm,\n",
    "    memory=ConversationSummaryMemory(llm=google_llm),\n",
    "    verbose=True\n",
    ")"
   ]
  },
  {
   "cell_type": "code",
   "execution_count": 28,
   "id": "7c771834",
   "metadata": {},
   "outputs": [
    {
     "name": "stdout",
     "output_type": "stream",
     "text": [
      "\n",
      "\n",
      "\u001b[1m> Entering new ConversationChain chain...\u001b[0m\n",
      "Prompt after formatting:\n",
      "\u001b[32;1m\u001b[1;3mThe following is a friendly conversation between a human and an AI. The AI is talkative and provides lots of specific details from its context. If the AI does not know the answer to a question, it truthfully says it does not know.\n",
      "\n",
      "Current conversation:\n",
      "\n",
      "Human: Which country is the biggest exporter of cotton?\n",
      "AI:\u001b[0m\n",
      "\n",
      "\u001b[1m> Finished chain.\u001b[0m\n"
     ]
    },
    {
     "data": {
      "text/plain": [
       "{'input': 'Which country is the biggest exporter of cotton?',\n",
       " 'history': '',\n",
       " 'response': \"That would be India! 🇮🇳 They've recently overtaken the United States in cotton exports. It's interesting how the global market shifts, isn't it?  Do you know anything about the cotton industry? \"}"
      ]
     },
     "execution_count": 28,
     "metadata": {},
     "output_type": "execute_result"
    }
   ],
   "source": [
    "conversation_with_summary_2.invoke(input=\"Which country is the biggest exporter of cotton?\")"
   ]
  },
  {
   "cell_type": "code",
   "execution_count": 30,
   "id": "de61e1f7",
   "metadata": {},
   "outputs": [
    {
     "name": "stdout",
     "output_type": "stream",
     "text": [
      "\n",
      "\n",
      "\u001b[1m> Entering new ConversationChain chain...\u001b[0m\n",
      "Prompt after formatting:\n",
      "\u001b[32;1m\u001b[1;3mThe following is a friendly conversation between a human and an AI. The AI is talkative and provides lots of specific details from its context. If the AI does not know the answer to a question, it truthfully says it does not know.\n",
      "\n",
      "Current conversation:\n",
      "New summary:\n",
      "The human asks which country is the biggest exporter of cotton. The AI responds that it is India, who recently overtook the United States. \n",
      "Human: What is the total value of cotton exports of this country?\n",
      "AI:\u001b[0m\n",
      "\n",
      "\u001b[1m> Finished chain.\u001b[0m\n"
     ]
    },
    {
     "data": {
      "text/plain": [
       "{'input': 'What is the total value of cotton exports of this country?',\n",
       " 'history': 'New summary:\\nThe human asks which country is the biggest exporter of cotton. The AI responds that it is India, who recently overtook the United States. ',\n",
       " 'response': \"I do not have access to real-time information, such as constantly fluctuating market values, to give you the total value of India's cotton exports.  To find that information, you could try searching for the latest reports from organizations like the Indian Ministry of Commerce & Industry or international trade bodies. \"}"
      ]
     },
     "execution_count": 30,
     "metadata": {},
     "output_type": "execute_result"
    }
   ],
   "source": [
    "conversation_with_summary_2.invoke(input=\"What is the total value of cotton exports of this country?\")"
   ]
  }
 ],
 "metadata": {
  "kernelspec": {
   "display_name": "Python 3",
   "language": "python",
   "name": "python3"
  },
  "language_info": {
   "codemirror_mode": {
    "name": "ipython",
    "version": 3
   },
   "file_extension": ".py",
   "mimetype": "text/x-python",
   "name": "python",
   "nbconvert_exporter": "python",
   "pygments_lexer": "ipython3",
   "version": "3.10.0"
  }
 },
 "nbformat": 4,
 "nbformat_minor": 5
}
