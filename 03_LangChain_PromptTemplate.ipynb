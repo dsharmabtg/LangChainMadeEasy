{
 "cells": [
  {
   "cell_type": "markdown",
   "id": "8c7f186f",
   "metadata": {},
   "source": [
    "## Prompt Templates"
   ]
  },
  {
   "cell_type": "code",
   "execution_count": 1,
   "id": "a908fb67",
   "metadata": {},
   "outputs": [],
   "source": [
    "import os"
   ]
  },
  {
   "cell_type": "code",
   "execution_count": 2,
   "metadata": {},
   "outputs": [],
   "source": [
    "def get_file_contents(filename):\n",
    "    \"\"\" Given a filename,\n",
    "        return the contents of that file\n",
    "    \"\"\"\n",
    "    try:\n",
    "        with open(filename, 'r') as f:\n",
    "            # It's assumed our file contains a single line,\n",
    "            # with our API key\n",
    "            return f.read().strip()\n",
    "    except FileNotFoundError:\n",
    "        print(\"'%s' file not found\" % filename)"
   ]
  },
  {
   "cell_type": "code",
   "execution_count": null,
   "id": "ef1e1689",
   "metadata": {},
   "outputs": [],
   "source": [
    "filename = \"..\\\\GoogleAPIKey.txt\""
   ]
  },
  {
   "cell_type": "code",
   "execution_count": 4,
   "id": "240fe2bb",
   "metadata": {},
   "outputs": [],
   "source": [
    "os.environ['GOOGLE_API_KEY'] = get_file_contents(filename)"
   ]
  },
  {
   "cell_type": "code",
   "execution_count": 5,
   "id": "c87bc3f0",
   "metadata": {},
   "outputs": [],
   "source": [
    "from langchain import PromptTemplate"
   ]
  },
  {
   "cell_type": "code",
   "execution_count": null,
   "id": "46d74255",
   "metadata": {},
   "outputs": [
    {
     "name": "stdout",
     "output_type": "stream",
     "text": [
      "Give me a one line definition of Sesquipedalian. Then give one example of how it is used.\n"
     ]
    }
   ],
   "source": [
    "dictionary_template = PromptTemplate(\n",
    "    input_variables = ['word'],\n",
    "    template = \"Give me a one line definition of {word}. Then give one example of how it is used.\"\n",
    ")\n",
    "p = dictionary_template.format(word=\"Sesquipedalian\")\n",
    "print(p)\n"
   ]
  },
  {
   "cell_type": "code",
   "execution_count": 7,
   "id": "e7aa1560",
   "metadata": {},
   "outputs": [],
   "source": [
    "from langchain_google_genai import ChatGoogleGenerativeAI"
   ]
  },
  {
   "cell_type": "code",
   "execution_count": 9,
   "id": "9f12dab4",
   "metadata": {},
   "outputs": [],
   "source": [
    "googleLLM = ChatGoogleGenerativeAI(model='gemini-1.5-pro-002')"
   ]
  },
  {
   "cell_type": "code",
   "execution_count": 10,
   "id": "f3b228aa",
   "metadata": {},
   "outputs": [
    {
     "name": "stdout",
     "output_type": "stream",
     "text": [
      "Sesquipedalian: Characterized by long words; given to or using long words.\n",
      "\n",
      "Example: The professor's sesquipedalian lectures, filled with terms like \"epistemological\" and \"ontological,\" often left the students bewildered.\n"
     ]
    }
   ],
   "source": [
    "print(googleLLM.invoke(p).content)"
   ]
  },
  {
   "cell_type": "markdown",
   "id": "79671107",
   "metadata": {},
   "source": [
    "#### Multiple input variables"
   ]
  },
  {
   "cell_type": "code",
   "execution_count": 11,
   "id": "f5d5ecdd",
   "metadata": {},
   "outputs": [
    {
     "name": "stdout",
     "output_type": "stream",
     "text": [
      "Give me a one line definition of Sesquipedalian. Then, give the translation of that word in Hindi.\n"
     ]
    }
   ],
   "source": [
    "dictionary_template_2 = PromptTemplate(\n",
    "    input_variables = ['word','language'],\n",
    "    template = \"Give me a one line definition of {word}. Then, give the translation of that word in {language}.\"\n",
    ")\n",
    "p_2 = dictionary_template_2.format(word=\"Sesquipedalian\",language=\"Hindi\")\n",
    "print(p_2)\n"
   ]
  },
  {
   "cell_type": "code",
   "execution_count": 12,
   "id": "3358163d",
   "metadata": {},
   "outputs": [
    {
     "name": "stdout",
     "output_type": "stream",
     "text": [
      "Sesquipedalian: Characterized by long words; long-winded.\n",
      "\n",
      "Hindi Translation:  लंबे शब्दों वाला (lambe shabdon wala)  or  शब्दबहुल (shabd-bahul)\n"
     ]
    }
   ],
   "source": [
    "print(googleLLM.invoke(p_2).content)"
   ]
  },
  {
   "cell_type": "code",
   "execution_count": 14,
   "id": "3edc2b69",
   "metadata": {},
   "outputs": [
    {
     "name": "stdout",
     "output_type": "stream",
     "text": [
      "**Definition:** Philanthropy is the voluntary giving of time, money, and other resources to benefit humanity.\n",
      "\n",
      "**Example:**  The Bill & Melinda Gates Foundation donating billions of dollars to global health initiatives and poverty reduction programs is an example of philanthropy.\n"
     ]
    }
   ],
   "source": [
    "import tkinter as tk\n",
    "from tkinter import simpledialog\n",
    "\n",
    "\n",
    "ROOT = tk.Tk()\n",
    "ROOT.withdraw()\n",
    "\n",
    "#the input dialog\n",
    "user_input = simpledialog.askstring(title=\"Quick Dictionary\",\n",
    "                                    prompt=\"Enter the word you want to learn about:\")\n",
    "\n",
    "dictionary_template_3 = PromptTemplate(\n",
    "    input_variables=['word'],\n",
    "    template = 'Give me one line definition of {word}. Then,  give one example of how it is used.'\n",
    ")\n",
    "p_3 = dictionary_template_3.format(word=user_input)\n",
    "print(googleLLM.invoke(p_3).content)\n"
   ]
  },
  {
   "cell_type": "markdown",
   "id": "ec146c6e",
   "metadata": {},
   "source": [
    "### General Purpose Prompt Template"
   ]
  },
  {
   "cell_type": "code",
   "execution_count": null,
   "id": "3383a951",
   "metadata": {},
   "outputs": [],
   "source": [
    "template = \"\"\"\n",
    "            You are a helpful assistant. \n",
    "            Human: {human_input}\n",
    "            Assitant: \"\"\"\n",
    "\n",
    "prompt = PromptTemplate(\n",
    "    input_variables=[\"human_input\"],template=template\n",
    ")"
   ]
  }
 ],
 "metadata": {
  "kernelspec": {
   "display_name": "Python 3",
   "language": "python",
   "name": "python3"
  },
  "language_info": {
   "codemirror_mode": {
    "name": "ipython",
    "version": 3
   },
   "file_extension": ".py",
   "mimetype": "text/x-python",
   "name": "python",
   "nbconvert_exporter": "python",
   "pygments_lexer": "ipython3",
   "version": "3.10.0"
  }
 },
 "nbformat": 4,
 "nbformat_minor": 5
}
