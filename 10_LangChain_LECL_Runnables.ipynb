{
 "cells": [
  {
   "cell_type": "code",
   "execution_count": 1,
   "id": "f43e4d36",
   "metadata": {},
   "outputs": [],
   "source": [
    "import os"
   ]
  },
  {
   "cell_type": "code",
   "execution_count": 2,
   "id": "ce5b80dd",
   "metadata": {},
   "outputs": [],
   "source": [
    "def get_file_contents(filename):\n",
    "    \"\"\" Given a filename,\n",
    "        return the contents of that file\n",
    "    \"\"\"\n",
    "    try:\n",
    "        with open(filename, 'r') as f:\n",
    "            # It's assumed our file contains a single line,\n",
    "            # with our API key\n",
    "            return f.read().strip()\n",
    "    except FileNotFoundError:\n",
    "        print(\"'%s' file not found\" % filename)"
   ]
  },
  {
   "cell_type": "code",
   "execution_count": null,
   "id": "48593206",
   "metadata": {},
   "outputs": [],
   "source": [
    "filename = \"..\\\\GoogleAPIKey.txt\""
   ]
  },
  {
   "cell_type": "code",
   "execution_count": 4,
   "id": "2ea5ce94",
   "metadata": {},
   "outputs": [],
   "source": [
    "os.environ['GOOGLE_API_KEY'] = get_file_contents(filename)"
   ]
  },
  {
   "cell_type": "markdown",
   "id": "1cfd78d9",
   "metadata": {},
   "source": [
    "### RunnablePassthrough, RunnableLambda and RunnableParallel"
   ]
  },
  {
   "cell_type": "code",
   "execution_count": 6,
   "id": "bcf0cf16",
   "metadata": {},
   "outputs": [],
   "source": [
    "from langchain import PromptTemplate\n",
    "from langchain.chains import LLMChain\n",
    "from langchain.chains import SequentialChain\n",
    "from langchain_google_genai import GoogleGenerativeAI\n",
    "from langchain_google_genai import ChatGoogleGenerativeAI\n",
    "from langchain_core.output_parsers import StrOutputParser\n",
    "from langchain_core.runnables import RunnablePassthrough,RunnableLambda,RunnableParallel"
   ]
  },
  {
   "cell_type": "code",
   "execution_count": 17,
   "id": "c19a3a4f",
   "metadata": {},
   "outputs": [],
   "source": [
    "chain = RunnablePassthrough()"
   ]
  },
  {
   "cell_type": "code",
   "execution_count": 18,
   "id": "aa20bb26",
   "metadata": {},
   "outputs": [
    {
     "data": {
      "text/plain": [
       "'input'"
      ]
     },
     "execution_count": 18,
     "metadata": {},
     "output_type": "execute_result"
    }
   ],
   "source": [
    "chain.invoke(\"input\")"
   ]
  },
  {
   "cell_type": "code",
   "execution_count": 19,
   "id": "55f235ec",
   "metadata": {},
   "outputs": [
    {
     "data": {
      "text/plain": [
       "'India is great!!!'"
      ]
     },
     "execution_count": 19,
     "metadata": {},
     "output_type": "execute_result"
    }
   ],
   "source": [
    "chain.invoke(\"India is great!!!\")"
   ]
  },
  {
   "cell_type": "code",
   "execution_count": 23,
   "id": "e08a6f43",
   "metadata": {},
   "outputs": [],
   "source": [
    "def output_length(input:str):\n",
    "    output = len(input)\n",
    "    return output"
   ]
  },
  {
   "cell_type": "code",
   "execution_count": 24,
   "id": "8047ab53",
   "metadata": {},
   "outputs": [],
   "source": [
    "chain_2 = RunnableLambda(output_length)"
   ]
  },
  {
   "cell_type": "code",
   "execution_count": 25,
   "id": "314b084e",
   "metadata": {},
   "outputs": [
    {
     "data": {
      "text/plain": [
       "5"
      ]
     },
     "execution_count": 25,
     "metadata": {},
     "output_type": "execute_result"
    }
   ],
   "source": [
    "chain_2.invoke(\"input\")"
   ]
  },
  {
   "cell_type": "code",
   "execution_count": 26,
   "id": "32572961",
   "metadata": {},
   "outputs": [
    {
     "data": {
      "text/plain": [
       "15"
      ]
     },
     "execution_count": 26,
     "metadata": {},
     "output_type": "execute_result"
    }
   ],
   "source": [
    "chain_2.invoke(\"input to output\")"
   ]
  },
  {
   "cell_type": "code",
   "execution_count": 27,
   "id": "f2c5a50f",
   "metadata": {},
   "outputs": [],
   "source": [
    "chain_3 = RunnableParallel(text=RunnablePassthrough(),length=RunnableLambda(output_length))"
   ]
  },
  {
   "cell_type": "code",
   "execution_count": 28,
   "id": "09373ed0",
   "metadata": {},
   "outputs": [
    {
     "data": {
      "text/plain": [
       "{'text': 'input', 'length': 5}"
      ]
     },
     "execution_count": 28,
     "metadata": {},
     "output_type": "execute_result"
    }
   ],
   "source": [
    "chain_3.invoke(\"input\")"
   ]
  },
  {
   "cell_type": "code",
   "execution_count": 29,
   "id": "e9ec279a",
   "metadata": {},
   "outputs": [
    {
     "data": {
      "text/plain": [
       "{'text': 'India is a great country!!!', 'length': 27}"
      ]
     },
     "execution_count": 29,
     "metadata": {},
     "output_type": "execute_result"
    }
   ],
   "source": [
    "chain_3.invoke(\"India is a great country!!!\")"
   ]
  },
  {
   "cell_type": "code",
   "execution_count": null,
   "id": "81eed1e1",
   "metadata": {},
   "outputs": [],
   "source": []
  }
 ],
 "metadata": {
  "kernelspec": {
   "display_name": "Python 3",
   "language": "python",
   "name": "python3"
  },
  "language_info": {
   "codemirror_mode": {
    "name": "ipython",
    "version": 3
   },
   "file_extension": ".py",
   "mimetype": "text/x-python",
   "name": "python",
   "nbconvert_exporter": "python",
   "pygments_lexer": "ipython3",
   "version": "3.10.0"
  }
 },
 "nbformat": 4,
 "nbformat_minor": 5
}
