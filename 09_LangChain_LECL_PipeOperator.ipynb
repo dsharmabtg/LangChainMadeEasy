{
 "cells": [
  {
   "cell_type": "code",
   "execution_count": 1,
   "id": "f43e4d36",
   "metadata": {},
   "outputs": [],
   "source": [
    "import os"
   ]
  },
  {
   "cell_type": "code",
   "execution_count": 2,
   "id": "ce5b80dd",
   "metadata": {},
   "outputs": [],
   "source": [
    "def get_file_contents(filename):\n",
    "    \"\"\" Given a filename,\n",
    "        return the contents of that file\n",
    "    \"\"\"\n",
    "    try:\n",
    "        with open(filename, 'r') as f:\n",
    "            # It's assumed our file contains a single line,\n",
    "            # with our API key\n",
    "            return f.read().strip()\n",
    "    except FileNotFoundError:\n",
    "        print(\"'%s' file not found\" % filename)"
   ]
  },
  {
   "cell_type": "code",
   "execution_count": null,
   "id": "48593206",
   "metadata": {},
   "outputs": [],
   "source": [
    "filename = \"..\\\\GoogleAPIKey.txt\""
   ]
  },
  {
   "cell_type": "code",
   "execution_count": 4,
   "id": "2ea5ce94",
   "metadata": {},
   "outputs": [],
   "source": [
    "os.environ['GOOGLE_API_KEY'] = get_file_contents(filename)"
   ]
  },
  {
   "cell_type": "markdown",
   "id": "1cfd78d9",
   "metadata": {},
   "source": [
    "### Sequential chain -- LLMChain"
   ]
  },
  {
   "cell_type": "code",
   "execution_count": 6,
   "id": "bcf0cf16",
   "metadata": {},
   "outputs": [],
   "source": [
    "from langchain import PromptTemplate\n",
    "from langchain.chains import LLMChain\n",
    "from langchain.chains import SequentialChain\n",
    "from langchain_google_genai import GoogleGenerativeAI\n",
    "from langchain_google_genai import ChatGoogleGenerativeAI\n",
    "from langchain_core.output_parsers import StrOutputParser"
   ]
  },
  {
   "cell_type": "code",
   "execution_count": 7,
   "id": "ec63298d",
   "metadata": {},
   "outputs": [],
   "source": [
    "dictionary_template = PromptTemplate(\n",
    "    input_variables = [\"word\"],\n",
    "    template=\"Give me a one line definition of {word}. Response should not contain the word - {word} itself, only the meaning.\"\n",
    ")"
   ]
  },
  {
   "cell_type": "code",
   "execution_count": 8,
   "id": "ced273cb",
   "metadata": {},
   "outputs": [],
   "source": [
    "llm = ChatGoogleGenerativeAI(model='gemini-1.5-pro-001')"
   ]
  },
  {
   "cell_type": "code",
   "execution_count": 10,
   "id": "1ccd042e",
   "metadata": {},
   "outputs": [],
   "source": [
    "chain = dictionary_template | llm | StrOutputParser()"
   ]
  },
  {
   "cell_type": "code",
   "execution_count": 11,
   "id": "1642141c",
   "metadata": {},
   "outputs": [
    {
     "data": {
      "text/plain": [
       "\"It's a word that imitates the natural sound of something. \""
      ]
     },
     "execution_count": 11,
     "metadata": {},
     "output_type": "execute_result"
    }
   ],
   "source": [
    "chain.invoke({\"word\":\"Onomatopoeia\"})"
   ]
  },
  {
   "cell_type": "code",
   "execution_count": 13,
   "id": "3974dc58",
   "metadata": {},
   "outputs": [],
   "source": [
    "guesser_template = PromptTemplate(\n",
    "    input_variables=[\"definition\"],\n",
    "    template=\"Give me an English word which has the following meaning- {definition}.\"\n",
    ")"
   ]
  },
  {
   "cell_type": "code",
   "execution_count": 12,
   "id": "1791f1fc",
   "metadata": {},
   "outputs": [],
   "source": [
    "guesser_llm = ChatGoogleGenerativeAI(model='gemini-1.5-pro-001')"
   ]
  },
  {
   "cell_type": "code",
   "execution_count": 14,
   "id": "3f89bcb5",
   "metadata": {},
   "outputs": [],
   "source": [
    "chain_2 = guesser_template.pipe(guesser_llm).pipe(StrOutputParser())"
   ]
  },
  {
   "cell_type": "code",
   "execution_count": 15,
   "id": "f3232203",
   "metadata": {},
   "outputs": [
    {
     "data": {
      "text/plain": [
       "\"The word you're looking for is **onomatopoeia**. \\n\\nOnomatopoeia refers to words that phonetically resemble the sounds they describe. Examples include: \\n\\n* **Bang**\\n* **Crash**\\n* **Meow**\\n* **Sizzle** \""
      ]
     },
     "execution_count": 15,
     "metadata": {},
     "output_type": "execute_result"
    }
   ],
   "source": [
    "chain_2.invoke(\"A word  that imitates the sound it represents.\")"
   ]
  },
  {
   "cell_type": "code",
   "execution_count": 16,
   "id": "5aacbf5f",
   "metadata": {},
   "outputs": [],
   "source": [
    "seq_chain = {\"definition\": chain} | chain_2"
   ]
  },
  {
   "cell_type": "code",
   "execution_count": 17,
   "id": "eed5112c",
   "metadata": {},
   "outputs": [
    {
     "data": {
      "text/plain": [
       "\"The word you're looking for is **onomatopoeia**. \\n\\nOnomatopoeia refers to words that phonetically imitate or suggest the sound that they are describing.  \\n\\nHere are some examples:\\n\\n* **Bang**\\n* **Crash**\\n* **Sizzle**\\n* **Meow**\\n* **Woof** \""
      ]
     },
     "execution_count": 17,
     "metadata": {},
     "output_type": "execute_result"
    }
   ],
   "source": [
    "seq_chain.invoke({\"word\":\"Onomatopoeia\"})"
   ]
  },
  {
   "cell_type": "code",
   "execution_count": 18,
   "id": "99b190f1",
   "metadata": {},
   "outputs": [
    {
     "data": {
      "text/plain": [
       "'**Sesquipedalian** \\n\\nIronically, \"sesquipedalian\" itself is a long word! It\\'s used to describe language that is characterized by the use of long words, often in a showy or pretentious way. '"
      ]
     },
     "execution_count": 18,
     "metadata": {},
     "output_type": "execute_result"
    }
   ],
   "source": [
    "seq_chain.invoke({\"word\":\"Sesquipedalian\"})"
   ]
  },
  {
   "cell_type": "code",
   "execution_count": 19,
   "id": "982250ec",
   "metadata": {},
   "outputs": [
    {
     "data": {
      "text/plain": [
       "'**Innate** '"
      ]
     },
     "execution_count": 19,
     "metadata": {},
     "output_type": "execute_result"
    }
   ],
   "source": [
    "seq_chain.invoke({\"word\":\"Innate\"})"
   ]
  },
  {
   "cell_type": "code",
   "execution_count": 21,
   "id": "fc36d8fa",
   "metadata": {},
   "outputs": [
    {
     "data": {
      "text/plain": [
       "'**Philanthropy** \\n\\nWhile other words like \"charity,\" \"altruism,\" or \"generosity\" touch upon aspects of the definition, \"philanthropy\" encompasses the comprehensive act of giving with the specific aim of improving the well-being of others. '"
      ]
     },
     "execution_count": 21,
     "metadata": {},
     "output_type": "execute_result"
    }
   ],
   "source": [
    "seq_chain.invoke({\"word\":\"Philanthrophy\"})"
   ]
  }
 ],
 "metadata": {
  "kernelspec": {
   "display_name": "Python 3",
   "language": "python",
   "name": "python3"
  },
  "language_info": {
   "codemirror_mode": {
    "name": "ipython",
    "version": 3
   },
   "file_extension": ".py",
   "mimetype": "text/x-python",
   "name": "python",
   "nbconvert_exporter": "python",
   "pygments_lexer": "ipython3",
   "version": "3.10.0"
  }
 },
 "nbformat": 4,
 "nbformat_minor": 5
}
