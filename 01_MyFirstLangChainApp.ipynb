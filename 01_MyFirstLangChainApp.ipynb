{
 "cells": [
  {
   "cell_type": "code",
   "execution_count": 1,
   "id": "099a4358",
   "metadata": {},
   "outputs": [],
   "source": [
    "import os"
   ]
  },
  {
   "cell_type": "code",
   "execution_count": 2,
   "id": "a567d2d4",
   "metadata": {},
   "outputs": [],
   "source": [
    "def get_file_contents(filename):\n",
    "    \"\"\" Given a filename,\n",
    "        return the contents of that file\n",
    "    \"\"\"\n",
    "    try:\n",
    "        with open(filename, 'r') as f:\n",
    "            # It's assumed our file contains a single line,\n",
    "            # with our API key\n",
    "            return f.read().strip()\n",
    "    except FileNotFoundError:\n",
    "        print(\"'%s' file not found\" % filename)"
   ]
  },
  {
   "cell_type": "code",
   "execution_count": null,
   "id": "309e0137",
   "metadata": {},
   "outputs": [],
   "source": [
    "filename = \"..\\\\GoogleAPIKey.txt\""
   ]
  },
  {
   "cell_type": "code",
   "execution_count": 4,
   "id": "4aa473d0",
   "metadata": {},
   "outputs": [],
   "source": [
    "os.environ['GOOGLE_API_KEY'] = get_file_contents(filename)"
   ]
  },
  {
   "cell_type": "code",
   "execution_count": 5,
   "id": "42b4fe9c",
   "metadata": {},
   "outputs": [],
   "source": [
    "from langchain_google_genai import ChatGoogleGenerativeAI"
   ]
  },
  {
   "cell_type": "code",
   "execution_count": 10,
   "id": "f5e7fa59",
   "metadata": {},
   "outputs": [],
   "source": [
    "chat = ChatGoogleGenerativeAI(model='gemini-1.5-pro-002')"
   ]
  },
  {
   "cell_type": "code",
   "execution_count": 11,
   "id": "413ca356",
   "metadata": {},
   "outputs": [],
   "source": [
    "messages = [\n",
    "    (\n",
    "        \"system\",\"You are a helpful AI that helps user make travel plans. Respond only in a single line.\"\n",
    "    ),\n",
    "    (\n",
    "        \"human\",\"I want to go for skiing. Which city should I go?\"\n",
    "    ),\n",
    "]\n",
    "\n",
    "first_message = chat.invoke(messages)"
   ]
  },
  {
   "cell_type": "code",
   "execution_count": 12,
   "id": "96424489",
   "metadata": {},
   "outputs": [
    {
     "data": {
      "text/plain": [
       "AIMessage(content='Consider Aspen, Colorado; Whistler, British Columbia; or Zermatt, Switzerland, for world-class skiing.', additional_kwargs={}, response_metadata={'prompt_feedback': {'block_reason': 0, 'safety_ratings': []}, 'finish_reason': 'STOP', 'model_name': 'gemini-1.5-pro-002', 'safety_ratings': []}, id='run-f8ebdb83-2055-4daa-abed-bdd4225eb819-0', usage_metadata={'input_tokens': 32, 'output_tokens': 23, 'total_tokens': 55, 'input_token_details': {'cache_read': 0}})"
      ]
     },
     "execution_count": 12,
     "metadata": {},
     "output_type": "execute_result"
    }
   ],
   "source": [
    "first_message"
   ]
  },
  {
   "cell_type": "code",
   "execution_count": 13,
   "id": "38a72b56",
   "metadata": {},
   "outputs": [
    {
     "data": {
      "text/plain": [
       "'Consider Aspen, Colorado; Whistler, British Columbia; or Zermatt, Switzerland, for world-class skiing.'"
      ]
     },
     "execution_count": 13,
     "metadata": {},
     "output_type": "execute_result"
    }
   ],
   "source": [
    "first_message.content"
   ]
  },
  {
   "cell_type": "markdown",
   "id": "61e39775",
   "metadata": {},
   "source": [
    "## Chat vs LLM in LangChain"
   ]
  },
  {
   "cell_type": "code",
   "execution_count": 14,
   "id": "8b170380",
   "metadata": {},
   "outputs": [],
   "source": [
    "from langchain_google_genai import GoogleGenerativeAI"
   ]
  },
  {
   "cell_type": "code",
   "execution_count": 16,
   "id": "c9b21643",
   "metadata": {},
   "outputs": [
    {
     "name": "stderr",
     "output_type": "stream",
     "text": [
      "C:\\Users\\Dell\\AppData\\Local\\Temp\\ipykernel_11324\\2470060115.py:2: LangChainDeprecationWarning: The method `BaseLLM.predict` was deprecated in langchain-core 0.1.7 and will be removed in 1.0. Use :meth:`~invoke` instead.\n",
      "  city = llm.predict(\"I want to go skiing. Which city should  I go to?\")\n"
     ]
    }
   ],
   "source": [
    "llm = GoogleGenerativeAI(model='gemini-1.5-pro-002')\n",
    "city = llm.predict(\"I want to go skiing. Which city should  I go to?\")"
   ]
  },
  {
   "cell_type": "code",
   "execution_count": 17,
   "id": "282a254e",
   "metadata": {},
   "outputs": [
    {
     "name": "stdout",
     "output_type": "stream",
     "text": [
      "To recommend the best city for your ski trip, I need a little more information!  Tell me about:\n",
      "\n",
      "* **Your budget:** Are you looking for luxury, budget-friendly, or somewhere in between?\n",
      "* **Your skill level:** Beginner, intermediate, or advanced skier/snowboarder?\n",
      "* **What kind of experience are you looking for?**  Just skiing/snowboarding, or also après-ski, nightlife, family activities, scenic beauty, etc.?\n",
      "* **Where are you traveling from?** This helps narrow down options based on flight costs and travel time.\n",
      "* **When are you planning to go?**  Different resorts have different peak seasons and snow conditions.\n",
      "\n",
      "Once I have this information, I can give you some personalized recommendations!\n"
     ]
    }
   ],
   "source": [
    "print(city)"
   ]
  },
  {
   "cell_type": "code",
   "execution_count": 20,
   "id": "c866f527",
   "metadata": {},
   "outputs": [],
   "source": [
    "city_1 = llm.invoke(\"I am looking for luxury, budget-friendly, or somewhere in between? You can suggest the best location\")"
   ]
  },
  {
   "cell_type": "code",
   "execution_count": 21,
   "id": "2f022543",
   "metadata": {},
   "outputs": [
    {
     "name": "stdout",
     "output_type": "stream",
     "text": [
      "I need more information to suggest the best location for you!  Tell me about what kind of trip you're looking for. For example:\n",
      "\n",
      "* **What's your travel style?**  Adventure, relaxation, culture, food, nightlife, etc.?\n",
      "* **What's your budget?** Give me a range (e.g., $500 per person, $2000 total, etc.) or tell me \"luxury,\" \"budget,\" or \"mid-range.\"  Be as specific as possible.\n",
      "* **When are you traveling?** This affects prices and weather conditions.\n",
      "* **Who are you traveling with?** Solo, partner, family, friends?  This helps determine appropriate activities and accommodations.\n",
      "* **Where are you traveling from?** This helps narrow down destinations based on flight costs and travel time.\n",
      "* **How long will your trip be?** A weekend getaway has different possibilities than a two-week vacation.\n",
      "* **Any specific interests?**  History, hiking, beaches, art, music, etc.?\n",
      "\n",
      "Once I have this information, I can provide personalized recommendations for locations that perfectly suit your needs.\n"
     ]
    }
   ],
   "source": [
    "print(city_1)"
   ]
  },
  {
   "cell_type": "code",
   "execution_count": 24,
   "id": "88b8def6",
   "metadata": {},
   "outputs": [],
   "source": [
    "city_2 = llm.invoke(\"You can suggest the best location based as a solo trip.\")"
   ]
  },
  {
   "cell_type": "code",
   "execution_count": 25,
   "id": "75d22558",
   "metadata": {},
   "outputs": [
    {
     "name": "stdout",
     "output_type": "stream",
     "text": [
      "The \"best\" location for a solo trip depends entirely on your interests and travel style.  To give you helpful suggestions, I need a little more information.  Tell me about:\n",
      "\n",
      "* **Your budget:** Are you backpacking, looking for mid-range comfort, or planning a luxurious getaway?\n",
      "* **Your travel style:** Do you prefer bustling cities, relaxing beaches, adventurous hikes, or exploring historical sites?\n",
      "* **Your interests:** Are you a foodie, a history buff, an art enthusiast, a nature lover, or something else entirely?\n",
      "* **Your travel dates:**  Some destinations are better suited for certain times of the year.\n",
      "* **Your preferred transportation method:** Do you plan to drive, use public transport, or fly?\n",
      "\n",
      "Once I have a better understanding of your preferences, I can provide more tailored recommendations.\n",
      "\n",
      "In the meantime, here are a few ideas based on popular solo travel styles:\n",
      "\n",
      "**For the Budget Backpacker:**\n",
      "\n",
      "* **Southeast Asia (Thailand, Vietnam, Laos):** Affordable accommodation, delicious street food, and beautiful landscapes.\n",
      "* **Eastern Europe (Czech Republic, Hungary, Poland):** Rich history, vibrant cities, and budget-friendly options.\n",
      "* **South America (Colombia, Peru, Ecuador):** Diverse landscapes, ancient ruins, and affordable adventures.\n",
      "\n",
      "**For the City Explorer:**\n",
      "\n",
      "* **Amsterdam, Netherlands:** Easy to navigate, friendly locals, and a vibrant cultural scene.\n",
      "* **Seville, Spain:** Stunning architecture, delicious tapas, and a passionate atmosphere.\n",
      "* **Kyoto, Japan:** Ancient temples, beautiful gardens, and a unique cultural experience.\n",
      "\n",
      "**For the Nature Lover:**\n",
      "\n",
      "* **Iceland:** Dramatic landscapes, glaciers, volcanoes, and the Northern Lights.\n",
      "* **Costa Rica:** Lush rainforests, diverse wildlife, and beautiful beaches.\n",
      "* **New Zealand:** Stunning scenery, hiking trails, and adventure activities.\n",
      "\n",
      "**For the Relaxing Beach Getaway:**\n",
      "\n",
      "* **Bali, Indonesia:** Yoga retreats, beautiful beaches, and a relaxed atmosphere.\n",
      "* **The Maldives:** Luxurious overwater bungalows and pristine beaches.\n",
      "* **Tulum, Mexico:** Bohemian vibes, beautiful beaches, and Mayan ruins.\n",
      "\n",
      "\n",
      "Give me some more details, and I can help you narrow down your choices!\n"
     ]
    }
   ],
   "source": [
    "print(city_2)"
   ]
  },
  {
   "cell_type": "code",
   "execution_count": 27,
   "id": "809f798d",
   "metadata": {},
   "outputs": [
    {
     "name": "stdout",
     "output_type": "stream",
     "text": [
      "Amsterdam offers a ton beyond the typical tourist hotspots. Here's a breakdown of some other things you can do, categorized for easier planning:\n",
      "\n",
      "**Museums & Culture:**\n",
      "\n",
      "* **Beyond the Rijksmuseum & Van Gogh:** Explore niche museums like the Houseboat Museum, the Museum of Bags and Purses, the Electric Ladyland (fluorescent art), or the FOAM Photography Museum.\n",
      "* **Concertgebouw:** Catch a world-class classical music performance.\n",
      "* **Street Art:** Take a street art tour or explore neighborhoods like De Pijp and Noord for impressive murals and graffiti.\n",
      "* **Begijnhof:** Discover this hidden courtyard with historic houses and a peaceful atmosphere.\n",
      "* **Portuguese Synagogue:** Admire the architecture and history of this beautiful synagogue.\n",
      "* **EYE Filmmuseum:**  Enjoy film screenings, exhibitions, and panoramic city views from the cafe.\n",
      "\n",
      "**Food & Drink:**\n",
      "\n",
      "* **Foodhallen:** Sample a variety of cuisines in this indoor food market.\n",
      "* **De Pijp Market:** Explore this bustling daily market for fresh produce, street food, and local products.\n",
      "* **Brown Cafes:** Experience traditional Dutch pubs with a cozy atmosphere.\n",
      "* **Heineken Experience:** Not just for beer lovers, this interactive tour is fun and informative.\n",
      "* **Genever Tasting:** Try the traditional Dutch spirit at a distillery or tasting room.\n",
      "* **Indonesian Cuisine:** Amsterdam has a rich Indonesian culinary heritage. Explore restaurants in the Indische Buurt (East Indies neighborhood).\n",
      "\n",
      "**Outdoor Activities:**\n",
      "\n",
      "* **Canal Cruise Alternatives:** Rent a pedal boat or kayak for a more active experience on the canals.\n",
      "* **Vondelpark:** Relax, picnic, or cycle through this beautiful park.\n",
      "* **Amsterdamse Bos:** Escape the city bustle in this large forest with lakes and trails.\n",
      "* **Cycling:** Rent a bike and explore the city like a local.  Cycle along the canals or venture out to the surrounding countryside.\n",
      "* **NEMO Science Museum Rooftop:** Enjoy city views and interactive exhibits on this rooftop terrace.\n",
      "\n",
      "\n",
      "**Unique Experiences:**\n",
      "\n",
      "* **A'DAM LOOKOUT:** Swing over the edge of a building for thrilling views (if you dare!).\n",
      "* **Wynand Fockink Tasting House:** Sample traditional Dutch liqueurs in a historic setting.\n",
      "* **Gassan Diamonds:** Learn about diamond cutting and polishing.\n",
      "* **Electric Ladyland:** Experience the world's first museum of fluorescent art.\n",
      "* **Explore the Jordaan:** Wander through this charming neighborhood with its independent shops, cafes, and canals.\n",
      "\n",
      "\n",
      "**Day Trips:**\n",
      "\n",
      "* **Zaanse Schans:** See historic windmills and traditional crafts.\n",
      "* **Volendam & Marken:** Visit charming fishing villages.\n",
      "* **Keukenhof Gardens (Spring):** Experience the spectacular tulip displays (seasonal).\n",
      "* **Haarlem:** Explore a historic city with a Grote Markt and Frans Hals Museum.\n",
      "\n",
      "**Tips for Planning:**\n",
      "\n",
      "* **I amsterdam City Card:** Consider this card for free entry to museums and public transport.\n",
      "* **Book accommodations and tours in advance,** especially during peak season.\n",
      "* **Learn some basic Dutch phrases.** While most people speak English, it's always appreciated.\n",
      "* **Be prepared for crowds,** especially in popular areas.\n",
      "* **Be aware of pickpockets** in crowded tourist areas.\n",
      "\n",
      "\n",
      "Remember to tailor your itinerary to your interests and budget. Enjoy your trip to Amsterdam!\n"
     ]
    }
   ],
   "source": [
    "places = llm.invoke(\"What else can I do in Amsterdam, Netherlands city?\")\n",
    "print(places)"
   ]
  },
  {
   "cell_type": "code",
   "execution_count": 28,
   "id": "e94735b4",
   "metadata": {},
   "outputs": [],
   "source": [
    "messages_2 = [\n",
    "    (\n",
    "        \"system\",\"You are a helpful AI that helps user make travel plans. Respond only in a single line.\"\n",
    "    ),\n",
    "    (\n",
    "        \"human\",\"I want to go for skiing. Which city should I go?\"\n",
    "    ),\n",
    "    (\n",
    "        \"ai\",\"You should consider vising Aspen, Colorado for a great skiing experience.\"\n",
    "    ),\n",
    "    (\n",
    "        \"human\",\"What else can I do in that city?\"\n",
    "    ),\n",
    "]\n",
    "\n",
    "second_message = chat.invoke(messages_2)"
   ]
  },
  {
   "cell_type": "code",
   "execution_count": 29,
   "id": "b8d59c5c",
   "metadata": {},
   "outputs": [
    {
     "name": "stdout",
     "output_type": "stream",
     "text": [
      "Besides skiing, you can enjoy snowboarding, snowmobiling, ice skating, or relax at a spa in Aspen.\n"
     ]
    }
   ],
   "source": [
    "print(second_message.content)"
   ]
  },
  {
   "cell_type": "code",
   "execution_count": null,
   "id": "cacdfb50",
   "metadata": {},
   "outputs": [],
   "source": []
  }
 ],
 "metadata": {
  "kernelspec": {
   "display_name": "Python 3",
   "language": "python",
   "name": "python3"
  },
  "language_info": {
   "codemirror_mode": {
    "name": "ipython",
    "version": 3
   },
   "file_extension": ".py",
   "mimetype": "text/x-python",
   "name": "python",
   "nbconvert_exporter": "python",
   "pygments_lexer": "ipython3",
   "version": "3.10.0"
  }
 },
 "nbformat": 4,
 "nbformat_minor": 5
}
