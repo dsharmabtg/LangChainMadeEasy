{
 "cells": [
  {
   "cell_type": "code",
   "execution_count": 1,
   "id": "fbe67fe1",
   "metadata": {},
   "outputs": [],
   "source": [
    "import os"
   ]
  },
  {
   "cell_type": "code",
   "execution_count": 2,
   "id": "632c8dea",
   "metadata": {},
   "outputs": [],
   "source": [
    "def get_file_contents(filename):\n",
    "    \"\"\" Given a filename,\n",
    "        return the contents of that file\n",
    "    \"\"\"\n",
    "    try:\n",
    "        with open(filename, 'r') as f:\n",
    "            # It's assumed our file contains a single line,\n",
    "            # with our API key\n",
    "            return f.read().strip()\n",
    "    except FileNotFoundError:\n",
    "        print(\"'%s' file not found\" % filename)"
   ]
  },
  {
   "cell_type": "code",
   "execution_count": null,
   "id": "72e02e58",
   "metadata": {},
   "outputs": [],
   "source": [
    "filename = \"..\\\\GoogleAPIKey.txt\"\n",
    "os.environ['GOOGLE_API_KEY'] = get_file_contents(filename)\n",
    "filename_grokKey = \"..\\\\GroqAPIKey.txt\"\n",
    "os.environ['GROQ_API_KEY'] = get_file_contents(filename_grokKey)"
   ]
  },
  {
   "cell_type": "markdown",
   "id": "e69d8583",
   "metadata": {},
   "source": [
    "### Tools"
   ]
  },
  {
   "cell_type": "markdown",
   "id": "bb4ea996",
   "metadata": {},
   "source": [
    "#### Using in-built tool"
   ]
  },
  {
   "cell_type": "markdown",
   "id": "2609e5bb",
   "metadata": {},
   "source": [
    "##### http://python.langchain.com/v0.1/docs/integrations/tools"
   ]
  },
  {
   "cell_type": "markdown",
   "id": "76a5b85d",
   "metadata": {},
   "source": [
    "##### DuckDuckGo Search Tool"
   ]
  },
  {
   "cell_type": "markdown",
   "id": "d6cd2529",
   "metadata": {},
   "source": [
    "pip install --upgrade --quiet duckduckgo-search"
   ]
  },
  {
   "cell_type": "code",
   "execution_count": 9,
   "id": "d1312419",
   "metadata": {},
   "outputs": [],
   "source": [
    "from langchain.tools import BaseTool, StructuredTool, tool\n",
    "from langchain_google_genai import ChatGoogleGenerativeAI\n",
    "from langchain_community.tools import DuckDuckGoSearchRun\n",
    "from langchain_community.tools import DuckDuckGoSearchResults\n"
   ]
  },
  {
   "cell_type": "code",
   "execution_count": 6,
   "id": "7f01253e",
   "metadata": {},
   "outputs": [],
   "source": [
    "search = DuckDuckGoSearchRun()"
   ]
  },
  {
   "cell_type": "code",
   "execution_count": 7,
   "id": "fb98ed09",
   "metadata": {},
   "outputs": [
    {
     "data": {
      "text/plain": [
       "('duckduckgo_search',\n",
       " 'A wrapper around DuckDuckGo Search. Useful for when you need to answer questions about current events. Input should be a search query.')"
      ]
     },
     "execution_count": 7,
     "metadata": {},
     "output_type": "execute_result"
    }
   ],
   "source": [
    "search.name, search.description"
   ]
  },
  {
   "cell_type": "code",
   "execution_count": 8,
   "id": "c8cd2344",
   "metadata": {},
   "outputs": [
    {
     "data": {
      "text/plain": [
       "\"How to build Custom Tools in LangChain 1: Using @tool decorator: There are several ways to build custom tools. The tool decorator is an easy way to create tools. The rise of AI-powered applications has brought significant advancements in natural language processing (NLP) and automation. LangChain, an open-source framework, has emerged as a powerful tool ... LangChain is a powerful tool that can be used to build a wide range of LLM-powered applications. It is simple to use and has a large user and contributor community. Conversational Agents : Build chatbots and virtual assistants that can engage in meaningful, context-aware conversations with users. In conclusion, LangChain's tools and agents represent a significant leap forward in the development of AI applications. By combining robust building blocks with intelligent orchestrators, LangChain empowers developers to create dynamic, context-aware, and scalable solutions that can transform industries and enhance user experiences. ... LangChain with basic tools; LangChain with Tavily search; Let's start! Create ChatOpenAI. I've already paid for the OpenAI key and put the key into the environmental variables. Here, we ...\""
      ]
     },
     "execution_count": 8,
     "metadata": {},
     "output_type": "execute_result"
    }
   ],
   "source": [
    "search.run(\"What are tools in LangChain?\")"
   ]
  },
  {
   "cell_type": "code",
   "execution_count": 10,
   "id": "909aa7ee",
   "metadata": {},
   "outputs": [],
   "source": [
    "search = DuckDuckGoSearchResults()"
   ]
  },
  {
   "cell_type": "code",
   "execution_count": 11,
   "id": "67107d50",
   "metadata": {},
   "outputs": [
    {
     "data": {
      "text/plain": [
       "('duckduckgo_results_json',\n",
       " 'A wrapper around Duck Duck Go Search. Useful for when you need to answer questions about current events. Input should be a search query.')"
      ]
     },
     "execution_count": 11,
     "metadata": {},
     "output_type": "execute_result"
    }
   ],
   "source": [
    "search.name,search.description"
   ]
  },
  {
   "cell_type": "code",
   "execution_count": 12,
   "id": "3187848a",
   "metadata": {},
   "outputs": [
    {
     "data": {
      "text/plain": [
       "'snippet: How to build Custom Tools in LangChain 1: Using @tool decorator: There are several ways to build custom tools. The tool decorator is an easy way to create tools., title: Mastering Tools and Tool Calling Agents in LangChain: A ... - Medium, link: https://medium.com/@mariaaawaheed/mastering-tools-and-tool-calling-agents-in-langchain-a-comprehensive-guide-18a566f2aac5, snippet: The rise of AI-powered applications has brought significant advancements in natural language processing (NLP) and automation. LangChain, an open-source framework, has emerged as a powerful tool ..., title: Understanding LangChain Tools and Agents: A Guide to Building ... - Medium, link: https://medium.com/@Shamimw/understanding-langchain-tools-and-agents-a-guide-to-building-smart-ai-applications-e81d200b3c12, snippet: LangChain is a powerful tool that can be used to build a wide range of LLM-powered applications. It is simple to use and has a large user and contributor community. Conversational Agents : Build chatbots and virtual assistants that can engage in meaningful, context-aware conversations with users., title: Introduction to LangChain - GeeksforGeeks, link: https://www.geeksforgeeks.org/introduction-to-langchain/, snippet: LangChain is a powerful framework designed to build AI-powered applications by connecting language models with various tools, APIs, and data sources. One of its most exciting aspects is the Agents…, title: A Comprehensive Guide to Understanding LangChain Agents and Tools, link: https://medium.com/@piyushkashyap045/a-comprehensive-guide-to-understanding-langchain-agents-and-tools-43a187414f4c'"
      ]
     },
     "execution_count": 12,
     "metadata": {},
     "output_type": "execute_result"
    }
   ],
   "source": [
    "search.invoke(\"What are tools in LangChain?\")"
   ]
  },
  {
   "cell_type": "markdown",
   "id": "9860d4b7",
   "metadata": {},
   "source": [
    "##### Wikipedia"
   ]
  },
  {
   "cell_type": "code",
   "execution_count": 13,
   "id": "d173baea",
   "metadata": {},
   "outputs": [],
   "source": [
    "from langchain.tools import WikipediaQueryRun\n",
    "from langchain_community.utilities import WikipediaAPIWrapper"
   ]
  },
  {
   "cell_type": "code",
   "execution_count": 14,
   "id": "f3055234",
   "metadata": {},
   "outputs": [],
   "source": [
    "wikipedia = WikipediaQueryRun(api_wrapper=WikipediaAPIWrapper())"
   ]
  },
  {
   "cell_type": "code",
   "execution_count": 15,
   "id": "6fcbabbb",
   "metadata": {},
   "outputs": [
    {
     "data": {
      "text/plain": [
       "'Page: LangChain\\nSummary: LangChain is a software framework that helps facilitate the integration of large language models (LLMs) into applications. As a language model integration framework, LangChain\\'s use-cases largely overlap with those of language models in general, including document analysis and summarization, chatbots, and code analysis.\\n\\n\\n\\nPage: Intelligent agent\\nSummary: In artificial intelligence, an intelligent agent is an entity that perceives its environment, takes actions autonomously to achieve goals, and may improve its performance through machine learning or by acquiring knowledge. Leading AI textbooks define artificial intelligence as the \"study and design of intelligent agents,\" emphasizing that goal-directed behavior is central to intelligence.\\nA specialized subset of intelligent agents, agentic AI (also known as an AI agent or simply agent), expands this concept by proactively pursuing goals, making decisions, and taking actions over extended periods, thereby exemplifying a novel form of digital agency.\\nIntelligent agents can range from simple to highly complex. A basic thermostat or control system is considered an intelligent agent, as is a human being, or any other system that meets the same criteria—such as a firm, a state, or a biome.\\nIntelligent agents operate based on an objective function, which encapsulates their goals. They are designed to create and execute plans that maximize the expected value of this function upon completion. For example, a reinforcement learning agent has a reward function, which allows programmers to shape its desired behavior. Similarly, an evolutionary algorithm\\'s behavior is guided by a fitness function.\\nIntelligent agents in artificial intelligence are closely related to agents in economics, and versions of the intelligent agent paradigm are studied in cognitive science, ethics, and the philosophy of practical reason, as well as in many interdisciplinary socio-cognitive modeling and computer social simulations.\\nIntelligent agents are often described schematically as abstract functional systems similar to computer programs. To distinguish theoretical models from real-world implementations, abstract descriptions of intelligent agents are called abstract intelligent agents. Intelligent agents are also closely related to software agents—autonomous computer programs that carry out tasks on behalf of users. They are also referred to using a term borrowed from economics: a \"rational agent\".\\n\\nPage: Milvus (vector database)\\nSummary: Milvus is a distributed vector database developed by Zilliz. It is available as both open-source software and a cloud service.\\nMilvus is an open-source project under LF AI & Data Foundation distributed under the Apache License 2.0.'"
      ]
     },
     "execution_count": 15,
     "metadata": {},
     "output_type": "execute_result"
    }
   ],
   "source": [
    "wikipedia.invoke(\"LangChain\")"
   ]
  },
  {
   "cell_type": "code",
   "execution_count": null,
   "id": "a8b87fdb",
   "metadata": {},
   "outputs": [],
   "source": []
  }
 ],
 "metadata": {
  "kernelspec": {
   "display_name": "Python 3",
   "language": "python",
   "name": "python3"
  },
  "language_info": {
   "codemirror_mode": {
    "name": "ipython",
    "version": 3
   },
   "file_extension": ".py",
   "mimetype": "text/x-python",
   "name": "python",
   "nbconvert_exporter": "python",
   "pygments_lexer": "ipython3",
   "version": "3.10.0"
  }
 },
 "nbformat": 4,
 "nbformat_minor": 5
}
