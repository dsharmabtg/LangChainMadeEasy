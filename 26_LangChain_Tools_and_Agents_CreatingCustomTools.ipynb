{
 "cells": [
  {
   "cell_type": "code",
   "execution_count": 1,
   "id": "fbe67fe1",
   "metadata": {},
   "outputs": [],
   "source": [
    "import os"
   ]
  },
  {
   "cell_type": "code",
   "execution_count": 2,
   "id": "632c8dea",
   "metadata": {},
   "outputs": [],
   "source": [
    "def get_file_contents(filename):\n",
    "    \"\"\" Given a filename,\n",
    "        return the contents of that file\n",
    "    \"\"\"\n",
    "    try:\n",
    "        with open(filename, 'r') as f:\n",
    "            # It's assumed our file contains a single line,\n",
    "            # with our API key\n",
    "            return f.read().strip()\n",
    "    except FileNotFoundError:\n",
    "        print(\"'%s' file not found\" % filename)"
   ]
  },
  {
   "cell_type": "code",
   "execution_count": null,
   "id": "72e02e58",
   "metadata": {},
   "outputs": [],
   "source": [
    "filename = \"..\\\\GoogleAPIKey.txt\"\n",
    "os.environ['GOOGLE_API_KEY'] = get_file_contents(filename)\n",
    "filename_grokKey = \"..\\\\GroqAPIKey.txt\"\n",
    "os.environ['GROQ_API_KEY'] = get_file_contents(filename_grokKey)"
   ]
  },
  {
   "cell_type": "markdown",
   "id": "e69d8583",
   "metadata": {},
   "source": [
    "### Tools"
   ]
  },
  {
   "cell_type": "markdown",
   "id": "bb4ea996",
   "metadata": {},
   "source": [
    "#### Creating own custom tool"
   ]
  },
  {
   "cell_type": "code",
   "execution_count": 11,
   "id": "d1312419",
   "metadata": {},
   "outputs": [],
   "source": [
    "from langchain.tools import BaseTool, StructuredTool, tool\n",
    "from langchain_google_genai import ChatGoogleGenerativeAI"
   ]
  },
  {
   "cell_type": "code",
   "execution_count": 7,
   "id": "84952809",
   "metadata": {},
   "outputs": [],
   "source": [
    "@tool\n",
    "def name_of_tool(input:str)-> str:\n",
    "    \"\"\"Tool Description\"\"\"\n",
    "    return \"Result\""
   ]
  },
  {
   "cell_type": "code",
   "execution_count": 8,
   "id": "676bbf52",
   "metadata": {},
   "outputs": [
    {
     "name": "stdout",
     "output_type": "stream",
     "text": [
      "name_of_tool\n",
      "Tool Description\n",
      "{'input': {'title': 'Input', 'type': 'string'}}\n"
     ]
    }
   ],
   "source": [
    "print(name_of_tool.name)\n",
    "print(name_of_tool.description)\n",
    "print(name_of_tool.args)"
   ]
  },
  {
   "cell_type": "markdown",
   "id": "36556078",
   "metadata": {},
   "source": [
    "#### Defining, Binding and Calling the tool"
   ]
  },
  {
   "cell_type": "code",
   "execution_count": 10,
   "id": "d741fc90",
   "metadata": {},
   "outputs": [],
   "source": [
    "@tool\n",
    "def convert_usd_to_coins(input:float) -> float:\n",
    "    \"\"\"Use this tool to convert the USD to digital coins\"\"\"\n",
    "    return 1.3*(float(input))"
   ]
  },
  {
   "cell_type": "code",
   "execution_count": 12,
   "id": "c6ea09a3",
   "metadata": {},
   "outputs": [],
   "source": [
    "llm= ChatGoogleGenerativeAI(model='gemini-1.5-pro-001')"
   ]
  },
  {
   "cell_type": "code",
   "execution_count": 13,
   "id": "6a81ae5a",
   "metadata": {},
   "outputs": [],
   "source": [
    "llm_bind_tools = llm.bind_tools([convert_usd_to_coins])"
   ]
  },
  {
   "cell_type": "code",
   "execution_count": 14,
   "id": "e32bf33c",
   "metadata": {},
   "outputs": [
    {
     "data": {
      "text/plain": [
       "AIMessage(content='', additional_kwargs={'function_call': {'name': 'convert_usd_to_coins', 'arguments': '{\"input\": 10.0}'}}, response_metadata={'prompt_feedback': {'block_reason': 0, 'safety_ratings': []}, 'finish_reason': 'STOP', 'model_name': 'gemini-1.5-pro-001', 'safety_ratings': [{'category': 'HARM_CATEGORY_HARASSMENT', 'probability': 'NEGLIGIBLE', 'blocked': False}, {'category': 'HARM_CATEGORY_SEXUALLY_EXPLICIT', 'probability': 'NEGLIGIBLE', 'blocked': False}, {'category': 'HARM_CATEGORY_HATE_SPEECH', 'probability': 'NEGLIGIBLE', 'blocked': False}, {'category': 'HARM_CATEGORY_DANGEROUS_CONTENT', 'probability': 'NEGLIGIBLE', 'blocked': False}]}, id='run-f06f3a91-9b51-413a-92d1-5bc4892e77e4-0', tool_calls=[{'name': 'convert_usd_to_coins', 'args': {'input': 10.0}, 'id': '46799ea4-3be9-4262-a7ba-d677f26c4130', 'type': 'tool_call'}], usage_metadata={'input_tokens': 58, 'output_tokens': 20, 'total_tokens': 78, 'input_token_details': {'cache_read': 0}})"
      ]
     },
     "execution_count": 14,
     "metadata": {},
     "output_type": "execute_result"
    }
   ],
   "source": [
    "result = llm_bind_tools.invoke(\"How many digital coins can I get for USD10\")\n",
    "result"
   ]
  },
  {
   "cell_type": "code",
   "execution_count": 15,
   "id": "a07cea98",
   "metadata": {},
   "outputs": [
    {
     "data": {
      "text/plain": [
       "[{'name': 'convert_usd_to_coins',\n",
       "  'args': {'input': 10.0},\n",
       "  'id': '46799ea4-3be9-4262-a7ba-d677f26c4130',\n",
       "  'type': 'tool_call'}]"
      ]
     },
     "execution_count": 15,
     "metadata": {},
     "output_type": "execute_result"
    }
   ],
   "source": [
    "result.tool_calls"
   ]
  },
  {
   "cell_type": "code",
   "execution_count": 16,
   "id": "108b6444",
   "metadata": {},
   "outputs": [
    {
     "data": {
      "text/plain": [
       "{'convert_usd_to_coins': StructuredTool(name='convert_usd_to_coins', description='Use this tool to convert the USD to digital coins', args_schema=<class 'langchain_core.utils.pydantic.convert_usd_to_coins'>, func=<function convert_usd_to_coins at 0x00000255F354D7E0>)}"
      ]
     },
     "execution_count": 16,
     "metadata": {},
     "output_type": "execute_result"
    }
   ],
   "source": [
    "tool_mapping = {\n",
    "    'convert_usd_to_coins': convert_usd_to_coins\n",
    "}\n",
    "tool_mapping"
   ]
  },
  {
   "cell_type": "code",
   "execution_count": 17,
   "id": "a6c82013",
   "metadata": {},
   "outputs": [],
   "source": [
    "tool = tool_mapping[result.tool_calls[0][\"name\"]]"
   ]
  },
  {
   "cell_type": "code",
   "execution_count": 18,
   "id": "a08c2286",
   "metadata": {},
   "outputs": [],
   "source": [
    "tool_output = tool.invoke(result.tool_calls[0][\"args\"])"
   ]
  },
  {
   "cell_type": "code",
   "execution_count": 19,
   "id": "547a0a1b",
   "metadata": {},
   "outputs": [
    {
     "data": {
      "text/plain": [
       "13.0"
      ]
     },
     "execution_count": 19,
     "metadata": {},
     "output_type": "execute_result"
    }
   ],
   "source": [
    "tool_output"
   ]
  },
  {
   "cell_type": "markdown",
   "id": "785d0473",
   "metadata": {},
   "source": [
    "##### Demonstration of the code to run the multiple tool calls in LLM response, we can Loop through the list of tools in tool call"
   ]
  },
  {
   "cell_type": "code",
   "execution_count": null,
   "id": "fa67366f",
   "metadata": {},
   "outputs": [],
   "source": [
    "tool_mapping = {\n",
    "    'convert_usd_to_coins': convert_usd_to_coins,\n",
    "    'tools_name':tool2\n",
    "}\n",
    "tool_mapping"
   ]
  },
  {
   "cell_type": "code",
   "execution_count": null,
   "id": "87239a6e",
   "metadata": {},
   "outputs": [],
   "source": [
    "for tool_call in result.tool_calls:\n",
    "    tool = tool_mapping[tool_call[\"name\"]]\n",
    "    tool_output=tool.invoke(tool_call[\"args\"])"
   ]
  }
 ],
 "metadata": {
  "kernelspec": {
   "display_name": "Python 3",
   "language": "python",
   "name": "python3"
  },
  "language_info": {
   "codemirror_mode": {
    "name": "ipython",
    "version": 3
   },
   "file_extension": ".py",
   "mimetype": "text/x-python",
   "name": "python",
   "nbconvert_exporter": "python",
   "pygments_lexer": "ipython3",
   "version": "3.10.0"
  }
 },
 "nbformat": 4,
 "nbformat_minor": 5
}
