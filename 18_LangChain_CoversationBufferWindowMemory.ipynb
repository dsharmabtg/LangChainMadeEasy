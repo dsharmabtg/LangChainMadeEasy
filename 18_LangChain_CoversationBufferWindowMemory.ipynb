{
 "cells": [
  {
   "cell_type": "code",
   "execution_count": 1,
   "id": "f43e4d36",
   "metadata": {},
   "outputs": [],
   "source": [
    "import os"
   ]
  },
  {
   "cell_type": "code",
   "execution_count": 2,
   "id": "ce5b80dd",
   "metadata": {},
   "outputs": [],
   "source": [
    "def get_file_contents(filename):\n",
    "    \"\"\" Given a filename,\n",
    "        return the contents of that file\n",
    "    \"\"\"\n",
    "    try:\n",
    "        with open(filename, 'r') as f:\n",
    "            # It's assumed our file contains a single line,\n",
    "            # with our API key\n",
    "            return f.read().strip()\n",
    "    except FileNotFoundError:\n",
    "        print(\"'%s' file not found\" % filename)"
   ]
  },
  {
   "cell_type": "code",
   "execution_count": null,
   "id": "48593206",
   "metadata": {},
   "outputs": [],
   "source": [
    "filename = \"..\\\\GoogleAPIKey.txt\""
   ]
  },
  {
   "cell_type": "code",
   "execution_count": 4,
   "id": "2ea5ce94",
   "metadata": {},
   "outputs": [],
   "source": [
    "os.environ['GOOGLE_API_KEY'] = get_file_contents(filename)"
   ]
  },
  {
   "cell_type": "code",
   "execution_count": null,
   "id": "c702c8e6",
   "metadata": {},
   "outputs": [],
   "source": [
    "filename_grokKey = \"..\\\\GroqAPIKey.txt\""
   ]
  },
  {
   "cell_type": "code",
   "execution_count": 6,
   "id": "e16dfe76",
   "metadata": {},
   "outputs": [],
   "source": [
    "os.environ['GROQ_API_KEY'] = get_file_contents(filename_grokKey)"
   ]
  },
  {
   "cell_type": "markdown",
   "id": "1cfd78d9",
   "metadata": {},
   "source": [
    "### Coversation Buffer Window Memory"
   ]
  },
  {
   "cell_type": "code",
   "execution_count": 7,
   "id": "bcf0cf16",
   "metadata": {},
   "outputs": [],
   "source": [
    "from langchain import PromptTemplate\n",
    "from langchain.chains import LLMChain\n",
    "from langchain_groq import ChatGroq\n",
    "from langchain_google_genai import GoogleGenerativeAI\n",
    "from langchain.chains import ConversationChain\n",
    "from langchain.memory import ConversationBufferWindowMemory\n"
   ]
  },
  {
   "cell_type": "code",
   "execution_count": 8,
   "id": "99a67a41",
   "metadata": {},
   "outputs": [],
   "source": [
    "#gemini_llm = ChatGoogleGenerativeAI(model='gemini-1.5-pro-001')\n",
    "lamma_llm = ChatGroq(model=\"llama-3.1-8b-instant\")\n",
    "#google_llm = GoogleGenerativeAI(model='gemini-1.5-pro-001')"
   ]
  },
  {
   "cell_type": "code",
   "execution_count": 9,
   "id": "02df1a43",
   "metadata": {},
   "outputs": [],
   "source": [
    "google_llm = GoogleGenerativeAI(model='gemini-1.5-pro-001')"
   ]
  },
  {
   "cell_type": "code",
   "execution_count": 11,
   "id": "e70cc446",
   "metadata": {},
   "outputs": [],
   "source": [
    "memory_1=ConversationBufferWindowMemory(k=1)\n",
    "memory_2=ConversationBufferWindowMemory(k=1)"
   ]
  },
  {
   "cell_type": "code",
   "execution_count": 13,
   "id": "02841192",
   "metadata": {},
   "outputs": [],
   "source": [
    "\n",
    "convo_chain_1 = ConversationChain(llm=lamma_llm, memory=memory_1, verbose=True)"
   ]
  },
  {
   "cell_type": "code",
   "execution_count": 15,
   "id": "604fd908",
   "metadata": {},
   "outputs": [
    {
     "name": "stdout",
     "output_type": "stream",
     "text": [
      "\n",
      "\n",
      "\u001b[1m> Entering new ConversationChain chain...\u001b[0m\n",
      "Prompt after formatting:\n",
      "\u001b[32;1m\u001b[1;3mThe following is a friendly conversation between a human and an AI. The AI is talkative and provides lots of specific details from its context. If the AI does not know the answer to a question, it truthfully says it does not know.\n",
      "\n",
      "Current conversation:\n",
      "\n",
      "Human: Which country is the biggest exporter of cotton?\n",
      "AI:\u001b[0m\n",
      "\n",
      "\u001b[1m> Finished chain.\u001b[0m\n"
     ]
    },
    {
     "data": {
      "text/plain": [
       "{'input': 'Which country is the biggest exporter of cotton?',\n",
       " 'history': '',\n",
       " 'response': \"What a great question to start with. According to the United States Department of Agriculture (USDA) data from 2020, China is actually the world's largest producer of cotton, accounting for approximately 33% of global production. However, when it comes to the biggest exporter of cotton, the title belongs to India. \\n\\nIndia exported around 6.1 million bales of cotton in the 2020-2021 crop year, mainly to countries like Bangladesh, Vietnam, and Indonesia. This is due to India's favorable climate and geography, which allows for large-scale cotton cultivation in states like Maharashtra, Gujarat, and Punjab.\\n\\nIt's worth noting that China, on the other hand, is a significant importer of cotton, particularly from countries like the United States, Brazil, and Australia. This is because China's domestic cotton production has been decreasing in recent years due to factors like climate change and competition from other crops.\\n\\nSo, to answer your question, India is indeed the biggest exporter of cotton, followed closely by the United States and Brazil.\"}"
      ]
     },
     "execution_count": 15,
     "metadata": {},
     "output_type": "execute_result"
    }
   ],
   "source": [
    "convo_chain_1.invoke({\"input\":\"Which country is the biggest exporter of cotton?\"})"
   ]
  },
  {
   "cell_type": "code",
   "execution_count": 17,
   "id": "eab11e34",
   "metadata": {},
   "outputs": [
    {
     "name": "stdout",
     "output_type": "stream",
     "text": [
      "\n",
      "\n",
      "\u001b[1m> Entering new ConversationChain chain...\u001b[0m\n",
      "Prompt after formatting:\n",
      "\u001b[32;1m\u001b[1;3mThe following is a friendly conversation between a human and an AI. The AI is talkative and provides lots of specific details from its context. If the AI does not know the answer to a question, it truthfully says it does not know.\n",
      "\n",
      "Current conversation:\n",
      "Human: Which country is the biggest exporter of cotton?\n",
      "AI: What a great question to start with. According to the United States Department of Agriculture (USDA) data from 2020, China is actually the world's largest producer of cotton, accounting for approximately 33% of global production. However, when it comes to the biggest exporter of cotton, the title belongs to India. \n",
      "\n",
      "India exported around 6.1 million bales of cotton in the 2020-2021 crop year, mainly to countries like Bangladesh, Vietnam, and Indonesia. This is due to India's favorable climate and geography, which allows for large-scale cotton cultivation in states like Maharashtra, Gujarat, and Punjab.\n",
      "\n",
      "It's worth noting that China, on the other hand, is a significant importer of cotton, particularly from countries like the United States, Brazil, and Australia. This is because China's domestic cotton production has been decreasing in recent years due to factors like climate change and competition from other crops.\n",
      "\n",
      "So, to answer your question, India is indeed the biggest exporter of cotton, followed closely by the United States and Brazil.\n",
      "Human: What is the total value of cotton exports of this country\n",
      "AI:\u001b[0m\n",
      "\n",
      "\u001b[1m> Finished chain.\u001b[0m\n"
     ]
    },
    {
     "data": {
      "text/plain": [
       "{'input': 'What is the total value of cotton exports of this country',\n",
       " 'history': \"Human: Which country is the biggest exporter of cotton?\\nAI: What a great question to start with. According to the United States Department of Agriculture (USDA) data from 2020, China is actually the world's largest producer of cotton, accounting for approximately 33% of global production. However, when it comes to the biggest exporter of cotton, the title belongs to India. \\n\\nIndia exported around 6.1 million bales of cotton in the 2020-2021 crop year, mainly to countries like Bangladesh, Vietnam, and Indonesia. This is due to India's favorable climate and geography, which allows for large-scale cotton cultivation in states like Maharashtra, Gujarat, and Punjab.\\n\\nIt's worth noting that China, on the other hand, is a significant importer of cotton, particularly from countries like the United States, Brazil, and Australia. This is because China's domestic cotton production has been decreasing in recent years due to factors like climate change and competition from other crops.\\n\\nSo, to answer your question, India is indeed the biggest exporter of cotton, followed closely by the United States and Brazil.\",\n",
       " 'response': \"The total value of cotton exports from India in the 2020-2021 crop year. According to the Indian Cotton Federation and data from the Ministry of Commerce and Industry, India's cotton exports in the 2020-2021 crop year were valued at approximately Rs 46,500 crore (around $6.2 billion USD).\\n\\nThis is a significant increase from the previous crop year, which saw cotton exports valued at around Rs 35,000 crore (approximately $4.7 billion USD). The growth in cotton exports is attributed to the bumper cotton crop in India in the 2020-2021 crop year, coupled with the country's favorable trade policies and strategic partnerships with major textile-producing countries.\\n\\nBreaking down the exports, India's cotton exports in the 2020-2021 crop year comprised mainly of:\\n\\n- Cotton yarn: valued at around Rs 10,500 crore (approximately $1.4 billion USD)\\n- Cotton fabrics: valued at around Rs 10,200 crore (approximately $1.4 billion USD)\\n- Cotton waste: valued at around Rs 5,500 crore (approximately $730 million USD)\\n\\nThese figures are subject to slight variations based on the specific data source and methodology used, but they give a general idea of the total value of cotton exports from India in the 2020-2021 crop year.\"}"
      ]
     },
     "execution_count": 17,
     "metadata": {},
     "output_type": "execute_result"
    }
   ],
   "source": [
    "convo_chain_1.invoke({\"input\":\"What is the total value of cotton exports of this country\"})"
   ]
  },
  {
   "cell_type": "code",
   "execution_count": 19,
   "id": "445d1366",
   "metadata": {},
   "outputs": [],
   "source": [
    "convo_chain_2 = ConversationChain(llm=google_llm, memory=memory_2, verbose=True)"
   ]
  },
  {
   "cell_type": "code",
   "execution_count": 20,
   "id": "552c73eb",
   "metadata": {},
   "outputs": [
    {
     "name": "stdout",
     "output_type": "stream",
     "text": [
      "\n",
      "\n",
      "\u001b[1m> Entering new ConversationChain chain...\u001b[0m\n",
      "Prompt after formatting:\n",
      "\u001b[32;1m\u001b[1;3mThe following is a friendly conversation between a human and an AI. The AI is talkative and provides lots of specific details from its context. If the AI does not know the answer to a question, it truthfully says it does not know.\n",
      "\n",
      "Current conversation:\n",
      "\n",
      "Human: Which country is the biggest exporter of cotton?\n",
      "AI:\u001b[0m\n",
      "\n",
      "\u001b[1m> Finished chain.\u001b[0m\n"
     ]
    },
    {
     "data": {
      "text/plain": [
       "{'input': 'Which country is the biggest exporter of cotton?',\n",
       " 'history': '',\n",
       " 'response': \"That would be India! 🇮🇳 They've recently overtaken China as the top exporter of cotton. In 2020-2021, India exported about $9.4 billion worth of cotton, which is a huge chunk of the global market.  Do you know what they mostly export it as? Raw cotton, yarn, or fabric? 🤔 \"}"
      ]
     },
     "execution_count": 20,
     "metadata": {},
     "output_type": "execute_result"
    }
   ],
   "source": [
    "convo_chain_2.invoke({\"input\":\"Which country is the biggest exporter of cotton?\"})"
   ]
  },
  {
   "cell_type": "code",
   "execution_count": 21,
   "id": "2ffbe879",
   "metadata": {},
   "outputs": [
    {
     "name": "stdout",
     "output_type": "stream",
     "text": [
      "\n",
      "\n",
      "\u001b[1m> Entering new ConversationChain chain...\u001b[0m\n",
      "Prompt after formatting:\n",
      "\u001b[32;1m\u001b[1;3mThe following is a friendly conversation between a human and an AI. The AI is talkative and provides lots of specific details from its context. If the AI does not know the answer to a question, it truthfully says it does not know.\n",
      "\n",
      "Current conversation:\n",
      "Human: Which country is the biggest exporter of cotton?\n",
      "AI: That would be India! 🇮🇳 They've recently overtaken China as the top exporter of cotton. In 2020-2021, India exported about $9.4 billion worth of cotton, which is a huge chunk of the global market.  Do you know what they mostly export it as? Raw cotton, yarn, or fabric? 🤔 \n",
      "Human: What is the total value of cotton exports of this country\n",
      "AI:\u001b[0m\n",
      "\n",
      "\u001b[1m> Finished chain.\u001b[0m\n"
     ]
    },
    {
     "data": {
      "text/plain": [
       "{'input': 'What is the total value of cotton exports of this country',\n",
       " 'history': \"Human: Which country is the biggest exporter of cotton?\\nAI: That would be India! 🇮🇳 They've recently overtaken China as the top exporter of cotton. In 2020-2021, India exported about $9.4 billion worth of cotton, which is a huge chunk of the global market.  Do you know what they mostly export it as? Raw cotton, yarn, or fabric? 🤔 \",\n",
       " 'response': \"AI: Ah, you mean the total value of India's cotton exports?  In 2020-2021, it was about **\\\\$9.4 billion**, as I mentioned.  That made them the top dog in the cotton export game! 💰  Pretty impressive, right?  😄 \"}"
      ]
     },
     "execution_count": 21,
     "metadata": {},
     "output_type": "execute_result"
    }
   ],
   "source": [
    "convo_chain_2.invoke({\"input\":\"What is the total value of cotton exports of this country\"})"
   ]
  },
  {
   "cell_type": "code",
   "execution_count": 22,
   "id": "e6d65767",
   "metadata": {},
   "outputs": [
    {
     "name": "stdout",
     "output_type": "stream",
     "text": [
      "Human: What is the total value of cotton exports of this country\n",
      "AI: The total value of cotton exports from India in the 2020-2021 crop year. According to the Indian Cotton Federation and data from the Ministry of Commerce and Industry, India's cotton exports in the 2020-2021 crop year were valued at approximately Rs 46,500 crore (around $6.2 billion USD).\n",
      "\n",
      "This is a significant increase from the previous crop year, which saw cotton exports valued at around Rs 35,000 crore (approximately $4.7 billion USD). The growth in cotton exports is attributed to the bumper cotton crop in India in the 2020-2021 crop year, coupled with the country's favorable trade policies and strategic partnerships with major textile-producing countries.\n",
      "\n",
      "Breaking down the exports, India's cotton exports in the 2020-2021 crop year comprised mainly of:\n",
      "\n",
      "- Cotton yarn: valued at around Rs 10,500 crore (approximately $1.4 billion USD)\n",
      "- Cotton fabrics: valued at around Rs 10,200 crore (approximately $1.4 billion USD)\n",
      "- Cotton waste: valued at around Rs 5,500 crore (approximately $730 million USD)\n",
      "\n",
      "These figures are subject to slight variations based on the specific data source and methodology used, but they give a general idea of the total value of cotton exports from India in the 2020-2021 crop year.\n"
     ]
    }
   ],
   "source": [
    "print(convo_chain_1.memory.buffer)"
   ]
  },
  {
   "cell_type": "code",
   "execution_count": 23,
   "id": "e9db8372",
   "metadata": {},
   "outputs": [
    {
     "name": "stdout",
     "output_type": "stream",
     "text": [
      "Human: What is the total value of cotton exports of this country\n",
      "AI: AI: Ah, you mean the total value of India's cotton exports?  In 2020-2021, it was about **\\$9.4 billion**, as I mentioned.  That made them the top dog in the cotton export game! 💰  Pretty impressive, right?  😄 \n"
     ]
    }
   ],
   "source": [
    "print(convo_chain_2.memory.buffer)"
   ]
  },
  {
   "cell_type": "code",
   "execution_count": null,
   "id": "16cec521",
   "metadata": {},
   "outputs": [],
   "source": [
    "from langchain_core.messages import SystemMessage\n",
    "from langchain_core.prompts import (\n",
    "    ChatPromptTemplate,\n",
    "    HumanMessagePromptTemplate,\n",
    "    MessagesPlaceholder\n",
    ")"
   ]
  },
  {
   "cell_type": "code",
   "execution_count": null,
   "id": "1920cbe6",
   "metadata": {},
   "outputs": [],
   "source": [
    "chatPrompt = ChatPromptTemplate.from_messages(\n",
    "    [\n",
    "        SystemMessage(\n",
    "            content=\"You are having a chat with the human.\"\n",
    "        ),\n",
    "        MessagesPlaceholder(\n",
    "            variable_name=\"history\"\n",
    "        ),\n",
    "        HumanMessagePromptTemplate.from_template(\n",
    "            \"{new_input}\"\n",
    "        ),\n",
    "    ]\n",
    ")"
   ]
  },
  {
   "cell_type": "code",
   "execution_count": null,
   "id": "61f9bf73",
   "metadata": {},
   "outputs": [],
   "source": [
    "chat_memory = ConversationBufferMemory(return_messages=True)"
   ]
  },
  {
   "cell_type": "code",
   "execution_count": null,
   "id": "8cba6f75",
   "metadata": {},
   "outputs": [],
   "source": [
    "chat_lamma_llm = ChatGroq(model=\"llama-3.1-8b-instant\")"
   ]
  },
  {
   "cell_type": "code",
   "execution_count": null,
   "id": "ee49abfb",
   "metadata": {},
   "outputs": [],
   "source": [
    "chat_chain = LLMChain(llm=chat_lamma_llm,prompt=chatPrompt,memory=chat_memory,verbose=True) "
   ]
  },
  {
   "cell_type": "code",
   "execution_count": null,
   "id": "0c9c4370",
   "metadata": {},
   "outputs": [],
   "source": [
    "chat_chain.invoke({\"new_input\":\"Which country is the biggest exporter of cotton?\"})"
   ]
  },
  {
   "cell_type": "code",
   "execution_count": null,
   "id": "bce0206e",
   "metadata": {},
   "outputs": [],
   "source": [
    "chat_chain.invoke({\"new_input\":\"What is the total value of cotton exports of this country?\"})"
   ]
  },
  {
   "cell_type": "markdown",
   "id": "8d72d02c",
   "metadata": {},
   "source": [
    "### Changing the memory variable name"
   ]
  },
  {
   "cell_type": "code",
   "execution_count": null,
   "id": "6822be92",
   "metadata": {},
   "outputs": [],
   "source": [
    "chatPrompt_2 = ChatPromptTemplate.from_messages(\n",
    "    [\n",
    "        SystemMessage(\n",
    "            content=\"You are having a chat with the human.\"\n",
    "        ),\n",
    "        MessagesPlaceholder(\n",
    "            variable_name=\"prev_conv\"\n",
    "        ),\n",
    "        HumanMessagePromptTemplate.from_template(\n",
    "            \"{new_input}\"\n",
    "        ),\n",
    "    ]\n",
    ")"
   ]
  },
  {
   "cell_type": "code",
   "execution_count": null,
   "id": "3563681c",
   "metadata": {},
   "outputs": [],
   "source": [
    "chat_memory_2 = ConversationBufferMemory(memory_key=\"prev_conv\",return_messages=True)"
   ]
  },
  {
   "cell_type": "code",
   "execution_count": null,
   "id": "9670f70b",
   "metadata": {},
   "outputs": [],
   "source": [
    "chat_chain_2 = LLMChain(llm=chat_lamma_llm,prompt=chatPrompt_2,memory=chat_memory_2,verbose=True) "
   ]
  },
  {
   "cell_type": "code",
   "execution_count": null,
   "id": "a144173b",
   "metadata": {},
   "outputs": [],
   "source": [
    "chat_chain_2.invoke({\"new_input\":\"Which country is the biggest exporter of cotton?\"})"
   ]
  },
  {
   "cell_type": "markdown",
   "id": "359141ab",
   "metadata": {},
   "source": [
    "### Add messages to memory"
   ]
  },
  {
   "cell_type": "code",
   "execution_count": null,
   "id": "293bf33c",
   "metadata": {},
   "outputs": [],
   "source": [
    "sample_memory = ConversationBufferMemory(memory_key=\"history\")"
   ]
  },
  {
   "cell_type": "code",
   "execution_count": null,
   "id": "cb0a2d4c",
   "metadata": {},
   "outputs": [],
   "source": [
    "sample_memory.load_memory_variables({})"
   ]
  },
  {
   "cell_type": "code",
   "execution_count": null,
   "id": "9667c163",
   "metadata": {},
   "outputs": [],
   "source": [
    "sample_memory.chat_memory.add_user_message(\"Which country is the biggest exporter of cotton?\")\n",
    "sample_memory.chat_memory.add_ai_message(\"China\")"
   ]
  },
  {
   "cell_type": "code",
   "execution_count": null,
   "id": "9d50bb57",
   "metadata": {},
   "outputs": [],
   "source": [
    "sample_memory.load_memory_variables({})"
   ]
  },
  {
   "cell_type": "code",
   "execution_count": null,
   "id": "e9179648",
   "metadata": {},
   "outputs": [],
   "source": [
    "prompt_template_2 = PromptTemplate(\n",
    "    input_variables = [\"history\",\"new_input\"],\n",
    "    template=\"\"\"You are having a chat with human.\n",
    "        previous chat:{history}\n",
    "        Human: {new_input}\n",
    "        Assistant:\"\"\"\n",
    ")"
   ]
  },
  {
   "cell_type": "code",
   "execution_count": null,
   "id": "3914e319",
   "metadata": {},
   "outputs": [],
   "source": [
    "chain_3 = LLMChain(llm=lamma_llm,prompt=prompt_template,memory=sample_memory,verbose=True)"
   ]
  },
  {
   "cell_type": "code",
   "execution_count": null,
   "id": "610e19f7",
   "metadata": {},
   "outputs": [],
   "source": [
    "chain_3.invoke({\"new_input\":\"What is the total value of cotton exports of this country?\"})"
   ]
  },
  {
   "cell_type": "markdown",
   "id": "3bfe93b0",
   "metadata": {},
   "source": [
    "### Conversation Chain instead of LLMChain"
   ]
  },
  {
   "cell_type": "code",
   "execution_count": null,
   "id": "aa1a730a",
   "metadata": {},
   "outputs": [],
   "source": [
    "from langchain.chains import ConversationChain"
   ]
  },
  {
   "cell_type": "code",
   "execution_count": null,
   "id": "722ba448",
   "metadata": {},
   "outputs": [],
   "source": [
    "memory_3 = ConversationBufferMemory(memory_key=\"history\")"
   ]
  },
  {
   "cell_type": "code",
   "execution_count": null,
   "id": "aec89ca0",
   "metadata": {},
   "outputs": [],
   "source": [
    "chain_4 = ConversationChain(llm=lamma_llm,memory=memory_3,verbose=True)"
   ]
  },
  {
   "cell_type": "code",
   "execution_count": null,
   "id": "3b41958d",
   "metadata": {},
   "outputs": [],
   "source": [
    "chain_4.invoke({\"input\":\"Which country is the biggest exporter of cotton?\"})"
   ]
  },
  {
   "cell_type": "code",
   "execution_count": null,
   "id": "09441f3a",
   "metadata": {},
   "outputs": [],
   "source": [
    "print(chain_4.prompt.template)"
   ]
  },
  {
   "cell_type": "code",
   "execution_count": null,
   "id": "b3e3ee6b",
   "metadata": {},
   "outputs": [],
   "source": [
    "chain_4.invoke({\"input\":\"What is the total value of cotton exports of this country?\"})"
   ]
  },
  {
   "cell_type": "code",
   "execution_count": null,
   "id": "eb89c5d7",
   "metadata": {},
   "outputs": [],
   "source": [
    "print(chain_4.memory.buffer)"
   ]
  },
  {
   "cell_type": "code",
   "execution_count": null,
   "id": "222fe6a0",
   "metadata": {},
   "outputs": [],
   "source": []
  }
 ],
 "metadata": {
  "kernelspec": {
   "display_name": "Python 3",
   "language": "python",
   "name": "python3"
  },
  "language_info": {
   "codemirror_mode": {
    "name": "ipython",
    "version": 3
   },
   "file_extension": ".py",
   "mimetype": "text/x-python",
   "name": "python",
   "nbconvert_exporter": "python",
   "pygments_lexer": "ipython3",
   "version": "3.10.0"
  }
 },
 "nbformat": 4,
 "nbformat_minor": 5
}
