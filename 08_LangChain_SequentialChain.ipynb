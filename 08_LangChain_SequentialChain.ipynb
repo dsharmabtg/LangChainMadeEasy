{
 "cells": [
  {
   "cell_type": "code",
   "execution_count": 1,
   "id": "f43e4d36",
   "metadata": {},
   "outputs": [],
   "source": [
    "import os"
   ]
  },
  {
   "cell_type": "code",
   "execution_count": 2,
   "id": "ce5b80dd",
   "metadata": {},
   "outputs": [],
   "source": [
    "def get_file_contents(filename):\n",
    "    \"\"\" Given a filename,\n",
    "        return the contents of that file\n",
    "    \"\"\"\n",
    "    try:\n",
    "        with open(filename, 'r') as f:\n",
    "            # It's assumed our file contains a single line,\n",
    "            # with our API key\n",
    "            return f.read().strip()\n",
    "    except FileNotFoundError:\n",
    "        print(\"'%s' file not found\" % filename)"
   ]
  },
  {
   "cell_type": "code",
   "execution_count": null,
   "id": "48593206",
   "metadata": {},
   "outputs": [],
   "source": [
    "filename = \"..\\\\GoogleAPIKey.txt\""
   ]
  },
  {
   "cell_type": "code",
   "execution_count": 4,
   "id": "2ea5ce94",
   "metadata": {},
   "outputs": [],
   "source": [
    "os.environ['GOOGLE_API_KEY'] = get_file_contents(filename)"
   ]
  },
  {
   "cell_type": "markdown",
   "id": "1cfd78d9",
   "metadata": {},
   "source": [
    "### Sequential chain -- LLMChain"
   ]
  },
  {
   "cell_type": "code",
   "execution_count": 5,
   "id": "bcf0cf16",
   "metadata": {},
   "outputs": [],
   "source": [
    "from langchain import PromptTemplate\n",
    "from langchain.chains import LLMChain\n",
    "from langchain.chains import SequentialChain\n",
    "from langchain_google_genai import GoogleGenerativeAI\n",
    "from langchain_google_genai import ChatGoogleGenerativeAI"
   ]
  },
  {
   "cell_type": "code",
   "execution_count": 6,
   "id": "78fa231c",
   "metadata": {},
   "outputs": [],
   "source": [
    "marketing_text = PromptTemplate(\n",
    "    input_variables = ['name','description'],\n",
    "    template=\"Generate a one line facebook ad copy for a product called {name}. Below is a description of this product: {description}\"\n",
    ")"
   ]
  },
  {
   "cell_type": "code",
   "execution_count": 8,
   "id": "abb8bc40",
   "metadata": {},
   "outputs": [],
   "source": [
    "text_llm = GoogleGenerativeAI(model='gemini-1.5-pro-001')"
   ]
  },
  {
   "cell_type": "code",
   "execution_count": 9,
   "id": "5e26073f",
   "metadata": {},
   "outputs": [
    {
     "name": "stderr",
     "output_type": "stream",
     "text": [
      "C:\\Users\\Dell\\AppData\\Local\\Temp\\ipykernel_892\\870116488.py:1: LangChainDeprecationWarning: The class `LLMChain` was deprecated in LangChain 0.1.17 and will be removed in 1.0. Use :meth:`~RunnableSequence, e.g., `prompt | llm`` instead.\n",
      "  text_chain = LLMChain(llm=text_llm,prompt=marketing_text,output_key=\"copy_text\")\n"
     ]
    }
   ],
   "source": [
    "text_chain = LLMChain(llm=text_llm,prompt=marketing_text,output_key=\"copy_text\")"
   ]
  },
  {
   "cell_type": "code",
   "execution_count": 10,
   "id": "c6f73695",
   "metadata": {},
   "outputs": [],
   "source": [
    "translate_text = PromptTemplate(input_variables=[\"copy_text\"],template=\"\"\"Translate this text to Hindi:{copy_text}\"\"\")"
   ]
  },
  {
   "cell_type": "code",
   "execution_count": 11,
   "id": "5a9e69fa",
   "metadata": {},
   "outputs": [],
   "source": [
    "translate_llm = ChatGoogleGenerativeAI(model=\"gemini-2.0-flash\")"
   ]
  },
  {
   "cell_type": "code",
   "execution_count": 12,
   "id": "66bff345",
   "metadata": {},
   "outputs": [],
   "source": [
    "translate_chain = LLMChain(llm=translate_llm,prompt=translate_text,output_key=\"translated_copy\")"
   ]
  },
  {
   "cell_type": "code",
   "execution_count": 13,
   "id": "77c33821",
   "metadata": {},
   "outputs": [],
   "source": [
    "seq_chain = SequentialChain(\n",
    "    chains = [text_chain,translate_chain],\n",
    "    input_variables=[\"name\",\"description\"],\n",
    "    output_variables=[\"copy_text\",\"translated_copy\"]\n",
    ")"
   ]
  },
  {
   "cell_type": "code",
   "execution_count": 15,
   "id": "0d0f02c8",
   "metadata": {},
   "outputs": [],
   "source": [
    "message = seq_chain({\"name\":\"AeroGlow Nightlight\",\"description\":\"AeroGlow Nightlight is a smart, voice-activated nightlight that projects calming, animated constellations onto your ceiling.\"})"
   ]
  },
  {
   "cell_type": "code",
   "execution_count": 16,
   "id": "c232242a",
   "metadata": {},
   "outputs": [
    {
     "name": "stdout",
     "output_type": "stream",
     "text": [
      "{'name': 'AeroGlow Nightlight', 'description': 'AeroGlow Nightlight is a smart, voice-activated nightlight that projects calming, animated constellations onto your ceiling.', 'copy_text': '✨ Say \"Goodnight\" to darkness! ✨ Introducing AeroGlow Nightlight, the voice-activated nightlight that paints your ceiling with calming constellations. ', 'translated_copy': 'Here\\'s the translation of the text into Hindi:\\n\\n✨ अंधेरे को \"शुभ रात्रि\" कहें! ✨ पेश करते हैं AeroGlow नाइटलाइट, एक आवाज से चलने वाली नाइटलाइट जो आपकी छत को शांत नक्षत्रों से रंग देती है।\\n\\nHere\\'s a slightly different, more evocative translation:\\n\\n✨ अब अंधेरे को कहिए \"अलविदा\"! ✨ पेश है AeroGlow नाइटलाइट, जो आपकी आवाज़ से रोशन होती है और आपकी छत पर शांत नक्षत्रों का जादू बिखेरती है।'}\n"
     ]
    }
   ],
   "source": [
    "print(message)"
   ]
  }
 ],
 "metadata": {
  "kernelspec": {
   "display_name": "Python 3",
   "language": "python",
   "name": "python3"
  },
  "language_info": {
   "codemirror_mode": {
    "name": "ipython",
    "version": 3
   },
   "file_extension": ".py",
   "mimetype": "text/x-python",
   "name": "python",
   "nbconvert_exporter": "python",
   "pygments_lexer": "ipython3",
   "version": "3.10.0"
  }
 },
 "nbformat": 4,
 "nbformat_minor": 5
}
