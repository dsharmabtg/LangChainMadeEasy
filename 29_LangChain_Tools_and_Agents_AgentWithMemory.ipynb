{
 "cells": [
  {
   "cell_type": "code",
   "execution_count": 1,
   "id": "fbe67fe1",
   "metadata": {},
   "outputs": [],
   "source": [
    "import os"
   ]
  },
  {
   "cell_type": "code",
   "execution_count": 2,
   "id": "632c8dea",
   "metadata": {},
   "outputs": [],
   "source": [
    "def get_file_contents(filename):\n",
    "    \"\"\" Given a filename,\n",
    "        return the contents of that file\n",
    "    \"\"\"\n",
    "    try:\n",
    "        with open(filename, 'r') as f:\n",
    "            # It's assumed our file contains a single line,\n",
    "            # with our API key\n",
    "            return f.read().strip()\n",
    "    except FileNotFoundError:\n",
    "        print(\"'%s' file not found\" % filename)"
   ]
  },
  {
   "cell_type": "code",
   "execution_count": null,
   "id": "72e02e58",
   "metadata": {},
   "outputs": [],
   "source": [
    "filename = \"..\\\\GoogleAPIKey.txt\"\n",
    "os.environ['GOOGLE_API_KEY'] = get_file_contents(filename)\n",
    "filename_grokKey = \"..\\\\GroqAPIKey.txt\"\n",
    "os.environ['GROQ_API_KEY'] = get_file_contents(filename_grokKey)"
   ]
  },
  {
   "cell_type": "markdown",
   "id": "e69d8583",
   "metadata": {},
   "source": [
    "### Agents with Memory"
   ]
  },
  {
   "cell_type": "code",
   "execution_count": 4,
   "id": "23d5e214",
   "metadata": {},
   "outputs": [],
   "source": [
    "from langchain.agents import AgentExecutor, create_tool_calling_agent\n",
    "from langchain_core.prompts import ChatPromptTemplate\n",
    "from langchain_community.tools import DuckDuckGoSearchResults\n",
    "from langchain.tools import WikipediaQueryRun\n",
    "from langchain_community.utilities import WikipediaAPIWrapper\n",
    "from langchain_google_genai import ChatGoogleGenerativeAI\n",
    "from langchain_community.chat_message_histories import ChatMessageHistory\n",
    "from langchain_core.chat_history import BaseChatMessageHistory\n",
    "from langchain_core.runnables.history import RunnableWithMessageHistory\n",
    "from langchain_groq import ChatGroq\n"
   ]
  },
  {
   "cell_type": "code",
   "execution_count": 5,
   "id": "26269cfb",
   "metadata": {},
   "outputs": [],
   "source": [
    "#llm= ChatGoogleGenerativeAI(model='gemini-1.5-pro-001')\n",
    "llm = ChatGroq(model=\"llama-3.1-8b-instant\")"
   ]
  },
  {
   "cell_type": "code",
   "execution_count": 6,
   "id": "84c0597c",
   "metadata": {},
   "outputs": [],
   "source": [
    "search = DuckDuckGoSearchResults()\n",
    "wikipedia = WikipediaQueryRun(api_wrapper=WikipediaAPIWrapper())"
   ]
  },
  {
   "cell_type": "code",
   "execution_count": 7,
   "id": "54580b52",
   "metadata": {},
   "outputs": [],
   "source": [
    "prompt = ChatPromptTemplate(\n",
    "    [\n",
    "        (\n",
    "            \"system\",\"You are a helpful assistant. For answering the user query, look for information using DuckDuckGo Search and Wikipedia and then give the final answer.\"\n",
    "        ),\n",
    "        (\"placeholder\",\"{history}\"),\n",
    "        (\"human\",\"{input}\"),\n",
    "        (\"placeholder\",\"{agent_scratchpad}\"), # must add when using tool calling agent\n",
    "    ]\n",
    ")"
   ]
  },
  {
   "cell_type": "code",
   "execution_count": 8,
   "id": "97d2b88b",
   "metadata": {},
   "outputs": [],
   "source": [
    "tools = [search,wikipedia]"
   ]
  },
  {
   "cell_type": "code",
   "execution_count": 9,
   "id": "b0d9e711",
   "metadata": {},
   "outputs": [],
   "source": [
    "agent = create_tool_calling_agent(llm,tools,prompt)"
   ]
  },
  {
   "cell_type": "code",
   "execution_count": 10,
   "id": "fad30e00",
   "metadata": {},
   "outputs": [],
   "source": [
    "agent_executor = AgentExecutor(agent=agent,tools=tools,verbose=True, input_keys=[\"input\"])"
   ]
  },
  {
   "cell_type": "code",
   "execution_count": 11,
   "id": "32dce562",
   "metadata": {},
   "outputs": [],
   "source": [
    "store = {}\n",
    "def get_session_history(session_id:str)->BaseChatMessageHistory:\n",
    "    if session_id not in store:\n",
    "        store[session_id] =  ChatMessageHistory()\n",
    "    return store[session_id]"
   ]
  },
  {
   "cell_type": "code",
   "execution_count": 12,
   "id": "fc62c693",
   "metadata": {},
   "outputs": [],
   "source": [
    "agent_with_history = RunnableWithMessageHistory(\n",
    "    agent_executor, \n",
    "    get_session_history,\n",
    "    input_messages_key=\"input\",\n",
    "    history_messages_key=\"history\",\n",
    ")"
   ]
  },
  {
   "cell_type": "code",
   "execution_count": 13,
   "id": "abd41c7c",
   "metadata": {},
   "outputs": [
    {
     "name": "stdout",
     "output_type": "stream",
     "text": [
      "input\n"
     ]
    }
   ],
   "source": [
    "print(agent_with_history.input_messages_key)"
   ]
  },
  {
   "cell_type": "code",
   "execution_count": 14,
   "id": "d3040948",
   "metadata": {},
   "outputs": [
    {
     "name": "stdout",
     "output_type": "stream",
     "text": [
      "history\n"
     ]
    }
   ],
   "source": [
    "print(agent_with_history.history_messages_key)"
   ]
  },
  {
   "cell_type": "code",
   "execution_count": 16,
   "id": "e2eb99d9",
   "metadata": {},
   "outputs": [
    {
     "name": "stdout",
     "output_type": "stream",
     "text": [
      "\n",
      "\n",
      "\u001b[1m> Entering new AgentExecutor chain...\u001b[0m\n",
      "\u001b[32;1m\u001b[1;3m\n",
      "Invoking: `wikipedia` with `{'query': 'Nelson Mandela birthdate'}`\n",
      "\n",
      "\n",
      "\u001b[0m\u001b[33;1m\u001b[1;3mPage: Pablo Sarino\n",
      "Summary: Pablo Gomez Sarino (June 29, 1911 - December 23, 1987) was a Filipino politician who served as the municipal mayor of Bacoor, Cavite. He previously served as a municipal councilor and later became elected as the mayor in 1959. His terms of office in total made him the longest serving mayor of Bacoor to date.\n",
      "\n",
      "Page: Dominic Waghorn\n",
      "Summary: Dominic David Waghorn (born 1968, Lambeth), is a British journalist who is the Diplomatic Editor of Sky News and presenter of the channel's weekly international affairs analysis programme World View.  He was before that US Correspondent of Sky News, the 24-hour television news service operated by Sky Television, part of British Sky Broadcasting. He is based at Sky News' Washington Bureau. He was formerly Sky News' Asia Correspondent, based in Beijing and Middle East Correspondent, based in Jerusalem. He became Sky News' US Correspondent in 2011.\n",
      "\n",
      "Page: Djalu Gurruwiwi\n",
      "Summary: Djalu Gurruwiwi, written Djalu (c. 1935 – 12 May 2022), was a Yolngu musician, artist, and leader from Arnhem Land in the Northern Territory of Australia. He was globally recognised for his acquired skill as a player, maker, and spiritual keeper of the yiḏaki (also known as didgeridoo). As a respected artist with many of his works in several galleries, he aimed to spread his culture and traditions past his own community and onto the global stage.\u001b[0m\u001b[32;1m\u001b[1;3m\n",
      "Invoking: `duckduckgo_results_json` with `{'query': 'Nelson Mandela birthdate'}`\n",
      "\n",
      "\n",
      "\u001b[0m\u001b[36;1m\u001b[1;3msnippet: Nelson Mandela is known for several things, but perhaps he is best known for successfully leading the resistance to South Africa's policy of apartheid in the 20th century, during which he was infamously incarcerated at Robben Island Prison (1964-82). He won the Nobel Prize for Peace in 1993, along with South Africa's president at the time, F.W. de Klerk, for having led the transition ..., title: Nelson Mandela | Death, Facts, Biography, & Apartheid | Britannica, link: https://www.britannica.com/biography/Nelson-Mandela, snippet: Nelson Rolihlahla Mandela (/ m æ n ˈ d ɛ l ə / man-DEL-ə, [1] Xhosa: [xolíɬaɬa mandɛ̂ːla]; born Rolihlahla Mandela; 18 July 1918 - 5 December 2013) was a South African anti-apartheid activist and politician who served as the first president of South Africa from 1994 to 1999. He was the country's first black head of state and the first elected in a fully representative democratic ..., title: Nelson Mandela - Wikipedia, link: https://en.wikipedia.org/wiki/Nelson_Mandela, snippet: 1988 - The Nelson Mandela 70th Birthday Tribute concert is held at London's Wembley Stadium. It was a focal point of the external anti-apartheid movement, with prominent musicians - including Simple Minds, Santana, Tracy Chapman, Salif Keita, Annie Lennox and Whitney Houston - voicing their support for Mandela., title: Nelson Mandela 1918-2013: the timeline of a lifetime, link: https://southafrica-info.com/history/nelson-mandela-timeline/, snippet: Mandela Day, celebrated annually on July 18, marks the birthday of the late Nelson Mandela, a prominent figure known for his unparalleled contributions to the struggle for human rights and social justice. In 2009, the United Nations officially declared this day as an international day to promote global peace and honor Mandela's legacy. The ..., title: Nelson Mandela \"Social Rights Activist\" - Biography, Age and Wife, link: https://biographyhost.com/p/nelson-mandela-biography.html\u001b[0m\u001b[32;1m\u001b[1;3mNelson Mandela was born on July 18, 1918.\u001b[0m\n",
      "\n",
      "\u001b[1m> Finished chain.\u001b[0m\n"
     ]
    },
    {
     "data": {
      "text/plain": [
       "{'input': 'When was Nelson Mandela born?',\n",
       " 'history': [HumanMessage(content='When was Nelson Mandela born?', additional_kwargs={}, response_metadata={}),\n",
       "  AIMessage(content='Unfortunately, I was unable to find the birthdate of Nelson Mandela.', additional_kwargs={}, response_metadata={})],\n",
       " 'output': 'Nelson Mandela was born on July 18, 1918.'}"
      ]
     },
     "execution_count": 16,
     "metadata": {},
     "output_type": "execute_result"
    }
   ],
   "source": [
    "agent_with_history.invoke(\n",
    "    {\"input\":\"When was Nelson Mandela born?\"},\n",
    "    config={\"configurable\":{\"session_id\":\"sess1\"}},\n",
    "    )"
   ]
  },
  {
   "cell_type": "code",
   "execution_count": 17,
   "id": "1eaf022e",
   "metadata": {},
   "outputs": [
    {
     "name": "stdout",
     "output_type": "stream",
     "text": [
      "\n",
      "\n",
      "\u001b[1m> Entering new AgentExecutor chain...\u001b[0m\n",
      "\u001b[32;1m\u001b[1;3m\n",
      "Invoking: `wikipedia` with `{'query': 'Nelson Mandela famous quotes'}`\n",
      "\n",
      "\n",
      "\u001b[0m\u001b[33;1m\u001b[1;3mPage: Ndaba Mandela\n",
      "Summary: Ndaba Thembekile Zweliyajika Mandela (born 23 December 1982) is an author, mentor, spokesperson, entrepreneur, political consultant, and the grandson of Nelson Mandela. He was born in Soweto, South Africa.\n",
      "Mandela is currently the co-founder and chairman of the Mandela Institute for Humanity.\n",
      "He is active in keeping the legacy of his grandfather alive, and introducing Nelson Mandela to a younger generation. He is the co-founder and chairman of Africa Rising Foundation.  He is also the founder of the Mandela Project. He was part of the team for the Mandela Centenary in 2018.\n",
      "From 2014 - 2021 Ndaba was Vice President of the Pan-African Youth Council which is now called the Pan African Youth Parliament which works closely with the African Union.\n",
      "He is the longest serving global ambassador for UNAIDS, a specialized agency of the United Nations that campaigns to end the HIV/AIDS epidemic. Both of his parents died from the disease.\n",
      "\n",
      "Page: Long Walk to Freedom\n",
      "Summary: Long Walk to Freedom is an autobiography by South Africa's first democratically elected President Nelson Mandela, and it was first published in 1994 by Little Brown & Co. The book profiles his early life, coming of age, education and 27 years spent in prison. Under the apartheid government, Mandela was regarded as a terrorist and jailed on Robben Island for his role as a leader of the then-outlawed African National Congress (ANC) and its armed wing the Umkhonto We Sizwe. He later achieved international recognition for his leadership as president in rebuilding the country's once segregationist society. The last chapters of the book describe his political ascension and his belief that the struggle still continued against apartheid in South Africa.\n",
      "\n",
      "Page: Nelson Mandela\n",
      "Summary: Nelson Rolihlahla Mandela ( man-DEL-ə, Xhosa: [xolíɬaɬa mandɛ̂ːla]; born Rolihlahla Mandela; 18 July 1918 – 5 December 2013) was a South African anti-apartheid activist and politician who served as the first president of South Africa from 1994 to 1999. He was the country's first black head of state and the first elected in a fully representative democratic election. His government focused on dismantling the legacy of apartheid by fostering racial reconciliation. Ideologically an African nationalist and socialist, he served as the president of the African National Congress (ANC) party from 1991 to 1997.\n",
      "A Xhosa, Mandela was born into the Thembu royal family in Mvezo, South Africa. He studied law at the University of Fort Hare and the University of Witwatersrand before working as a lawyer in Johannesburg. There he became involved in anti-colonial and African nationalist politics, joining the ANC in 1943 and co-founding its Youth League in 1944. After the National Party's white-only government established apartheid, a system of racial segregation that privileged whites, Mandela and the ANC committed themselves to its overthrow. He was appointed president of the ANC's Transvaal branch, rising to prominence for his involvement in the 1952 Defiance Campaign and the 1955 Congress of the People. He was repeatedly arrested for seditious activities and was unsuccessfully prosecuted in the 1956 Treason Trial. Influenced by Marxism, he secretly joined the banned South African Communist Party (SACP). Although initially committed to non-violent protest, in association with the SACP he co-founded the militant uMkhonto we Sizwe in 1961 that led a sabotage campaign against the apartheid government. He was arrested and imprisoned in 1962, and, following the Rivonia Trial, was sentenced to life imprisonment for conspiring to overthrow the state.\n",
      "Mandela served 27 years in prison, split between Robben Island, Pollsmoor Prison, and Victor Verster Prison. Amid growing domestic and international pressure and fears of racial civil war, President F. W. de Klerk released him in 1990. Mandela and de Klerk led efforts to negotiate an end to apartheid, which resulted in the 1994 multiracial genera\u001b[0m\u001b[32;1m\u001b[1;3m\n",
      "Invoking: `duckduckgo_results_json` with `{'query': 'Nelson Mandela famous quotes'}`\n",
      "\n",
      "\n",
      "\u001b[0m\u001b[36;1m\u001b[1;3msnippet: Explore the wisdom of Nelson Mandela, a symbol of resilience and hope in the pursuit of justice and equality. Find quotes on freedom, fear, leadership, perseverance, and more from the former president of South Africa., title: 60 Nelson Mandela Quotes (On Freedom, Fear, Leadership), link: https://wisdomquotes.com/nelson-mandela-quotes/, snippet: Discover the wisdom, resilience, and leadership of Nelson Mandela, the global icon who fought apartheid and became South Africa's first Black president. Explore his quotes on courage, forgiveness, education, freedom, and more., title: 95 Nelson Mandela Powerful Quotes to Inspire and Guide You, link: https://lifeispositive.com/mandela-quotes/, snippet: Today, we will look at some of Nelson Mandela's most famous quotes. Each quote carries a lesson that can change how we think and act in our daily lives. Let's celebrate his wisdom and find motivation in his inspiring words. Nelson Mandela Quotes \"Education is the most powerful weapon which you can use to change the world.\" - Nelson ..., title: Top 150 Nelson Mandela Quotes (With Meanings) - Scripture Savvy, link: https://scripturesavvy.com/nelson-mandela-quotes/, snippet: Famous Nelson Mandela Quotes \"I like friends who have independent minds because they tend to make you see problems from all angles.\" \"Man's goodness is a flame that can be hidden but never ..., title: Top 55 Nelson Mandela Quotes for Inspiration and Motivation - Jagran Josh, link: https://www.jagranjosh.com/general-knowledge/nelson-mandela-quotes-1689645189-1\u001b[0m\u001b[32;1m\u001b[1;3mHere are some of Nelson Mandela's famous quotes:\n",
      "\n",
      "1. \"Education is the most powerful weapon which you can use to change the world.\"\n",
      "2. \"I like friends who have independent minds because they tend to make you see problems from all angles.\"\n",
      "3. \"Man's goodness is a flame that can be hidden but never extinguished.\"\n",
      "4. \"The greatest glory in living lies not in never falling, but in rising every time we fall.\"\n",
      "5. \"For to be free is not merely to cast off one's chains, but to live in a way that respects and enhances the freedom of others.\"\n",
      "6. \"No one is born hating another person because of the color of his skin, or his background, or his religion. People must learn to hate, and if they can learn to hate, they can be taught to love, for love comes more naturally to the human heart than its opposite.\"\n",
      "7. \"I have walked that long road to freedom. I have tried not to falter; I have made missteps along the way. But I have discovered the secret that after climbing a great hill, one only finds that there are many more hills to climb.\"\n",
      "8. \"The greatest glory in living lies not in never falling, but in rising every time we fall.\"\n",
      "9. \"For to be free is not merely to cast off one's chains, but to live in a way that respects and enhances the freedom of others.\"\n",
      "10. \"I am not a saint, unless you think of a saint as a sinner who keeps on trying.\"\n",
      "\n",
      "These quotes capture Nelson Mandela's wisdom, resilience, and leadership, and inspire us to strive for a world where everyone is treated with equality and respect.\u001b[0m\n",
      "\n",
      "\u001b[1m> Finished chain.\u001b[0m\n"
     ]
    }
   ],
   "source": [
    "result = agent_with_history.invoke(\n",
    "    {\"input\":\"What are some of his famous quotes?\"},\n",
    "    config={\"configurable\":{\"session_id\":\"sess1\"}},\n",
    "    )"
   ]
  },
  {
   "cell_type": "code",
   "execution_count": 18,
   "id": "5625737c",
   "metadata": {},
   "outputs": [
    {
     "data": {
      "text/plain": [
       "{'input': 'What are some of his famous quotes?',\n",
       " 'history': [HumanMessage(content='When was Nelson Mandela born?', additional_kwargs={}, response_metadata={}),\n",
       "  AIMessage(content='Unfortunately, I was unable to find the birthdate of Nelson Mandela.', additional_kwargs={}, response_metadata={}),\n",
       "  HumanMessage(content='When was Nelson Mandela born?', additional_kwargs={}, response_metadata={}),\n",
       "  AIMessage(content='Nelson Mandela was born on July 18, 1918.', additional_kwargs={}, response_metadata={})],\n",
       " 'output': 'Here are some of Nelson Mandela\\'s famous quotes:\\n\\n1. \"Education is the most powerful weapon which you can use to change the world.\"\\n2. \"I like friends who have independent minds because they tend to make you see problems from all angles.\"\\n3. \"Man\\'s goodness is a flame that can be hidden but never extinguished.\"\\n4. \"The greatest glory in living lies not in never falling, but in rising every time we fall.\"\\n5. \"For to be free is not merely to cast off one\\'s chains, but to live in a way that respects and enhances the freedom of others.\"\\n6. \"No one is born hating another person because of the color of his skin, or his background, or his religion. People must learn to hate, and if they can learn to hate, they can be taught to love, for love comes more naturally to the human heart than its opposite.\"\\n7. \"I have walked that long road to freedom. I have tried not to falter; I have made missteps along the way. But I have discovered the secret that after climbing a great hill, one only finds that there are many more hills to climb.\"\\n8. \"The greatest glory in living lies not in never falling, but in rising every time we fall.\"\\n9. \"For to be free is not merely to cast off one\\'s chains, but to live in a way that respects and enhances the freedom of others.\"\\n10. \"I am not a saint, unless you think of a saint as a sinner who keeps on trying.\"\\n\\nThese quotes capture Nelson Mandela\\'s wisdom, resilience, and leadership, and inspire us to strive for a world where everyone is treated with equality and respect.'}"
      ]
     },
     "execution_count": 18,
     "metadata": {},
     "output_type": "execute_result"
    }
   ],
   "source": [
    "result"
   ]
  },
  {
   "cell_type": "code",
   "execution_count": 20,
   "id": "97794aa1",
   "metadata": {},
   "outputs": [
    {
     "name": "stdout",
     "output_type": "stream",
     "text": [
      "Here are some of Nelson Mandela's famous quotes:\n",
      "\n",
      "1. \"Education is the most powerful weapon which you can use to change the world.\"\n",
      "2. \"I like friends who have independent minds because they tend to make you see problems from all angles.\"\n",
      "3. \"Man's goodness is a flame that can be hidden but never extinguished.\"\n",
      "4. \"The greatest glory in living lies not in never falling, but in rising every time we fall.\"\n",
      "5. \"For to be free is not merely to cast off one's chains, but to live in a way that respects and enhances the freedom of others.\"\n",
      "6. \"No one is born hating another person because of the color of his skin, or his background, or his religion. People must learn to hate, and if they can learn to hate, they can be taught to love, for love comes more naturally to the human heart than its opposite.\"\n",
      "7. \"I have walked that long road to freedom. I have tried not to falter; I have made missteps along the way. But I have discovered the secret that after climbing a great hill, one only finds that there are many more hills to climb.\"\n",
      "8. \"The greatest glory in living lies not in never falling, but in rising every time we fall.\"\n",
      "9. \"For to be free is not merely to cast off one's chains, but to live in a way that respects and enhances the freedom of others.\"\n",
      "10. \"I am not a saint, unless you think of a saint as a sinner who keeps on trying.\"\n",
      "\n",
      "These quotes capture Nelson Mandela's wisdom, resilience, and leadership, and inspire us to strive for a world where everyone is treated with equality and respect.\n"
     ]
    }
   ],
   "source": [
    "print(result['output'])"
   ]
  },
  {
   "cell_type": "code",
   "execution_count": null,
   "id": "94b5b66c",
   "metadata": {},
   "outputs": [],
   "source": []
  }
 ],
 "metadata": {
  "kernelspec": {
   "display_name": "Python 3",
   "language": "python",
   "name": "python3"
  },
  "language_info": {
   "codemirror_mode": {
    "name": "ipython",
    "version": 3
   },
   "file_extension": ".py",
   "mimetype": "text/x-python",
   "name": "python",
   "nbconvert_exporter": "python",
   "pygments_lexer": "ipython3",
   "version": "3.10.0"
  }
 },
 "nbformat": 4,
 "nbformat_minor": 5
}
